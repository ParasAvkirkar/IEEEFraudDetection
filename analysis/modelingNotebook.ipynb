{
 "cells": [
  {
   "cell_type": "markdown",
   "metadata": {
    "colab_type": "text",
    "id": "8qw0gJdZTBf9"
   },
   "source": [
    "# Homework 2 - IEEE Fraud Detection"
   ]
  },
  {
   "cell_type": "markdown",
   "metadata": {
    "colab_type": "text",
    "id": "C-80k8srTBf-"
   },
   "source": [
    "For all parts below, answer all parts as shown in the Google document for Homework 2. Be sure to include both code that justifies your answer as well as text to answer the questions. We also ask that code be commented to make it easier to follow."
   ]
  },
  {
   "cell_type": "markdown",
   "metadata": {
    "colab_type": "text",
    "id": "BoVV2qQWTBf-"
   },
   "source": [
    "## Part 1 - Fraudulent vs Non-Fraudulent Transaction"
   ]
  },
  {
   "cell_type": "code",
   "execution_count": 3,
   "metadata": {
    "colab": {},
    "colab_type": "code",
    "id": "Gj20jgTCgvyu"
   },
   "outputs": [],
   "source": [
    "# Taking all imports for processing\n",
    "import pandas as pd\n",
    "import random\n",
    "import numpy as np\n",
    "import matplotlib.pyplot as plt\n",
    "import seaborn as sns\n",
    "from pandas.plotting import autocorrelation_plot\n",
    "from sklearn.model_selection import train_test_split\n",
    "from sklearn.linear_model import LogisticRegression\n",
    "from sklearn import tree\n",
    "from sklearn.metrics import precision_recall_fscore_support\n",
    "from sklearn.metrics import confusion_matrix\n",
    "from sklearn.metrics import roc_auc_score"
   ]
  },
  {
   "cell_type": "code",
   "execution_count": 5,
   "metadata": {
    "colab": {},
    "colab_type": "code",
    "id": "pw4TmO0daKML"
   },
   "outputs": [],
   "source": [
    "# loading train-data in dataframes\n",
    "train_identity_df = pd.read_csv(\"../data/train_identity.csv\")\n",
    "train_transaction_df = pd.read_csv(\"../data/train_transaction.csv\")\n",
    "global_df = pd.merge(left=train_transaction_df, right=train_identity_df, left_on=[\"TransactionID\"],\n",
    "                                       right_on=\"TransactionID\", how=\"left\")\n",
    "# Since Part 1 to 5 would only involve following fields\n",
    "# TransactionID,DeviceType,DeviceInfo,TransactionDT,TransactionAmt,ProductCD,card4,card6,P_emaildomain,R_emaildomain,addr1,addr2,dist1,dist2\n",
    "# Loading above necessary fields into base dataframe\n",
    "# And performing EDA on these data\n",
    "basic_fields_df = global_df[[\"TransactionID\", \"TransactionDT\", \"TransactionAmt\",\n",
    "                                              \"ProductCD\", \"card4\", \"card6\", \"P_emaildomain\", \"R_emaildomain\", \n",
    "                                              \"addr1\", \"addr2\", \"dist1\", \"dist2\", \"isFraud\", \"DeviceType\", \"DeviceInfo\"]]"
   ]
  },
  {
   "cell_type": "markdown",
   "metadata": {},
   "source": [
    "## Part 6 - Prediction Model"
   ]
  },
  {
   "cell_type": "markdown",
   "metadata": {},
   "source": [
    "## Checking Duplicates for the significant fields across whole data-set\n",
    "Testing whether there are any duplicates in the base data (TransactionID, DeviceType, DeviceInfo, TransactionDT, TransactionAmt, ProductCD, addr1, addr2, dist1, dist2, card4, card6, P_emaildomain, R_emaildomain) of transactions and devices.\n",
    "\n",
    "---\n",
    "\n",
    "Found that there are no duplicates since shape on `base_df[base_duplicates]` responds with 0 count against number of rows\n"
   ]
  },
  {
   "cell_type": "code",
   "execution_count": 6,
   "metadata": {},
   "outputs": [
    {
     "name": "stdout",
     "output_type": "stream",
     "text": [
      "Number of duplicates in base fields: 0\n"
     ]
    }
   ],
   "source": [
    "base_duplicates = basic_fields_df.duplicated()\n",
    "print(\"Number of duplicates in base fields: \" + str(basic_fields_df[base_duplicates].shape[0]))"
   ]
  },
  {
   "cell_type": "code",
   "execution_count": 7,
   "metadata": {},
   "outputs": [
    {
     "data": {
      "text/plain": [
       "dist2             552913\n",
       "DeviceInfo        471874\n",
       "R_emaildomain     453249\n",
       "DeviceType        449730\n",
       "dist1             352271\n",
       "P_emaildomain      94456\n",
       "addr2              65706\n",
       "addr1              65706\n",
       "card4               1577\n",
       "card6               1571\n",
       "isFraud                0\n",
       "ProductCD              0\n",
       "TransactionAmt         0\n",
       "TransactionDT          0\n",
       "TransactionID          0\n",
       "dtype: int64"
      ]
     },
     "execution_count": 7,
     "metadata": {},
     "output_type": "execute_result"
    }
   ],
   "source": [
    "basic_fields_df.isnull().sum().sort_values(ascending=False)"
   ]
  },
  {
   "cell_type": "code",
   "execution_count": 8,
   "metadata": {},
   "outputs": [
    {
     "data": {
      "text/plain": [
       "TransactionID       int64\n",
       "TransactionDT       int64\n",
       "TransactionAmt    float64\n",
       "ProductCD          object\n",
       "card4              object\n",
       "card6              object\n",
       "P_emaildomain      object\n",
       "R_emaildomain      object\n",
       "addr1             float64\n",
       "addr2             float64\n",
       "dist1             float64\n",
       "dist2             float64\n",
       "isFraud             int64\n",
       "DeviceType         object\n",
       "DeviceInfo         object\n",
       "dtype: object"
      ]
     },
     "execution_count": 8,
     "metadata": {},
     "output_type": "execute_result"
    }
   ],
   "source": [
    "basic_fields_df.dtypes"
   ]
  },
  {
   "cell_type": "code",
   "execution_count": 19,
   "metadata": {},
   "outputs": [],
   "source": [
    "modified_df = basic_fields_df.copy(deep=True)"
   ]
  },
  {
   "cell_type": "markdown",
   "metadata": {},
   "source": [
    "## Cleaning and Pre-Processing ##"
   ]
  },
  {
   "cell_type": "markdown",
   "metadata": {},
   "source": [
    "### [A] Dealing with missing values in card data in card6 field ###\n",
    "#### Citation (https://towardsdatascience.com/the-ultimate-guide-to-data-cleaning-3969843991d4) ####\n",
    "The strategy to handle missing values in card6 is as follows:\n",
    "1.  During our previous EDA we observed that 48% of fraud transactions were done with credit card and 51% done with debit card.\n",
    "    Also, for non-fraud transactions credit card was used 24% and 75% of times respectively\n",
    "2.  Now, we will fill the missing values for card6 fields with either 'credit' or 'debit' value based on following criteria:\n",
    "\n",
    "    a.  If it's a fraud transaction assign value 'credit' or 'debit' with ratio of randomness of 48 to 51\n",
    "    \n",
    "    b.  If it's a non-fraud transaction assign 'credit' or 'debit' with ratio of randomness of 24 to 75"
   ]
  },
  {
   "cell_type": "code",
   "execution_count": 20,
   "metadata": {},
   "outputs": [
    {
     "name": "stdout",
     "output_type": "stream",
     "text": [
      "Index count: Fraud -> (39,), Non-Fraud ->(1532,)\n",
      "Fraud card6 filling, done with 0 , remaining: 39\n",
      "Non fraud card6 filling, done with 0 , of: 1532\n",
      "Non fraud card6 filling, done with 100 , of: 1432\n",
      "Non fraud card6 filling, done with 200 , of: 1332\n",
      "Non fraud card6 filling, done with 300 , of: 1232\n",
      "Non fraud card6 filling, done with 400 , of: 1132\n",
      "Non fraud card6 filling, done with 500 , of: 1032\n",
      "Non fraud card6 filling, done with 600 , of: 932\n",
      "Non fraud card6 filling, done with 700 , of: 832\n",
      "Non fraud card6 filling, done with 800 , of: 732\n",
      "Non fraud card6 filling, done with 900 , of: 632\n",
      "Non fraud card6 filling, done with 1000 , of: 532\n",
      "Non fraud card6 filling, done with 1100 , of: 432\n",
      "Non fraud card6 filling, done with 1200 , of: 332\n",
      "Non fraud card6 filling, done with 1300 , of: 232\n",
      "Non fraud card6 filling, done with 1400 , of: 132\n",
      "Non fraud card6 filling, done with 1500 , of: 32\n"
     ]
    }
   ],
   "source": [
    "non_fraud_indices = modified_df.index[((modified_df.isFraud == 0 ) & modified_df.card6.isnull())]\n",
    "fraud_indices = modified_df.index[((modified_df.isFraud == 1) & (modified_df.card6.isnull()))]\n",
    "print( \"Index count: Fraud -> \"+ str(fraud_indices.shape) + \", Non-Fraud ->\" +  str(non_fraud_indices.shape))\n",
    "\n",
    "fraud_card6_replacements = random.choices(['credit', 'debit'], [48, 51], k=fraud_indices.shape[0])\n",
    "non_fraud_card6_replacements = random.choices(['credit', 'debit'], [24, 75], k=non_fraud_indices.shape[0])\n",
    "\n",
    "i = 0\n",
    "for index in fraud_indices:\n",
    "    modified_df.iloc[index, modified_df.columns.get_loc('card6')] = fraud_card6_replacements[i]\n",
    "    if i % 100 == 0:\n",
    "        print(\"Fraud card6 filling, done with \" + str(i) + \" , remaining: \" + str(len(fraud_indices) - i))\n",
    "    i += 1\n",
    "    \n",
    "i = 0\n",
    "for index in non_fraud_indices:\n",
    "    modified_df.iloc[index, modified_df.columns.get_loc('card6')] = non_fraud_card6_replacements[i]\n",
    "    if i % 100 == 0:\n",
    "        print(\"Non fraud card6 filling, done with \" + str(i) + \" , of: \" + str(len(non_fraud_indices) - i))\n",
    "    i += 1\n",
    "# modified_df.card6.isnull().sum()"
   ]
  },
  {
   "cell_type": "markdown",
   "metadata": {},
   "source": [
    "### Cleaning card-issuer data in card4 field ###"
   ]
  },
  {
   "cell_type": "code",
   "execution_count": 21,
   "metadata": {},
   "outputs": [
    {
     "name": "stdout",
     "output_type": "stream",
     "text": [
      "Index count: Fraud -> (41,), Non-Fraud ->(1536,)\n",
      "Fraud, Filling card4 field, done with 0 , of: 41\n",
      "Fraud, Filling card4 field, done with 0 , of: 1536\n",
      "Fraud, Filling card4 field, done with 100 , of: 1536\n",
      "Fraud, Filling card4 field, done with 200 , of: 1536\n",
      "Fraud, Filling card4 field, done with 300 , of: 1536\n",
      "Fraud, Filling card4 field, done with 400 , of: 1536\n",
      "Fraud, Filling card4 field, done with 500 , of: 1536\n",
      "Fraud, Filling card4 field, done with 600 , of: 1536\n",
      "Fraud, Filling card4 field, done with 700 , of: 1536\n",
      "Fraud, Filling card4 field, done with 800 , of: 1536\n",
      "Fraud, Filling card4 field, done with 900 , of: 1536\n",
      "Fraud, Filling card4 field, done with 1000 , of: 1536\n",
      "Fraud, Filling card4 field, done with 1100 , of: 1536\n",
      "Fraud, Filling card4 field, done with 1200 , of: 1536\n",
      "Fraud, Filling card4 field, done with 1300 , of: 1536\n",
      "Fraud, Filling card4 field, done with 1400 , of: 1536\n",
      "Fraud, Filling card4 field, done with 1500 , of: 1536\n"
     ]
    }
   ],
   "source": [
    "non_fraud_indices = modified_df.index[((modified_df.isFraud == 0 ) & modified_df.card4.isnull())]\n",
    "fraud_indices = modified_df.index[((modified_df.isFraud == 1) & (modified_df.card4.isnull()))]\n",
    "print( \"Index count: Fraud -> \"+ str(fraud_indices.shape) + \", Non-Fraud ->\" +  str(non_fraud_indices.shape))\n",
    "\n",
    "fraud_card4_replacements = random.choices(['visa', 'mastercard', 'american express', 'discover'], [64, 31, 1, 2], k=fraud_indices.shape[0])\n",
    "non_fraud_card4_replacements = random.choices(['visa', 'mastercard', 'american express', 'discover'], [65, 32, 1, 1], k=non_fraud_indices.shape[0])\n",
    "\n",
    "i = 0\n",
    "for index in fraud_indices:\n",
    "    modified_df.iloc[index, modified_df.columns.get_loc('card4')] = fraud_card4_replacements[i]\n",
    "    if i % 100 == 0:\n",
    "        print(\"Fraud, Filling card4 field, done with \" + str(i) + \" , of: \" + str(len(fraud_indices)))\n",
    "    i += 1\n",
    "    \n",
    "i = 0\n",
    "for index in non_fraud_indices:\n",
    "    modified_df.iloc[index, modified_df.columns.get_loc('card4')] = non_fraud_card4_replacements[i]\n",
    "    if i % 100 == 0:\n",
    "        print(\"Fraud, Filling card4 field, done with \" + str(i) + \" , of: \" + str(len(non_fraud_indices)))\n",
    "    i += 1\n",
    "# modified_df.card6.isnull().sum()"
   ]
  },
  {
   "cell_type": "markdown",
   "metadata": {},
   "source": [
    "### [B] Mapping multiple similar email domains to a single parent domain ###"
   ]
  },
  {
   "cell_type": "code",
   "execution_count": 22,
   "metadata": {},
   "outputs": [],
   "source": [
    "email_domain_map = {\n",
    "\t'gmail.com': ['gmail.com', 'gmail'], \n",
    "  \t'yahoo.com': ['yahoo.com', 'yahoo.com.mx', 'ymail.com', 'yahoo.de', 'yahoo.fr', 'yahoo.es', 'yahoo.co.uk', 'yahoo.co.jp'] , \n",
    "  \t'hotmail.com': ['hotmail.com', 'outlook.com', 'live.com.mx', 'hotmail.es', 'msn.com', 'live.com', 'outlook.es', 'hotmail.de', 'hotmail.fr', 'hotmail.co.uk'],\n",
    "  \t'netzero.net': ['netzero.com', 'netzero.net'] ,\n",
    "  \t'icloud.com': ['mac.com', 'icloud.com']\n",
    "}\n",
    "\n",
    "reverse_email_domain_map = {}\n",
    "for root_domain in email_domain_map:\n",
    "    for domain in email_domain_map[root_domain]:\n",
    "        reverse_email_domain_map[domain] = root_domain\n",
    "# reverse_email_domain_map\n",
    "\n",
    "modified_df['P_emaildomain'] = modified_df['P_emaildomain'].apply(lambda x: reverse_email_domain_map[x] if x in reverse_email_domain_map else x)\n",
    "modified_df['R_emaildomain'] = modified_df['R_emaildomain'].apply(lambda x: reverse_email_domain_map[x] if x in reverse_email_domain_map else x)"
   ]
  },
  {
   "cell_type": "markdown",
   "metadata": {},
   "source": [
    "### Citation: ###\n",
    "1. https://www.pluralsight.com/guides/handling-categorical-data-in-machine-learning-models\n",
    "2. https://medium.com/@contactsunny/label-encoder-vs-one-hot-encoder-in-machine-learning-3fc273365621\n",
    "3. http://www.insightsbot.com/blog/McTKK/python-one-hot-encoding-with-scikit-learn\n",
    "4. http://queirozf.com/entries/one-hot-encoding-a-feature-on-a-pandas-dataframe-an-example\n",
    "5. https://towardsdatascience.com/handling-imbalanced-datasets-in-machine-learning-7a0e84220f28\n",
    "6. https://discuss.analyticsvidhya.com/t/how-to-handle-missing-values-of-categorical-variables/310"
   ]
  },
  {
   "cell_type": "code",
   "execution_count": 23,
   "metadata": {},
   "outputs": [],
   "source": [
    "modified_df['addr1'] = modified_df['addr1'].fillna('special_region')\n",
    "modified_df['addr2'] = modified_df['addr2'].fillna('special_country')"
   ]
  },
  {
   "cell_type": "code",
   "execution_count": 24,
   "metadata": {},
   "outputs": [],
   "source": [
    "def one_hot_encode(df, col_name, col_prefix=''):\n",
    "    if len(col_prefix) > 0:\n",
    "        one_hot_encoding = pd.get_dummies(df[col_name], prefix=col_prefix)\n",
    "    else:\n",
    "        one_hot_encoding = pd.get_dummies(df[col_name])\n",
    "    new_df = df.copy(deep=True)\n",
    "    new_df = new_df.drop(col_name, axis=1)\n",
    "    new_df = new_df.join(one_hot_encoding)\n",
    "    \n",
    "    return new_df"
   ]
  },
  {
   "cell_type": "code",
   "execution_count": 25,
   "metadata": {},
   "outputs": [],
   "source": [
    "pre_processing_df = modified_df.drop(['TransactionID', 'dist1', 'dist2', 'DeviceInfo'], axis = 1)\n",
    "# modeling_df.head()"
   ]
  },
  {
   "cell_type": "code",
   "execution_count": 26,
   "metadata": {},
   "outputs": [],
   "source": [
    "pre_processing_df = one_hot_encode(pre_processing_df, 'card4')\n",
    "pre_processing_df = one_hot_encode(pre_processing_df, 'card6')\n",
    "pre_processing_df = one_hot_encode(pre_processing_df, 'P_emaildomain', col_prefix='purchaser_')\n",
    "pre_processing_df = one_hot_encode(pre_processing_df, 'R_emaildomain', col_prefix='recipient_')\n",
    "pre_processing_df = one_hot_encode(pre_processing_df, 'ProductCD')\n",
    "pre_processing_df = one_hot_encode(pre_processing_df, 'DeviceType')\n",
    "pre_processing_df = one_hot_encode(pre_processing_df, 'addr1', col_prefix='addr1_')\n",
    "pre_processing_df = one_hot_encode(pre_processing_df, 'addr2', col_prefix='addr2_')"
   ]
  },
  {
   "cell_type": "code",
   "execution_count": 27,
   "metadata": {},
   "outputs": [],
   "source": [
    "input_dataset_x = pre_processing_df.drop(['isFraud'], axis=1)\n",
    "input_dataset_y = pre_processing_df['isFraud']"
   ]
  },
  {
   "cell_type": "code",
   "execution_count": 28,
   "metadata": {},
   "outputs": [],
   "source": [
    "X_train, X_test, y_train, y_test = train_test_split(input_dataset_x, input_dataset_y, random_state=31)"
   ]
  },
  {
   "cell_type": "code",
   "execution_count": 54,
   "metadata": {},
   "outputs": [],
   "source": [
    "def plot_confusion_matrix(y_test, y_predictions, labels=[1,0]):\n",
    "    mat = confusion_matrix(y_test, y_predictions, labels)\n",
    "    print(\"Confusion Marix: \")\n",
    "    print(str(mat))\n",
    "    sns.heatmap(mat, cmap=\"YlGnBu\")\n",
    "    plt.tight_layout()\n",
    "    \n",
    "    return mat"
   ]
  },
  {
   "cell_type": "markdown",
   "metadata": {},
   "source": [
    "### Citation:\n",
    "1.  https://scikit-learn.org/0.15/modules/generated/sklearn.linear_model.LogisticRegression.html#examples-using-sklearn-linear-model-logisticregression"
   ]
  },
  {
   "cell_type": "code",
   "execution_count": 29,
   "metadata": {},
   "outputs": [],
   "source": [
    "classifier = LogisticRegression(solver='lbfgs').fit(X_train, y_train)"
   ]
  },
  {
   "cell_type": "code",
   "execution_count": 62,
   "metadata": {},
   "outputs": [
    {
     "name": "stdout",
     "output_type": "stream",
     "text": [
      "Confusion Marix: \n",
      "[[     0   5095]\n",
      " [     0 142540]]\n",
      "Logistic regression accuracy: 0.9654892132624378\n",
      "Precision-Recall-Fscore-Support -> (0.0, 0.0, 0.0, None)\n"
     ]
    },
    {
     "name": "stderr",
     "output_type": "stream",
     "text": [
      "C:\\Users\\Paras\\Anaconda3\\lib\\site-packages\\sklearn\\metrics\\classification.py:1437: UndefinedMetricWarning: Precision and F-score are ill-defined and being set to 0.0 due to no predicted samples.\n",
      "  'precision', 'predicted', average, warn_for)\n"
     ]
    },
    {
     "data": {
      "image/png": "[encoded data removed]",
      "text/plain": [
       "<Figure size 432x288 with 2 Axes>"
      ]
     },
     "metadata": {
      "needs_background": "light"
     },
     "output_type": "display_data"
    }
   ],
   "source": [
    "y_predictions = classifier.predict(X_test)\n",
    "accuracy_score = classifier.score(X_test, y_test)\n",
    "confusion_mat = plot_confusion_matrix(y_test, y_predictions)\n",
    "print(\"Logistic regression accuracy: \" + str(accuracy_score))\n",
    "prfs = precision_recall_fscore_support(y_test, y_predictions, average='binary')\n",
    "print(\"Precision-Recall-Fscore-Support -> \" + str(prfs))"
   ]
  },
  {
   "cell_type": "markdown",
   "metadata": {},
   "source": [
    "### Citation: Confusion Matrix\n",
    "1.  https://scikit-learn.org/stable/modules/generated/sklearn.metrics.confusion_matrix.html"
   ]
  },
  {
   "cell_type": "code",
   "execution_count": 59,
   "metadata": {},
   "outputs": [],
   "source": [
    "dt_classifier = tree.DecisionTreeClassifier()\n",
    "dt_classifier = dt_classifier.fit(X_train, y_train)"
   ]
  },
  {
   "cell_type": "code",
   "execution_count": 63,
   "metadata": {},
   "outputs": [
    {
     "name": "stdout",
     "output_type": "stream",
     "text": [
      "Confusion Marix: \n",
      "[[  2936   2159]\n",
      " [  2764 139776]]\n",
      "Decision Tree accuracy: 0.9666542486537745\n",
      "Precision-Recall-Fscore-Support -> (0.5150877192982456, 0.5762512266928361, 0.5439555349698935, None)\n"
     ]
    },
    {
     "data": {
      "image/png": "[encoded data removed]",
      "text/plain": [
       "<Figure size 432x288 with 2 Axes>"
      ]
     },
     "metadata": {
      "needs_background": "light"
     },
     "output_type": "display_data"
    }
   ],
   "source": [
    "y_predictions = dt_classifier.predict(X_test)\n",
    "accuracy_score = dt_classifier.score(X_test, y_test)\n",
    "confusion_mat = plot_confusion_matrix(y_test, y_predictions)\n",
    "print(\"Decision Tree accuracy: \" + str(accuracy_score))\n",
    "prfs = precision_recall_fscore_support(y_test, y_predictions, average='binary')\n",
    "print(\"Precision-Recall-Fscore-Support -> \" + str(prfs))"
   ]
  },
  {
   "cell_type": "markdown",
   "metadata": {},
   "source": [
    "### Citation:\n",
    "1.  https://scikit-learn.org/stable/modules/generated/sklearn.metrics.precision_recall_fscore_support.html"
   ]
  },
  {
   "cell_type": "code",
   "execution_count": 47,
   "metadata": {},
   "outputs": [
    {
     "data": {
      "text/plain": [
       "(0.5139130434782608, 0.5799803729146222, 0.5449515905947442, None)"
      ]
     },
     "execution_count": 47,
     "metadata": {},
     "output_type": "execute_result"
    }
   ],
   "source": []
  },
  {
   "cell_type": "code",
   "execution_count": 50,
   "metadata": {},
   "outputs": [
    {
     "data": {
      "text/plain": [
       "(5095,)"
      ]
     },
     "execution_count": 50,
     "metadata": {},
     "output_type": "execute_result"
    }
   ],
   "source": [
    "y_test[y_test == 1].shape"
   ]
  },
  {
   "cell_type": "code",
   "execution_count": 53,
   "metadata": {},
   "outputs": [
    {
     "data": {
      "text/plain": [
       "array([[9.99194533e-01, 8.05467270e-04],\n",
       "       [9.98965205e-01, 1.03479476e-03],\n",
       "       [9.93256770e-01, 6.74323022e-03],\n",
       "       ...,\n",
       "       [9.96259534e-01, 3.74046646e-03],\n",
       "       [9.82805029e-01, 1.71949714e-02],\n",
       "       [9.98095688e-01, 1.90431223e-03]])"
      ]
     },
     "execution_count": 53,
     "metadata": {},
     "output_type": "execute_result"
    }
   ],
   "source": [
    "classifier.predict_proba(X_test)"
   ]
  },
  {
   "cell_type": "markdown",
   "metadata": {},
   "source": [
    "### Citations ###\n",
    "1. https://scikit-learn.org/stable/modules/generated/sklearn.metrics.precision_recall_fscore_support.html\n",
    "2. https://www.youtube.com/watch?v=4jRBRDbJemM"
   ]
  },
  {
   "cell_type": "code",
   "execution_count": 165,
   "metadata": {},
   "outputs": [
    {
     "data": {
      "text/plain": [
       "0.5"
      ]
     },
     "execution_count": 165,
     "metadata": {},
     "output_type": "execute_result"
    }
   ],
   "source": [
    "roc_auc_score(y_test, predictions)"
   ]
  },
  {
   "cell_type": "code",
   "execution_count": 164,
   "metadata": {},
   "outputs": [],
   "source": [
    "pass"
   ]
  },
  {
   "cell_type": "code",
   "execution_count": 127,
   "metadata": {},
   "outputs": [
    {
     "data": {
      "text/plain": [
       "0.9651166728756732"
      ]
     },
     "execution_count": 127,
     "metadata": {},
     "output_type": "execute_result"
    }
   ],
   "source": [
    "classifier.score(X_test, y_test)"
   ]
  },
  {
   "cell_type": "markdown",
   "metadata": {
    "colab_type": "text",
    "id": "yoJX5RDmTBgO"
   },
   "source": [
    "## Part 7 - Final Result"
   ]
  },
  {
   "cell_type": "markdown",
   "metadata": {
    "colab_type": "text",
    "id": "SpZZk0HHTBgP"
   },
   "source": [
    "Report the rank, score, number of entries, for your highest rank. Include a snapshot of your best score on the leaderboard as confirmation. Be sure to provide a link to your Kaggle profile. Make sure to include a screenshot of your ranking. Make sure your profile includes your face and affiliation with SBU."
   ]
  },
  {
   "cell_type": "markdown",
   "metadata": {
    "colab_type": "text",
    "id": "InjGZA_ETBgP"
   },
   "source": [
    "Kaggle Link: FILL HERE"
   ]
  },
  {
   "cell_type": "markdown",
   "metadata": {
    "colab_type": "text",
    "id": "AN_l82l7TBgQ"
   },
   "source": [
    "Highest Rank: FILL HERE"
   ]
  },
  {
   "cell_type": "markdown",
   "metadata": {
    "colab_type": "text",
    "id": "Wp_wU_BMTBgR"
   },
   "source": [
    "Score: FILL HERE"
   ]
  },
  {
   "cell_type": "markdown",
   "metadata": {
    "colab_type": "text",
    "id": "xeRlj35rTBgR"
   },
   "source": [
    "Number of entries: FILL HERE"
   ]
  },
  {
   "cell_type": "markdown",
   "metadata": {
    "colab_type": "text",
    "id": "2ZBbLTVPTBgR"
   },
   "source": [
    "INCLUDE IMAGE OF YOUR KAGGLE RANKING"
   ]
  }
 ],
 "metadata": {
  "accelerator": "GPU",
  "colab": {
   "collapsed_sections": [],
   "name": "CSE519 HW2.ipynb",
   "provenance": [],
   "toc_visible": true,
   "version": "0.3.2"
  },
  "kernelspec": {
   "display_name": "Python 3",
   "language": "python",
   "name": "python3"
  },
  "language_info": {
   "codemirror_mode": {
    "name": "ipython",
    "version": 3
   },
   "file_extension": ".py",
   "mimetype": "text/x-python",
   "name": "python",
   "nbconvert_exporter": "python",
   "pygments_lexer": "ipython3",
   "version": "3.7.3"
  }
 },
 "nbformat": 4,
 "nbformat_minor": 4
}
