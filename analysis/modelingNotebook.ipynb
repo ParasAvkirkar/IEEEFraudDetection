{
 "cells": [
  {
   "cell_type": "markdown",
   "metadata": {
    "colab_type": "text",
    "id": "8qw0gJdZTBf9"
   },
   "source": [
    "# Homework 2 - IEEE Fraud Detection"
   ]
  },
  {
   "cell_type": "markdown",
   "metadata": {
    "colab_type": "text",
    "id": "C-80k8srTBf-"
   },
   "source": [
    "For all parts below, answer all parts as shown in the Google document for Homework 2. Be sure to include both code that justifies your answer as well as text to answer the questions. We also ask that code be commented to make it easier to follow."
   ]
  },
  {
   "cell_type": "markdown",
   "metadata": {
    "colab_type": "text",
    "id": "BoVV2qQWTBf-"
   },
   "source": [
    "## Part 1 - Fraudulent vs Non-Fraudulent Transaction"
   ]
  },
  {
   "cell_type": "code",
   "execution_count": 152,
   "metadata": {
    "colab": {},
    "colab_type": "code",
    "id": "Gj20jgTCgvyu"
   },
   "outputs": [],
   "source": [
    "# Taking all imports for processing\n",
    "import pandas as pd\n",
    "import random\n",
    "import numpy as np\n",
    "import matplotlib.pyplot as plt\n",
    "import seaborn as sns\n",
    "from pandas.plotting import autocorrelation_plot\n",
    "from sklearn.model_selection import train_test_split"
   ]
  },
  {
   "cell_type": "code",
   "execution_count": 125,
   "metadata": {
    "colab": {},
    "colab_type": "code",
    "id": "pw4TmO0daKML"
   },
   "outputs": [],
   "source": [
    "# loading train-data in dataframes\n",
    "train_identity_df = pd.read_csv(\"../data/train_identity.csv\")\n",
    "train_transaction_df = pd.read_csv(\"../data/train_transaction.csv\")\n",
    "global_df = pd.merge(left=train_transaction_df, right=train_identity_df, left_on=[\"TransactionID\"],\n",
    "                                       right_on=\"TransactionID\", how=\"left\")\n",
    "# Since Part 1 to 5 would only involve following fields\n",
    "# TransactionID,DeviceType,DeviceInfo,TransactionDT,TransactionAmt,ProductCD,card4,card6,P_emaildomain,R_emaildomain,addr1,addr2,dist1,dist2\n",
    "# Loading above necessary fields into base dataframe\n",
    "# And performing EDA on these data\n",
    "basic_fields_df = global_df[[\"TransactionID\", \"TransactionDT\", \"TransactionAmt\",\n",
    "                                              \"ProductCD\", \"card4\", \"card6\", \"P_emaildomain\", \"R_emaildomain\", \n",
    "                                              \"addr1\", \"addr2\", \"dist1\", \"dist2\", \"isFraud\", \"DeviceType\", \"DeviceInfo\"]]"
   ]
  },
  {
   "cell_type": "code",
   "execution_count": 3,
   "metadata": {
    "colab": {
     "base_uri": "https://localhost:8080/",
     "height": 35
    },
    "colab_type": "code",
    "id": "RzfKUUFBhZO8",
    "outputId": "1330e5b7-6007-4fc1-ac24-d2160aae6337"
   },
   "outputs": [
    {
     "name": "stdout",
     "output_type": "stream",
     "text": [
      "Fraudulent instances: 20663 | Non Fraudulent instances: 569877\n"
     ]
    }
   ],
   "source": [
    "fraudulent_df = basic_fields_df[basic_fields_df.isFraud == 1]\n",
    "non_fraudulent_df = basic_fields_df[basic_fields_df.isFraud == 0]\n",
    "rows_in_fraud = fraudulent_df.shape[0]\n",
    "rows_in_non_fraud = non_fraudulent_df.shape[0]\n",
    "total_rows = basic_fields_df.shape[0]\n",
    "print(\"Fraudulent instances: {0} | Non Fraudulent instances: {1}\".format(str(rows_in_fraud), str(rows_in_non_fraud)))"
   ]
  },
  {
   "cell_type": "code",
   "execution_count": 4,
   "metadata": {
    "colab": {},
    "colab_type": "code",
    "id": "n00QbEsw7qZm"
   },
   "outputs": [],
   "source": [
    "# Cite: https://stackoverflow.com/questions/41681693/pandas-isnull-sum-with-column-headers"
   ]
  },
  {
   "cell_type": "markdown",
   "metadata": {
    "colab_type": "text",
    "id": "6OnOPyGf0pRK"
   },
   "source": [
    "### Comparing nulls between fraudulent and non-fraudulent data-set ###"
   ]
  },
  {
   "cell_type": "code",
   "execution_count": 5,
   "metadata": {
    "colab": {
     "base_uri": "https://localhost:8080/",
     "height": 99
    },
    "colab_type": "code",
    "id": "_8vMwJ1Nspdx",
    "outputId": "ef0d5619-d5df-40c6-ad79-4d35b65dc9f8"
   },
   "outputs": [
    {
     "data": {
      "text/plain": [
       "<matplotlib.axes._subplots.AxesSubplot at 0x13818d7d358>"
      ]
     },
     "execution_count": 5,
     "metadata": {},
     "output_type": "execute_result"
    },
    {
     "data": {
      "image/png": "[encoded data removed]",
      "text/plain": [
       "<Figure size 432x288 with 1 Axes>"
      ]
     },
     "metadata": {
      "needs_background": "light"
     },
     "output_type": "display_data"
    }
   ],
   "source": [
    "# isnull() returns boolean array for each row\n",
    "# sum() on isnull() groups null values and take their sum returning a Series\n",
    "# the Series returned has null value for each column (which can be seen as index for that value in Series)\n",
    "# In the end, we take transpose() to convert index to column and corresponding row in Series to cell Value for that column\n",
    "non_fraudulent_null_stats = non_fraudulent_df.isnull().sum().sort_values(ascending=False)\n",
    "percent_non_fraud_nulls = non_fraudulent_null_stats * 100.0 / rows_in_non_fraud\n",
    "percent_non_fraud_nulls = percent_non_fraud_nulls.reset_index()\n",
    "percent_non_fraud_nulls = percent_non_fraud_nulls.rename(columns={'index': 'features', 0: 'null_percent'})\n",
    "\n",
    "fraudulent_null_stats = fraudulent_df.isnull().sum().sort_values(ascending=False)\n",
    "percent_fraud_nulls = fraudulent_null_stats * 100.0/ rows_in_fraud\n",
    "percent_fraud_nulls = percent_fraud_nulls.reset_index()\n",
    "percent_fraud_nulls = percent_fraud_nulls.rename(columns={'index': 'features', 0: 'null_percent'})\n",
    "\n",
    "total_null_stats = pd.merge(percent_fraud_nulls, percent_non_fraud_nulls, on='features', suffixes=['_in_fraud', '_in_non_fraud'])\n",
    "\n",
    "total_null_stats.plot.bar(x='features')"
   ]
  },
  {
   "cell_type": "code",
   "execution_count": 6,
   "metadata": {
    "colab": {
     "base_uri": "https://localhost:8080/",
     "height": 271
    },
    "colab_type": "code",
    "id": "D8qjWzhUMU91",
    "outputId": "e977590e-169b-4676-9821-65b423a960e5"
   },
   "outputs": [
    {
     "data": {
      "text/html": [
       "<div>\n",
       "<style scoped>\n",
       "    .dataframe tbody tr th:only-of-type {\n",
       "        vertical-align: middle;\n",
       "    }\n",
       "\n",
       "    .dataframe tbody tr th {\n",
       "        vertical-align: top;\n",
       "    }\n",
       "\n",
       "    .dataframe thead th {\n",
       "        text-align: right;\n",
       "    }\n",
       "</style>\n",
       "<table border=\"1\" class=\"dataframe\">\n",
       "  <thead>\n",
       "    <tr style=\"text-align: right;\">\n",
       "      <th></th>\n",
       "      <th>features</th>\n",
       "      <th>null_percent_in_fraud</th>\n",
       "      <th>null_percent_in_non_fraud</th>\n",
       "    </tr>\n",
       "  </thead>\n",
       "  <tbody>\n",
       "    <tr>\n",
       "      <th>0</th>\n",
       "      <td>dist2</td>\n",
       "      <td>81.943571</td>\n",
       "      <td>94.052050</td>\n",
       "    </tr>\n",
       "    <tr>\n",
       "      <th>1</th>\n",
       "      <td>dist1</td>\n",
       "      <td>76.987853</td>\n",
       "      <td>59.023789</td>\n",
       "    </tr>\n",
       "    <tr>\n",
       "      <th>2</th>\n",
       "      <td>DeviceInfo</td>\n",
       "      <td>58.345836</td>\n",
       "      <td>80.687236</td>\n",
       "    </tr>\n",
       "    <tr>\n",
       "      <th>3</th>\n",
       "      <td>DeviceType</td>\n",
       "      <td>45.743600</td>\n",
       "      <td>77.258426</td>\n",
       "    </tr>\n",
       "    <tr>\n",
       "      <th>4</th>\n",
       "      <td>R_emaildomain</td>\n",
       "      <td>45.666167</td>\n",
       "      <td>77.878735</td>\n",
       "    </tr>\n",
       "    <tr>\n",
       "      <th>5</th>\n",
       "      <td>addr2</td>\n",
       "      <td>37.463098</td>\n",
       "      <td>10.171493</td>\n",
       "    </tr>\n",
       "    <tr>\n",
       "      <th>6</th>\n",
       "      <td>addr1</td>\n",
       "      <td>37.463098</td>\n",
       "      <td>10.171493</td>\n",
       "    </tr>\n",
       "    <tr>\n",
       "      <th>7</th>\n",
       "      <td>P_emaildomain</td>\n",
       "      <td>13.502396</td>\n",
       "      <td>16.085225</td>\n",
       "    </tr>\n",
       "    <tr>\n",
       "      <th>8</th>\n",
       "      <td>card4</td>\n",
       "      <td>0.198422</td>\n",
       "      <td>0.269532</td>\n",
       "    </tr>\n",
       "    <tr>\n",
       "      <th>9</th>\n",
       "      <td>card6</td>\n",
       "      <td>0.188743</td>\n",
       "      <td>0.268830</td>\n",
       "    </tr>\n",
       "    <tr>\n",
       "      <th>10</th>\n",
       "      <td>isFraud</td>\n",
       "      <td>0.000000</td>\n",
       "      <td>0.000000</td>\n",
       "    </tr>\n",
       "    <tr>\n",
       "      <th>11</th>\n",
       "      <td>ProductCD</td>\n",
       "      <td>0.000000</td>\n",
       "      <td>0.000000</td>\n",
       "    </tr>\n",
       "    <tr>\n",
       "      <th>12</th>\n",
       "      <td>TransactionAmt</td>\n",
       "      <td>0.000000</td>\n",
       "      <td>0.000000</td>\n",
       "    </tr>\n",
       "    <tr>\n",
       "      <th>13</th>\n",
       "      <td>TransactionDT</td>\n",
       "      <td>0.000000</td>\n",
       "      <td>0.000000</td>\n",
       "    </tr>\n",
       "    <tr>\n",
       "      <th>14</th>\n",
       "      <td>TransactionID</td>\n",
       "      <td>0.000000</td>\n",
       "      <td>0.000000</td>\n",
       "    </tr>\n",
       "  </tbody>\n",
       "</table>\n",
       "</div>"
      ],
      "text/plain": [
       "          features  null_percent_in_fraud  null_percent_in_non_fraud\n",
       "0            dist2              81.943571                  94.052050\n",
       "1            dist1              76.987853                  59.023789\n",
       "2       DeviceInfo              58.345836                  80.687236\n",
       "3       DeviceType              45.743600                  77.258426\n",
       "4    R_emaildomain              45.666167                  77.878735\n",
       "5            addr2              37.463098                  10.171493\n",
       "6            addr1              37.463098                  10.171493\n",
       "7    P_emaildomain              13.502396                  16.085225\n",
       "8            card4               0.198422                   0.269532\n",
       "9            card6               0.188743                   0.268830\n",
       "10         isFraud               0.000000                   0.000000\n",
       "11       ProductCD               0.000000                   0.000000\n",
       "12  TransactionAmt               0.000000                   0.000000\n",
       "13   TransactionDT               0.000000                   0.000000\n",
       "14   TransactionID               0.000000                   0.000000"
      ]
     },
     "execution_count": 6,
     "metadata": {},
     "output_type": "execute_result"
    }
   ],
   "source": [
    "total_null_stats.head(20)"
   ]
  },
  {
   "cell_type": "markdown",
   "metadata": {
    "colab_type": "text",
    "id": "G9VBemL14VKv"
   },
   "source": [
    "### Observations ###\n",
    "1. Just like the non-fraud transactions, majority of null values in fraud transactions are from distances, devices and email addresses.\n",
    "2. The key difference is in the field of `DeviceInfo` (Windows/Mac OS), `DeviceType` (mobile, desktop), `R_emaildomain` (receipient email).\n",
    "  \n",
    "    a. For fraud transaction `null` values for DeviceInfo is around 58% of its set, whereas for non-fraud transactions its around 80%. \n",
    "  \n",
    "    b. For fraud transaction `null` values for DeviceType is around 45% of its set, whereas for non-fraud transaction its around 77%.\n",
    "  \n",
    "    c. Also receipent email address are `null` for 45% of its set, whereas for non-fraud transaction its 77%.\n",
    "  \n",
    "  ### Conclusion (from visualization around null values in Fraud transactions and Non-Fraud transactions) ###\n",
    " One possible explanation for above discrepancy could be: the values for above details like email address are usually not provided or deferred by benevolent transactions, but a fraudster may have provided fake values instead of ignoring like a regular transactor. This in-turn reduced `null` values for fraud transactions."
   ]
  },
  {
   "cell_type": "code",
   "execution_count": 7,
   "metadata": {
    "colab": {},
    "colab_type": "code",
    "id": "ccZTv67a9lk1"
   },
   "outputs": [],
   "source": [
    "# https://stackoverflow.com/questions/51749208/plotting-two-histograms-from-a-pandas-dataframe-in-one-subplot-using-matplotlib"
   ]
  },
  {
   "cell_type": "markdown",
   "metadata": {
    "colab_type": "text",
    "id": "OXyzCVAWHSZZ"
   },
   "source": [
    "## Observing max-min-std of the fields among fraud vs non-fraud transactions ##"
   ]
  },
  {
   "cell_type": "code",
   "execution_count": 8,
   "metadata": {
    "colab": {
     "base_uri": "https://localhost:8080/",
     "height": 295
    },
    "colab_type": "code",
    "id": "keBe3sphEUMS",
    "outputId": "d7940460-f750-46ed-b591-3a4941ca0978"
   },
   "outputs": [
    {
     "data": {
      "text/html": [
       "<div>\n",
       "<style scoped>\n",
       "    .dataframe tbody tr th:only-of-type {\n",
       "        vertical-align: middle;\n",
       "    }\n",
       "\n",
       "    .dataframe tbody tr th {\n",
       "        vertical-align: top;\n",
       "    }\n",
       "\n",
       "    .dataframe thead th {\n",
       "        text-align: right;\n",
       "    }\n",
       "</style>\n",
       "<table border=\"1\" class=\"dataframe\">\n",
       "  <thead>\n",
       "    <tr style=\"text-align: right;\">\n",
       "      <th></th>\n",
       "      <th>TransactionID</th>\n",
       "      <th>TransactionDT</th>\n",
       "      <th>TransactionAmt</th>\n",
       "      <th>addr1</th>\n",
       "      <th>addr2</th>\n",
       "      <th>dist1</th>\n",
       "      <th>dist2</th>\n",
       "      <th>isFraud</th>\n",
       "    </tr>\n",
       "  </thead>\n",
       "  <tbody>\n",
       "    <tr>\n",
       "      <th>count</th>\n",
       "      <td>2.066300e+04</td>\n",
       "      <td>2.066300e+04</td>\n",
       "      <td>20663.000000</td>\n",
       "      <td>12922.000000</td>\n",
       "      <td>12922.000000</td>\n",
       "      <td>4755.000000</td>\n",
       "      <td>3731.000000</td>\n",
       "      <td>20663.0</td>\n",
       "    </tr>\n",
       "    <tr>\n",
       "      <th>mean</th>\n",
       "      <td>3.294952e+06</td>\n",
       "      <td>7.690033e+06</td>\n",
       "      <td>149.244779</td>\n",
       "      <td>294.317134</td>\n",
       "      <td>86.286024</td>\n",
       "      <td>174.588854</td>\n",
       "      <td>201.472259</td>\n",
       "      <td>1.0</td>\n",
       "    </tr>\n",
       "    <tr>\n",
       "      <th>std</th>\n",
       "      <td>1.620403e+05</td>\n",
       "      <td>4.416551e+06</td>\n",
       "      <td>232.212163</td>\n",
       "      <td>103.584955</td>\n",
       "      <td>4.936238</td>\n",
       "      <td>424.232313</td>\n",
       "      <td>451.589576</td>\n",
       "      <td>0.0</td>\n",
       "    </tr>\n",
       "    <tr>\n",
       "      <th>min</th>\n",
       "      <td>2.987203e+06</td>\n",
       "      <td>8.976000e+04</td>\n",
       "      <td>0.292000</td>\n",
       "      <td>110.000000</td>\n",
       "      <td>10.000000</td>\n",
       "      <td>0.000000</td>\n",
       "      <td>0.000000</td>\n",
       "      <td>1.0</td>\n",
       "    </tr>\n",
       "    <tr>\n",
       "      <th>25%</th>\n",
       "      <td>3.167366e+06</td>\n",
       "      <td>3.965858e+06</td>\n",
       "      <td>35.044000</td>\n",
       "      <td>204.000000</td>\n",
       "      <td>87.000000</td>\n",
       "      <td>3.000000</td>\n",
       "      <td>7.000000</td>\n",
       "      <td>1.0</td>\n",
       "    </tr>\n",
       "    <tr>\n",
       "      <th>50%</th>\n",
       "      <td>3.291934e+06</td>\n",
       "      <td>7.575230e+06</td>\n",
       "      <td>75.000000</td>\n",
       "      <td>299.000000</td>\n",
       "      <td>87.000000</td>\n",
       "      <td>10.000000</td>\n",
       "      <td>49.000000</td>\n",
       "      <td>1.0</td>\n",
       "    </tr>\n",
       "    <tr>\n",
       "      <th>75%</th>\n",
       "      <td>3.428646e+06</td>\n",
       "      <td>1.121743e+07</td>\n",
       "      <td>161.000000</td>\n",
       "      <td>330.000000</td>\n",
       "      <td>87.000000</td>\n",
       "      <td>85.500000</td>\n",
       "      <td>233.000000</td>\n",
       "      <td>1.0</td>\n",
       "    </tr>\n",
       "    <tr>\n",
       "      <th>max</th>\n",
       "      <td>3.577526e+06</td>\n",
       "      <td>1.581088e+07</td>\n",
       "      <td>5191.000000</td>\n",
       "      <td>536.000000</td>\n",
       "      <td>96.000000</td>\n",
       "      <td>4942.000000</td>\n",
       "      <td>9337.000000</td>\n",
       "      <td>1.0</td>\n",
       "    </tr>\n",
       "  </tbody>\n",
       "</table>\n",
       "</div>"
      ],
      "text/plain": [
       "       TransactionID  TransactionDT  TransactionAmt         addr1  \\\n",
       "count   2.066300e+04   2.066300e+04    20663.000000  12922.000000   \n",
       "mean    3.294952e+06   7.690033e+06      149.244779    294.317134   \n",
       "std     1.620403e+05   4.416551e+06      232.212163    103.584955   \n",
       "min     2.987203e+06   8.976000e+04        0.292000    110.000000   \n",
       "25%     3.167366e+06   3.965858e+06       35.044000    204.000000   \n",
       "50%     3.291934e+06   7.575230e+06       75.000000    299.000000   \n",
       "75%     3.428646e+06   1.121743e+07      161.000000    330.000000   \n",
       "max     3.577526e+06   1.581088e+07     5191.000000    536.000000   \n",
       "\n",
       "              addr2        dist1        dist2  isFraud  \n",
       "count  12922.000000  4755.000000  3731.000000  20663.0  \n",
       "mean      86.286024   174.588854   201.472259      1.0  \n",
       "std        4.936238   424.232313   451.589576      0.0  \n",
       "min       10.000000     0.000000     0.000000      1.0  \n",
       "25%       87.000000     3.000000     7.000000      1.0  \n",
       "50%       87.000000    10.000000    49.000000      1.0  \n",
       "75%       87.000000    85.500000   233.000000      1.0  \n",
       "max       96.000000  4942.000000  9337.000000      1.0  "
      ]
     },
     "execution_count": 8,
     "metadata": {},
     "output_type": "execute_result"
    }
   ],
   "source": [
    "fraudulent_df.describe()"
   ]
  },
  {
   "cell_type": "code",
   "execution_count": 9,
   "metadata": {
    "colab": {
     "base_uri": "https://localhost:8080/",
     "height": 295
    },
    "colab_type": "code",
    "id": "dzcnT1EY6olH",
    "outputId": "824fe688-5a20-45cf-f399-4c5c80310274"
   },
   "outputs": [
    {
     "data": {
      "text/html": [
       "<div>\n",
       "<style scoped>\n",
       "    .dataframe tbody tr th:only-of-type {\n",
       "        vertical-align: middle;\n",
       "    }\n",
       "\n",
       "    .dataframe tbody tr th {\n",
       "        vertical-align: top;\n",
       "    }\n",
       "\n",
       "    .dataframe thead th {\n",
       "        text-align: right;\n",
       "    }\n",
       "</style>\n",
       "<table border=\"1\" class=\"dataframe\">\n",
       "  <thead>\n",
       "    <tr style=\"text-align: right;\">\n",
       "      <th></th>\n",
       "      <th>TransactionID</th>\n",
       "      <th>TransactionDT</th>\n",
       "      <th>TransactionAmt</th>\n",
       "      <th>addr1</th>\n",
       "      <th>addr2</th>\n",
       "      <th>dist1</th>\n",
       "      <th>dist2</th>\n",
       "      <th>isFraud</th>\n",
       "    </tr>\n",
       "  </thead>\n",
       "  <tbody>\n",
       "    <tr>\n",
       "      <th>count</th>\n",
       "      <td>5.698770e+05</td>\n",
       "      <td>5.698770e+05</td>\n",
       "      <td>569877.000000</td>\n",
       "      <td>511912.000000</td>\n",
       "      <td>511912.000000</td>\n",
       "      <td>233514.000000</td>\n",
       "      <td>33896.000000</td>\n",
       "      <td>569877.0</td>\n",
       "    </tr>\n",
       "    <tr>\n",
       "      <th>mean</th>\n",
       "      <td>3.281810e+06</td>\n",
       "      <td>7.360791e+06</td>\n",
       "      <td>134.511665</td>\n",
       "      <td>290.643341</td>\n",
       "      <td>86.813620</td>\n",
       "      <td>117.360098</td>\n",
       "      <td>235.199758</td>\n",
       "      <td>0.0</td>\n",
       "    </tr>\n",
       "    <tr>\n",
       "      <th>std</th>\n",
       "      <td>1.707548e+05</td>\n",
       "      <td>4.623930e+06</td>\n",
       "      <td>239.395078</td>\n",
       "      <td>101.692564</td>\n",
       "      <td>2.607742</td>\n",
       "      <td>370.641879</td>\n",
       "      <td>536.798492</td>\n",
       "      <td>0.0</td>\n",
       "    </tr>\n",
       "    <tr>\n",
       "      <th>min</th>\n",
       "      <td>2.987000e+06</td>\n",
       "      <td>8.640000e+04</td>\n",
       "      <td>0.251000</td>\n",
       "      <td>100.000000</td>\n",
       "      <td>13.000000</td>\n",
       "      <td>0.000000</td>\n",
       "      <td>0.000000</td>\n",
       "      <td>0.0</td>\n",
       "    </tr>\n",
       "    <tr>\n",
       "      <th>25%</th>\n",
       "      <td>3.133317e+06</td>\n",
       "      <td>3.010651e+06</td>\n",
       "      <td>43.970000</td>\n",
       "      <td>204.000000</td>\n",
       "      <td>87.000000</td>\n",
       "      <td>3.000000</td>\n",
       "      <td>7.000000</td>\n",
       "      <td>0.0</td>\n",
       "    </tr>\n",
       "    <tr>\n",
       "      <th>50%</th>\n",
       "      <td>3.281808e+06</td>\n",
       "      <td>7.271678e+06</td>\n",
       "      <td>68.500000</td>\n",
       "      <td>299.000000</td>\n",
       "      <td>87.000000</td>\n",
       "      <td>8.000000</td>\n",
       "      <td>36.000000</td>\n",
       "      <td>0.0</td>\n",
       "    </tr>\n",
       "    <tr>\n",
       "      <th>75%</th>\n",
       "      <td>3.429974e+06</td>\n",
       "      <td>1.125334e+07</td>\n",
       "      <td>120.000000</td>\n",
       "      <td>330.000000</td>\n",
       "      <td>87.000000</td>\n",
       "      <td>24.000000</td>\n",
       "      <td>206.000000</td>\n",
       "      <td>0.0</td>\n",
       "    </tr>\n",
       "    <tr>\n",
       "      <th>max</th>\n",
       "      <td>3.577539e+06</td>\n",
       "      <td>1.581113e+07</td>\n",
       "      <td>31937.391000</td>\n",
       "      <td>540.000000</td>\n",
       "      <td>102.000000</td>\n",
       "      <td>10286.000000</td>\n",
       "      <td>11623.000000</td>\n",
       "      <td>0.0</td>\n",
       "    </tr>\n",
       "  </tbody>\n",
       "</table>\n",
       "</div>"
      ],
      "text/plain": [
       "       TransactionID  TransactionDT  TransactionAmt          addr1  \\\n",
       "count   5.698770e+05   5.698770e+05   569877.000000  511912.000000   \n",
       "mean    3.281810e+06   7.360791e+06      134.511665     290.643341   \n",
       "std     1.707548e+05   4.623930e+06      239.395078     101.692564   \n",
       "min     2.987000e+06   8.640000e+04        0.251000     100.000000   \n",
       "25%     3.133317e+06   3.010651e+06       43.970000     204.000000   \n",
       "50%     3.281808e+06   7.271678e+06       68.500000     299.000000   \n",
       "75%     3.429974e+06   1.125334e+07      120.000000     330.000000   \n",
       "max     3.577539e+06   1.581113e+07    31937.391000     540.000000   \n",
       "\n",
       "               addr2          dist1         dist2   isFraud  \n",
       "count  511912.000000  233514.000000  33896.000000  569877.0  \n",
       "mean       86.813620     117.360098    235.199758       0.0  \n",
       "std         2.607742     370.641879    536.798492       0.0  \n",
       "min        13.000000       0.000000      0.000000       0.0  \n",
       "25%        87.000000       3.000000      7.000000       0.0  \n",
       "50%        87.000000       8.000000     36.000000       0.0  \n",
       "75%        87.000000      24.000000    206.000000       0.0  \n",
       "max       102.000000   10286.000000  11623.000000       0.0  "
      ]
     },
     "execution_count": 9,
     "metadata": {},
     "output_type": "execute_result"
    }
   ],
   "source": [
    "non_fraudulent_df.describe()"
   ]
  },
  {
   "cell_type": "markdown",
   "metadata": {
    "colab_type": "text",
    "id": "c5CU6MYsHifk"
   },
   "source": [
    "## Conclusion ##\n",
    "\n",
    "\n",
    "1.   The max value of `TransactionAmt` for fraudulent transactions is 5191, whereas for non-fraudulent transaction it is 31937 (which is roughly 6 times). This suggests that fraudulent transactions are possibly done in smaller denominations may be to avoid flagging or alerting existing Fraud-Detection Systems \n",
    "2.   The max value of `dist1` for fraudulent transactions is 4942, whereas for non-fraudulent transaction it is 10286 (which is roughly twice). It suggests that either the fraudster did frauds at smaller distances or  fraudster recorded fake details regarding address or distances in their order details of locations they are aware of (possibly closer to their residences)\n",
    "3.   The standard deviation of `addr2` of fraudulent transactions is 4.93, whereas for non-fraudulent transactions is 2.6 (which is roughly half). This indicates that the spread of billing region or billing country details for fraudulent transactions is much higher may be because the fraudster were faking their details\n",
    "\n"
   ]
  },
  {
   "cell_type": "markdown",
   "metadata": {
    "colab_type": "text",
    "id": "I0PbMl8CTBgB"
   },
   "source": [
    "## Part 2 - Transaction Frequency"
   ]
  },
  {
   "cell_type": "markdown",
   "metadata": {
    "colab_type": "text",
    "id": "gyvgcIByxEu-"
   },
   "source": [
    "### https://pandas.pydata.org/pandas-docs/stable/reference/api/pandas.cut.html\n",
    "### https://stackoverflow.com/questions/21441259/pandas-groupby-range-of-values"
   ]
  },
  {
   "cell_type": "code",
   "execution_count": 23,
   "metadata": {
    "colab": {
     "base_uri": "https://localhost:8080/",
     "height": 203
    },
    "colab_type": "code",
    "id": "IwlLdEIMRoY-",
    "outputId": "e1da7cff-b3e3-4d0c-c5be-1b49ef6e1ef9"
   },
   "outputs": [
    {
     "data": {
      "text/html": [
       "<div>\n",
       "<style scoped>\n",
       "    .dataframe tbody tr th:only-of-type {\n",
       "        vertical-align: middle;\n",
       "    }\n",
       "\n",
       "    .dataframe tbody tr th {\n",
       "        vertical-align: top;\n",
       "    }\n",
       "\n",
       "    .dataframe thead th {\n",
       "        text-align: right;\n",
       "    }\n",
       "</style>\n",
       "<table border=\"1\" class=\"dataframe\">\n",
       "  <thead>\n",
       "    <tr style=\"text-align: right;\">\n",
       "      <th></th>\n",
       "      <th>country_code</th>\n",
       "      <th>country_transaction_counts</th>\n",
       "    </tr>\n",
       "  </thead>\n",
       "  <tbody>\n",
       "    <tr>\n",
       "      <th>0</th>\n",
       "      <td>87.0</td>\n",
       "      <td>520481</td>\n",
       "    </tr>\n",
       "    <tr>\n",
       "      <th>1</th>\n",
       "      <td>60.0</td>\n",
       "      <td>3084</td>\n",
       "    </tr>\n",
       "    <tr>\n",
       "      <th>2</th>\n",
       "      <td>96.0</td>\n",
       "      <td>638</td>\n",
       "    </tr>\n",
       "    <tr>\n",
       "      <th>3</th>\n",
       "      <td>32.0</td>\n",
       "      <td>91</td>\n",
       "    </tr>\n",
       "    <tr>\n",
       "      <th>4</th>\n",
       "      <td>65.0</td>\n",
       "      <td>82</td>\n",
       "    </tr>\n",
       "  </tbody>\n",
       "</table>\n",
       "</div>"
      ],
      "text/plain": [
       "   country_code  country_transaction_counts\n",
       "0          87.0                      520481\n",
       "1          60.0                        3084\n",
       "2          96.0                         638\n",
       "3          32.0                          91\n",
       "4          65.0                          82"
      ]
     },
     "execution_count": 23,
     "metadata": {},
     "output_type": "execute_result"
    }
   ],
   "source": [
    "country_code_freq = basic_fields_df['addr2'].value_counts()\n",
    "country_code_freq = country_code_freq.rename_axis('country_code').reset_index(name='country_transaction_counts')\n",
    "country_code_freq.head()"
   ]
  },
  {
   "cell_type": "markdown",
   "metadata": {
    "colab_type": "text",
    "id": "7qbh39VgoNzc"
   },
   "source": [
    "### Maximum transaction country ###\n",
    "We can see in the above step that the country with maximum transactions is the country having country-code, 87 (~ 88% of transactions).\n",
    "So in the next step we observe the values of country with code 87. \n",
    "1. First we will calculate day-level-tags (ith day in the time frame of whole data-set)\n",
    "2. Then we will calculate hour-level-tags (ith hour in the time frame of whole data-set)\n",
    "3. Then we will calculate minute-level-tags(ith minute in the time frame of whole day)\n",
    "4. In the end we will analyse time tag wise distribution for countries with code 87"
   ]
  },
  {
   "cell_type": "code",
   "execution_count": 24,
   "metadata": {
    "colab": {
     "base_uri": "https://localhost:8080/",
     "height": 879
    },
    "colab_type": "code",
    "id": "td800AkLausz",
    "outputId": "15511769-9baf-462f-f5ae-1d98cbd2a4a4"
   },
   "outputs": [
    {
     "name": "stderr",
     "output_type": "stream",
     "text": [
      "C:\\Users\\Paras\\Anaconda3\\lib\\site-packages\\ipykernel_launcher.py:5: SettingWithCopyWarning: \n",
      "A value is trying to be set on a copy of a slice from a DataFrame.\n",
      "Try using .loc[row_indexer,col_indexer] = value instead\n",
      "\n",
      "See the caveats in the documentation: http://pandas.pydata.org/pandas-docs/stable/indexing.html#indexing-view-versus-copy\n",
      "  \"\"\"\n",
      "C:\\Users\\Paras\\Anaconda3\\lib\\site-packages\\ipykernel_launcher.py:10: SettingWithCopyWarning: \n",
      "A value is trying to be set on a copy of a slice from a DataFrame.\n",
      "Try using .loc[row_indexer,col_indexer] = value instead\n",
      "\n",
      "See the caveats in the documentation: http://pandas.pydata.org/pandas-docs/stable/indexing.html#indexing-view-versus-copy\n",
      "  # Remove the CWD from sys.path while we load stuff.\n",
      "C:\\Users\\Paras\\Anaconda3\\lib\\site-packages\\ipykernel_launcher.py:15: SettingWithCopyWarning: \n",
      "A value is trying to be set on a copy of a slice from a DataFrame.\n",
      "Try using .loc[row_indexer,col_indexer] = value instead\n",
      "\n",
      "See the caveats in the documentation: http://pandas.pydata.org/pandas-docs/stable/indexing.html#indexing-view-versus-copy\n",
      "  from ipykernel import kernelapp as app\n",
      "C:\\Users\\Paras\\Anaconda3\\lib\\site-packages\\pandas\\core\\frame.py:3391: SettingWithCopyWarning: \n",
      "A value is trying to be set on a copy of a slice from a DataFrame.\n",
      "Try using .loc[row_indexer,col_indexer] = value instead\n",
      "\n",
      "See the caveats in the documentation: http://pandas.pydata.org/pandas-docs/stable/indexing.html#indexing-view-versus-copy\n",
      "  self[k1] = value[k2]\n",
      "C:\\Users\\Paras\\Anaconda3\\lib\\site-packages\\ipykernel_launcher.py:20: SettingWithCopyWarning: \n",
      "A value is trying to be set on a copy of a slice from a DataFrame.\n",
      "Try using .loc[row_indexer,col_indexer] = value instead\n",
      "\n",
      "See the caveats in the documentation: http://pandas.pydata.org/pandas-docs/stable/indexing.html#indexing-view-versus-copy\n",
      "C:\\Users\\Paras\\Anaconda3\\lib\\site-packages\\ipykernel_launcher.py:21: SettingWithCopyWarning: \n",
      "A value is trying to be set on a copy of a slice from a DataFrame.\n",
      "Try using .loc[row_indexer,col_indexer] = value instead\n",
      "\n",
      "See the caveats in the documentation: http://pandas.pydata.org/pandas-docs/stable/indexing.html#indexing-view-versus-copy\n",
      "C:\\Users\\Paras\\Anaconda3\\lib\\site-packages\\ipykernel_launcher.py:22: SettingWithCopyWarning: \n",
      "A value is trying to be set on a copy of a slice from a DataFrame.\n",
      "Try using .loc[row_indexer,col_indexer] = value instead\n",
      "\n",
      "See the caveats in the documentation: http://pandas.pydata.org/pandas-docs/stable/indexing.html#indexing-view-versus-copy\n",
      "C:\\Users\\Paras\\Anaconda3\\lib\\site-packages\\ipykernel_launcher.py:25: SettingWithCopyWarning: \n",
      "A value is trying to be set on a copy of a slice from a DataFrame.\n",
      "Try using .loc[row_indexer,col_indexer] = value instead\n",
      "\n",
      "See the caveats in the documentation: http://pandas.pydata.org/pandas-docs/stable/indexing.html#indexing-view-versus-copy\n",
      "C:\\Users\\Paras\\Anaconda3\\lib\\site-packages\\ipykernel_launcher.py:26: SettingWithCopyWarning: \n",
      "A value is trying to be set on a copy of a slice from a DataFrame.\n",
      "Try using .loc[row_indexer,col_indexer] = value instead\n",
      "\n",
      "See the caveats in the documentation: http://pandas.pydata.org/pandas-docs/stable/indexing.html#indexing-view-versus-copy\n"
     ]
    }
   ],
   "source": [
    "max_transaction_dt = 16000000 # max value in data-set\n",
    "transaction_bin_width = 86400  # no. of seconds in a day\n",
    "possible_bins = np.arange(0, max_transaction_dt + transaction_bin_width, transaction_bin_width)\n",
    "row_bin_tags = pd.cut(basic_fields_df[\"TransactionDT\"], bins=possible_bins, labels=np.arange(len(possible_bins) - 1))\n",
    "basic_fields_df['day_tags'] = row_bin_tags\n",
    "\n",
    "transaction_bin_width = 3600 # no. of seconds in an hour\n",
    "possible_bins = np.arange(0, max_transaction_dt + transaction_bin_width, transaction_bin_width)\n",
    "row_bin_tags = pd.cut(basic_fields_df[\"TransactionDT\"], bins=possible_bins, labels=np.arange(len(possible_bins) - 1))\n",
    "basic_fields_df['hour_tags'] = row_bin_tags\n",
    "\n",
    "transaction_bin_width = 60 # no. of seconds in an minute\n",
    "possible_bins = np.arange(0, max_transaction_dt + transaction_bin_width, transaction_bin_width)\n",
    "row_bin_tags = pd.cut(basic_fields_df[\"TransactionDT\"], bins=possible_bins, labels=np.arange(len(possible_bins) - 1))\n",
    "basic_fields_df['minute_tags'] = row_bin_tags\n",
    "\n",
    "# Converting categorical columns to int\n",
    "categorical_columns = ['day_tags', 'hour_tags', 'minute_tags']\n",
    "basic_fields_df[categorical_columns] = basic_fields_df[categorical_columns].apply(lambda x: x.cat.codes)\n",
    "basic_fields_df['day_tags'] = basic_fields_df['day_tags'].astype(np.int64)\n",
    "basic_fields_df['hour_tags'] = basic_fields_df['hour_tags'].astype(np.int64)\n",
    "basic_fields_df['minute_tags'] = basic_fields_df['minute_tags'].astype(np.int64)\n",
    "\n",
    "# Calculating hour of the day (0 to 23) based on hour_tags\n",
    "basic_fields_df['hour_of_day'] = basic_fields_df['hour_tags'] % 24\n",
    "basic_fields_df['minute_of_day'] = basic_fields_df['minute_tags'] % 1440"
   ]
  },
  {
   "cell_type": "markdown",
   "metadata": {
    "colab_type": "text",
    "id": "Xfv-OzpmTBgL"
   },
   "source": [
    "## Part 6 - Prediction Model"
   ]
  },
  {
   "cell_type": "code",
   "execution_count": 25,
   "metadata": {
    "colab": {},
    "colab_type": "code",
    "id": "H5RpH6NyTBgM"
   },
   "outputs": [],
   "source": [
    "# TODO: code for your final model"
   ]
  },
  {
   "cell_type": "markdown",
   "metadata": {},
   "source": [
    "## Checking Duplicates for the significant fields across whole data-set\n",
    "Testing whether there are any duplicates in the base data (TransactionID, DeviceType, DeviceInfo, TransactionDT, TransactionAmt, ProductCD, addr1, addr2, dist1, dist2, card4, card6, P_emaildomain, R_emaildomain) of transactions and devices.\n",
    "\n",
    "---\n",
    "\n",
    "Found that there are no duplicates since shape on `base_df[base_duplicates]` responds with 0 count against number of rows\n"
   ]
  },
  {
   "cell_type": "code",
   "execution_count": 26,
   "metadata": {},
   "outputs": [
    {
     "name": "stdout",
     "output_type": "stream",
     "text": [
      "Number of duplicates in base fields: 0\n"
     ]
    }
   ],
   "source": [
    "base_duplicates = basic_fields_df.duplicated()\n",
    "print(\"Number of duplicates in base fields: \" + str(basic_fields_df[base_duplicates].shape[0]))"
   ]
  },
  {
   "cell_type": "code",
   "execution_count": 30,
   "metadata": {},
   "outputs": [
    {
     "data": {
      "text/plain": [
       "(590540, 20)"
      ]
     },
     "execution_count": 30,
     "metadata": {},
     "output_type": "execute_result"
    }
   ],
   "source": [
    "basic_fields_df.shape"
   ]
  },
  {
   "cell_type": "code",
   "execution_count": 29,
   "metadata": {},
   "outputs": [
    {
     "data": {
      "text/plain": [
       "dist2             552913\n",
       "DeviceInfo        471874\n",
       "R_emaildomain     453249\n",
       "DeviceType        449730\n",
       "dist1             352271\n",
       "P_emaildomain      94456\n",
       "addr2              65706\n",
       "addr1              65706\n",
       "card4               1577\n",
       "card6               1571\n",
       "TransactionDT          0\n",
       "TransactionAmt         0\n",
       "ProductCD              0\n",
       "minute_of_day          0\n",
       "hour_of_day            0\n",
       "isFraud                0\n",
       "day_tags               0\n",
       "hour_tags              0\n",
       "minute_tags            0\n",
       "TransactionID          0\n",
       "dtype: int64"
      ]
     },
     "execution_count": 29,
     "metadata": {},
     "output_type": "execute_result"
    }
   ],
   "source": [
    "basic_fields_df.isnull().sum().sort_values(ascending=False)"
   ]
  },
  {
   "cell_type": "code",
   "execution_count": 32,
   "metadata": {},
   "outputs": [
    {
     "data": {
      "text/plain": [
       "TransactionID       int64\n",
       "TransactionDT       int64\n",
       "TransactionAmt    float64\n",
       "ProductCD          object\n",
       "card4              object\n",
       "card6              object\n",
       "P_emaildomain      object\n",
       "R_emaildomain      object\n",
       "addr1             float64\n",
       "addr2             float64\n",
       "dist1             float64\n",
       "dist2             float64\n",
       "isFraud             int64\n",
       "DeviceType         object\n",
       "DeviceInfo         object\n",
       "day_tags            int64\n",
       "hour_tags           int64\n",
       "minute_tags         int64\n",
       "hour_of_day         int64\n",
       "minute_of_day       int64\n",
       "dtype: object"
      ]
     },
     "execution_count": 32,
     "metadata": {},
     "output_type": "execute_result"
    }
   ],
   "source": [
    "basic_fields_df.dtypes"
   ]
  },
  {
   "cell_type": "code",
   "execution_count": 134,
   "metadata": {},
   "outputs": [],
   "source": [
    "modified_df = basic_fields_df.copy(deep=True)"
   ]
  },
  {
   "cell_type": "markdown",
   "metadata": {},
   "source": [
    "## Cleaning and Pre-Processing ##"
   ]
  },
  {
   "cell_type": "markdown",
   "metadata": {},
   "source": [
    "### Dealing with missing values in card data in card6 field ###\n",
    "#### Citation (https://towardsdatascience.com/the-ultimate-guide-to-data-cleaning-3969843991d4) ####\n",
    "The strategy to handle missing values in card6 is as follows:\n",
    "1.  During our previous EDA we observed that 48% of fraud transactions were done with credit card and 51% done with debit card.\n",
    "    Also, for non-fraud transactions credit card was used 24% and 75% of times respectively\n",
    "2.  Now, we will fill the missing values for card6 fields with either 'credit' or 'debit' value based on following criteria:\n",
    "\n",
    "    a.  If it's a fraud transaction assign value 'credit' or 'debit' with ratio of randomness of 48 to 51\n",
    "    \n",
    "    b.  If it's a non-fraud transaction assign 'credit' or 'debit' with ratio of randomness of 24 to 75"
   ]
  },
  {
   "cell_type": "code",
   "execution_count": 145,
   "metadata": {},
   "outputs": [
    {
     "name": "stdout",
     "output_type": "stream",
     "text": [
      "(39,)(1532,)\n",
      "done with 0 , remaining: 39\n",
      "done with 0 , remaining: 1532\n",
      "done with 100 , remaining: 1532\n",
      "done with 200 , remaining: 1532\n",
      "done with 300 , remaining: 1532\n",
      "done with 400 , remaining: 1532\n",
      "done with 500 , remaining: 1532\n",
      "done with 600 , remaining: 1532\n",
      "done with 700 , remaining: 1532\n",
      "done with 800 , remaining: 1532\n",
      "done with 900 , remaining: 1532\n",
      "done with 1000 , remaining: 1532\n",
      "done with 1100 , remaining: 1532\n",
      "done with 1200 , remaining: 1532\n",
      "done with 1300 , remaining: 1532\n",
      "done with 1400 , remaining: 1532\n",
      "done with 1500 , remaining: 1532\n"
     ]
    }
   ],
   "source": [
    "non_fraud_indices = basic_fields_df.index[((basic_fields_df.isFraud == 0 ) & basic_fields_df.card6.isnull())]\n",
    "fraud_indices = basic_fields_df.index[((basic_fields_df.isFraud == 1) & (basic_fields_df.card6.isnull()))]\n",
    "print(str(fraud_indices.shape) + str(non_fraud_indices.shape))\n",
    "\n",
    "fraud_card6_replacements = random.choices(['credit', 'debit'], [48, 51], k=fraud_indices.shape[0])\n",
    "non_fraud_card6_replacements = random.choices(['credit', 'debit'], [24, 75], k=non_fraud_indices.shape[0])\n",
    "\n",
    "i = 0\n",
    "for index in fraud_indices:\n",
    "    modified_df.iloc[index, modified_df.columns.get_loc('card6')] = fraud_card6_replacements[i]\n",
    "    if i % 100 == 0:\n",
    "        print(\"done with \" + str(i) + \" , of: \" + str(len(fraud_indices)))\n",
    "    i += 1\n",
    "    \n",
    "i = 0\n",
    "for index in non_fraud_indices:\n",
    "    modified_df.iloc[index, modified_df.columns.get_loc('card6')] = non_fraud_card6_replacements[i]\n",
    "    if i % 100 == 0:\n",
    "        print(\"done with \" + str(i) + \" , of: \" + str(len(non_fraud_indices)))\n",
    "    i += 1\n",
    "# modified_df.card6.isnull().sum()"
   ]
  },
  {
   "cell_type": "markdown",
   "metadata": {},
   "source": [
    "### Cleaning card-issuer data in card4 field ###"
   ]
  },
  {
   "cell_type": "code",
   "execution_count": 149,
   "metadata": {},
   "outputs": [
    {
     "name": "stdout",
     "output_type": "stream",
     "text": [
      "(41,)(1536,)\n",
      "done with 0 , of: 41\n",
      "done with 0 , of: 1536\n",
      "done with 100 , of: 1536\n",
      "done with 200 , of: 1536\n",
      "done with 300 , of: 1536\n",
      "done with 400 , of: 1536\n",
      "done with 500 , of: 1536\n",
      "done with 600 , of: 1536\n",
      "done with 700 , of: 1536\n",
      "done with 800 , of: 1536\n",
      "done with 900 , of: 1536\n",
      "done with 1000 , of: 1536\n",
      "done with 1100 , of: 1536\n",
      "done with 1200 , of: 1536\n",
      "done with 1300 , of: 1536\n",
      "done with 1400 , of: 1536\n",
      "done with 1500 , of: 1536\n"
     ]
    }
   ],
   "source": [
    "non_fraud_indices = basic_fields_df.index[((basic_fields_df.isFraud == 0 ) & basic_fields_df.card4.isnull())]\n",
    "fraud_indices = basic_fields_df.index[((basic_fields_df.isFraud == 1) & (basic_fields_df.card4.isnull()))]\n",
    "print(str(fraud_indices.shape) + str(non_fraud_indices.shape))\n",
    "\n",
    "fraud_card4_replacements = random.choices(['visa', 'mastercard', 'american express', 'discover'], [64, 31, 1, 2], k=fraud_indices.shape[0])\n",
    "non_fraud_card4_replacements = random.choices(['visa', 'mastercard', 'american express', 'discover'], [65, 32, 1, 1], k=non_fraud_indices.shape[0])\n",
    "\n",
    "i = 0\n",
    "for index in fraud_indices:\n",
    "    modified_df.iloc[index, modified_df.columns.get_loc('card4')] = fraud_card4_replacements[i]\n",
    "    if i % 100 == 0:\n",
    "        print(\"done with \" + str(i) + \" , of: \" + str(len(fraud_indices)))\n",
    "    i += 1\n",
    "    \n",
    "i = 0\n",
    "for index in non_fraud_indices:\n",
    "    modified_df.iloc[index, modified_df.columns.get_loc('card4')] = non_fraud_card4_replacements[i]\n",
    "    if i % 100 == 0:\n",
    "        print(\"done with \" + str(i) + \" , of: \" + str(len(non_fraud_indices)))\n",
    "    i += 1\n",
    "# modified_df.card6.isnull().sum()"
   ]
  },
  {
   "cell_type": "code",
   "execution_count": 147,
   "metadata": {},
   "outputs": [
    {
     "data": {
      "text/plain": [
       "TransactionID       int64\n",
       "TransactionDT       int64\n",
       "TransactionAmt    float64\n",
       "ProductCD          object\n",
       "card4              object\n",
       "card6              object\n",
       "P_emaildomain      object\n",
       "R_emaildomain      object\n",
       "addr1             float64\n",
       "addr2             float64\n",
       "dist1             float64\n",
       "dist2             float64\n",
       "isFraud             int64\n",
       "DeviceType         object\n",
       "DeviceInfo         object\n",
       "dtype: object"
      ]
     },
     "execution_count": 147,
     "metadata": {},
     "output_type": "execute_result"
    }
   ],
   "source": [
    "modified_df.dtypes"
   ]
  },
  {
   "cell_type": "markdown",
   "metadata": {},
   "source": [
    "### Mapping multiple similar email domains to a single parent domain ###"
   ]
  },
  {
   "cell_type": "code",
   "execution_count": 65,
   "metadata": {},
   "outputs": [],
   "source": [
    "email_domain_map = {\n",
    "\t'gmail.com': ['gmail.com', 'gmail'], \n",
    "  \t'yahoo.com': ['yahoo.com', 'yahoo.com.mx', 'ymail.com', 'yahoo.de', 'yahoo.fr', 'yahoo.es', 'yahoo.co.uk', 'yahoo.co.jp'] , \n",
    "  \t'hotmail.com': ['hotmail.com', 'outlook.com', 'live.com.mx', 'hotmail.es', 'msn.com', 'live.com', 'outlook.es', 'hotmail.de', 'hotmail.fr', 'hotmail.co.uk'],\n",
    "  \t'netzero.net': ['netzero.com', 'netzero.net'] ,\n",
    "  \t'icloud.com': ['mac.com', 'icloud.com']\n",
    "}\n",
    "\n",
    "reverse_email_domain_map = {}\n",
    "for root_domain in email_domain_map:\n",
    "    for domain in email_domain_map[root_domain]:\n",
    "        reverse_email_domain_map[domain] = root_domain\n",
    "# reverse_email_domain_map\n",
    "\n",
    "modified_df['P_emaildomain'] = modified_df['P_emaildomain'].apply(lambda x: reverse_email_domain_map[x] if x in reverse_email_domain_map else x)\n",
    "modified_df['R_emaildomain'] = modified_df['R_emaildomain'].apply(lambda x: reverse_email_domain_map[x] if x in reverse_email_domain_map else x)"
   ]
  },
  {
   "cell_type": "code",
   "execution_count": 162,
   "metadata": {},
   "outputs": [
    {
     "data": {
      "text/html": [
       "<div>\n",
       "<style scoped>\n",
       "    .dataframe tbody tr th:only-of-type {\n",
       "        vertical-align: middle;\n",
       "    }\n",
       "\n",
       "    .dataframe tbody tr th {\n",
       "        vertical-align: top;\n",
       "    }\n",
       "\n",
       "    .dataframe thead th {\n",
       "        text-align: right;\n",
       "    }\n",
       "</style>\n",
       "<table border=\"1\" class=\"dataframe\">\n",
       "  <thead>\n",
       "    <tr style=\"text-align: right;\">\n",
       "      <th></th>\n",
       "      <th>TransactionDT</th>\n",
       "      <th>TransactionAmt</th>\n",
       "      <th>ProductCD</th>\n",
       "      <th>card4</th>\n",
       "      <th>card6</th>\n",
       "      <th>P_emaildomain</th>\n",
       "      <th>R_emaildomain</th>\n",
       "      <th>addr1</th>\n",
       "      <th>addr2</th>\n",
       "      <th>dist1</th>\n",
       "      <th>isFraud</th>\n",
       "      <th>DeviceType</th>\n",
       "      <th>DeviceInfo</th>\n",
       "    </tr>\n",
       "  </thead>\n",
       "  <tbody>\n",
       "    <tr>\n",
       "      <th>0</th>\n",
       "      <td>86400</td>\n",
       "      <td>68.5</td>\n",
       "      <td>W</td>\n",
       "      <td>discover</td>\n",
       "      <td>credit</td>\n",
       "      <td>NaN</td>\n",
       "      <td>NaN</td>\n",
       "      <td>315.0</td>\n",
       "      <td>87.0</td>\n",
       "      <td>19.0</td>\n",
       "      <td>0</td>\n",
       "      <td>NaN</td>\n",
       "      <td>NaN</td>\n",
       "    </tr>\n",
       "    <tr>\n",
       "      <th>1</th>\n",
       "      <td>86401</td>\n",
       "      <td>29.0</td>\n",
       "      <td>W</td>\n",
       "      <td>mastercard</td>\n",
       "      <td>credit</td>\n",
       "      <td>gmail.com</td>\n",
       "      <td>NaN</td>\n",
       "      <td>325.0</td>\n",
       "      <td>87.0</td>\n",
       "      <td>NaN</td>\n",
       "      <td>0</td>\n",
       "      <td>NaN</td>\n",
       "      <td>NaN</td>\n",
       "    </tr>\n",
       "    <tr>\n",
       "      <th>2</th>\n",
       "      <td>86469</td>\n",
       "      <td>59.0</td>\n",
       "      <td>W</td>\n",
       "      <td>visa</td>\n",
       "      <td>debit</td>\n",
       "      <td>outlook.com</td>\n",
       "      <td>NaN</td>\n",
       "      <td>330.0</td>\n",
       "      <td>87.0</td>\n",
       "      <td>287.0</td>\n",
       "      <td>0</td>\n",
       "      <td>NaN</td>\n",
       "      <td>NaN</td>\n",
       "    </tr>\n",
       "    <tr>\n",
       "      <th>3</th>\n",
       "      <td>86499</td>\n",
       "      <td>50.0</td>\n",
       "      <td>W</td>\n",
       "      <td>mastercard</td>\n",
       "      <td>debit</td>\n",
       "      <td>yahoo.com</td>\n",
       "      <td>NaN</td>\n",
       "      <td>476.0</td>\n",
       "      <td>87.0</td>\n",
       "      <td>NaN</td>\n",
       "      <td>0</td>\n",
       "      <td>NaN</td>\n",
       "      <td>NaN</td>\n",
       "    </tr>\n",
       "    <tr>\n",
       "      <th>4</th>\n",
       "      <td>86506</td>\n",
       "      <td>50.0</td>\n",
       "      <td>H</td>\n",
       "      <td>mastercard</td>\n",
       "      <td>credit</td>\n",
       "      <td>gmail.com</td>\n",
       "      <td>NaN</td>\n",
       "      <td>420.0</td>\n",
       "      <td>87.0</td>\n",
       "      <td>NaN</td>\n",
       "      <td>0</td>\n",
       "      <td>mobile</td>\n",
       "      <td>SAMSUNG SM-G892A Build/NRD90M</td>\n",
       "    </tr>\n",
       "  </tbody>\n",
       "</table>\n",
       "</div>"
      ],
      "text/plain": [
       "   TransactionDT  TransactionAmt ProductCD       card4   card6 P_emaildomain  \\\n",
       "0          86400            68.5         W    discover  credit           NaN   \n",
       "1          86401            29.0         W  mastercard  credit     gmail.com   \n",
       "2          86469            59.0         W        visa   debit   outlook.com   \n",
       "3          86499            50.0         W  mastercard   debit     yahoo.com   \n",
       "4          86506            50.0         H  mastercard  credit     gmail.com   \n",
       "\n",
       "  R_emaildomain  addr1  addr2  dist1  isFraud DeviceType  \\\n",
       "0           NaN  315.0   87.0   19.0        0        NaN   \n",
       "1           NaN  325.0   87.0    NaN        0        NaN   \n",
       "2           NaN  330.0   87.0  287.0        0        NaN   \n",
       "3           NaN  476.0   87.0    NaN        0        NaN   \n",
       "4           NaN  420.0   87.0    NaN        0     mobile   \n",
       "\n",
       "                      DeviceInfo  \n",
       "0                            NaN  \n",
       "1                            NaN  \n",
       "2                            NaN  \n",
       "3                            NaN  \n",
       "4  SAMSUNG SM-G892A Build/NRD90M  "
      ]
     },
     "execution_count": 162,
     "metadata": {},
     "output_type": "execute_result"
    }
   ],
   "source": [
    "modeling_df = modified_df.drop(['TransactionID', 'dist2'], axis = 1)\n",
    "modeling_df.head()"
   ]
  },
  {
   "cell_type": "markdown",
   "metadata": {
    "colab_type": "text",
    "id": "MEpfZvzJTBgO"
   },
   "source": [
    "Write your answer here"
   ]
  },
  {
   "cell_type": "markdown",
   "metadata": {
    "colab_type": "text",
    "id": "yoJX5RDmTBgO"
   },
   "source": [
    "## Part 7 - Final Result"
   ]
  },
  {
   "cell_type": "markdown",
   "metadata": {
    "colab_type": "text",
    "id": "SpZZk0HHTBgP"
   },
   "source": [
    "Report the rank, score, number of entries, for your highest rank. Include a snapshot of your best score on the leaderboard as confirmation. Be sure to provide a link to your Kaggle profile. Make sure to include a screenshot of your ranking. Make sure your profile includes your face and affiliation with SBU."
   ]
  },
  {
   "cell_type": "markdown",
   "metadata": {
    "colab_type": "text",
    "id": "InjGZA_ETBgP"
   },
   "source": [
    "Kaggle Link: FILL HERE"
   ]
  },
  {
   "cell_type": "markdown",
   "metadata": {
    "colab_type": "text",
    "id": "AN_l82l7TBgQ"
   },
   "source": [
    "Highest Rank: FILL HERE"
   ]
  },
  {
   "cell_type": "markdown",
   "metadata": {
    "colab_type": "text",
    "id": "Wp_wU_BMTBgR"
   },
   "source": [
    "Score: FILL HERE"
   ]
  },
  {
   "cell_type": "markdown",
   "metadata": {
    "colab_type": "text",
    "id": "xeRlj35rTBgR"
   },
   "source": [
    "Number of entries: FILL HERE"
   ]
  },
  {
   "cell_type": "markdown",
   "metadata": {
    "colab_type": "text",
    "id": "2ZBbLTVPTBgR"
   },
   "source": [
    "INCLUDE IMAGE OF YOUR KAGGLE RANKING"
   ]
  }
 ],
 "metadata": {
  "accelerator": "GPU",
  "colab": {
   "collapsed_sections": [],
   "name": "CSE519 HW2.ipynb",
   "provenance": [],
   "toc_visible": true,
   "version": "0.3.2"
  },
  "kernelspec": {
   "display_name": "Python 3",
   "language": "python",
   "name": "python3"
  },
  "language_info": {
   "codemirror_mode": {
    "name": "ipython",
    "version": 3
   },
   "file_extension": ".py",
   "mimetype": "text/x-python",
   "name": "python",
   "nbconvert_exporter": "python",
   "pygments_lexer": "ipython3",
   "version": "3.7.3"
  }
 },
 "nbformat": 4,
 "nbformat_minor": 4
}
