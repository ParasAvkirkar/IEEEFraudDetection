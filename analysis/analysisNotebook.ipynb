{
 "cells": [
  {
   "cell_type": "markdown",
   "metadata": {
    "colab_type": "text",
    "id": "8qw0gJdZTBf9"
   },
   "source": [
    "# Homework 2 - IEEE Fraud Detection"
   ]
  },
  {
   "cell_type": "markdown",
   "metadata": {
    "colab_type": "text",
    "id": "C-80k8srTBf-"
   },
   "source": [
    "For all parts below, answer all parts as shown in the Google document for Homework 2. Be sure to include both code that justifies your answer as well as text to answer the questions. We also ask that code be commented to make it easier to follow."
   ]
  },
  {
   "cell_type": "markdown",
   "metadata": {
    "colab_type": "text",
    "id": "BoVV2qQWTBf-"
   },
   "source": [
    "## Part 1 - Fraudulent vs Non-Fraudulent Transaction"
   ]
  },
  {
   "cell_type": "markdown",
   "metadata": {
    "colab_type": "text",
    "id": "77vxQ6p8TBf-"
   },
   "source": [
    "# TODO: code and runtime results\n",
    "import pandas as pd\n",
    "import matplotlib.pyplot as plt\n",
    "import numpy as np\n",
    "import seaborn as sns"
   ]
  },
  {
   "cell_type": "code",
   "execution_count": 291,
   "metadata": {},
   "outputs": [],
   "source": [
    "# Taking all imports for processing\n",
    "import pandas as pd\n",
    "import random\n",
    "import numpy as np\n",
    "import matplotlib.pyplot as plt\n",
    "import seaborn as sns\n",
    "import graphviz\n",
    "import xgboost as xgb\n",
    "\n",
    "from pandas.plotting import autocorrelation_plot\n",
    "from sklearn.model_selection import train_test_split\n",
    "from sklearn.linear_model import LogisticRegression\n",
    "from sklearn.ensemble import RandomForestClassifier\n",
    "from sklearn import tree\n",
    "from sklearn.metrics import precision_recall_fscore_support\n",
    "from sklearn.metrics import confusion_matrix\n",
    "from sklearn.metrics import roc_auc_score\n",
    "from sklearn.utils import resample\n",
    "from imblearn.over_sampling import SMOTE, ADASYN\n",
    "from imblearn.under_sampling import ClusterCentroids\n",
    "from imblearn.under_sampling import RandomUnderSampler"
   ]
  },
  {
   "cell_type": "markdown",
   "metadata": {},
   "source": [
    "### Loading train-data in dataframes\n",
    "### Since Part 1 to 5 would only involve following fields\n",
    "TransactionID, DeviceType, DeviceInfo, TransactionDT, TransactionAmt, ProductCD, card4, card6, P_emaildomain, R_emaildomain, addr1, addr2, dist1, dist2\n",
    "### Loading above necessary fields into base dataframe"
   ]
  },
  {
   "cell_type": "code",
   "execution_count": 2,
   "metadata": {
    "colab": {},
    "colab_type": "code",
    "id": "pw4TmO0daKML"
   },
   "outputs": [],
   "source": [
    "# loading train-data in dataframes\n",
    "train_identity_df = pd.read_csv(\"../data/train_identity.csv\")\n",
    "train_transaction_df = pd.read_csv(\"../data/train_transaction.csv\")\n",
    "global_df = pd.merge(left=train_transaction_df, right=train_identity_df, left_on=[\"TransactionID\"],\n",
    "                                       right_on=\"TransactionID\", how=\"left\")\n",
    "# Since Part 1 to 5 would only involve following fields\n",
    "# TransactionID,DeviceType,DeviceInfo,TransactionDT,TransactionAmt,ProductCD,card4,card6,P_emaildomain,R_emaildomain,addr1,addr2,dist1,dist2\n",
    "# Loading above necessary fields into base dataframe\n",
    "# And performing EDA on these data\n",
    "basic_fields_df = global_df[[\"TransactionID\", \"TransactionDT\", \"TransactionAmt\",\n",
    "                                              \"ProductCD\", \"card4\", \"card6\", \"P_emaildomain\", \"R_emaildomain\", \n",
    "                                              \"addr1\", \"addr2\", \"dist1\", \"dist2\", \"isFraud\", \"DeviceType\", \"DeviceInfo\"]]"
   ]
  },
  {
   "cell_type": "code",
   "execution_count": 4,
   "metadata": {
    "colab": {
     "base_uri": "https://localhost:8080/",
     "height": 35
    },
    "colab_type": "code",
    "id": "RzfKUUFBhZO8",
    "outputId": "1330e5b7-6007-4fc1-ac24-d2160aae6337"
   },
   "outputs": [
    {
     "name": "stdout",
     "output_type": "stream",
     "text": [
      "Fraudulent instances: 20663 | Non Fraudulent instances: 569877\n"
     ]
    }
   ],
   "source": [
    "fraudulent_df = basic_fields_df[basic_fields_df.isFraud == 1]\n",
    "non_fraudulent_df = basic_fields_df[basic_fields_df.isFraud == 0]\n",
    "rows_in_fraud = fraudulent_df.shape[0]\n",
    "rows_in_non_fraud = non_fraudulent_df.shape[0]\n",
    "total_rows = basic_fields_df.shape[0]\n",
    "print(\"Fraudulent instances: {0} | Non Fraudulent instances: {1}\".format(str(rows_in_fraud), str(rows_in_non_fraud)))"
   ]
  },
  {
   "cell_type": "markdown",
   "metadata": {
    "colab": {},
    "colab_type": "code",
    "id": "n00QbEsw7qZm"
   },
   "source": [
    "### Citation:\n",
    "1. https://stackoverflow.com/questions/41681693/pandas-isnull-sum-with-column-headers (to aggregate over nulls and get their frequency)"
   ]
  },
  {
   "cell_type": "markdown",
   "metadata": {
    "colab_type": "text",
    "id": "6OnOPyGf0pRK"
   },
   "source": [
    "### [Part 1] Comparing nulls between fraudulent and non-fraudulent data-set ###"
   ]
  },
  {
   "cell_type": "code",
   "execution_count": 5,
   "metadata": {
    "colab": {
     "base_uri": "https://localhost:8080/",
     "height": 99
    },
    "colab_type": "code",
    "id": "_8vMwJ1Nspdx",
    "outputId": "ef0d5619-d5df-40c6-ad79-4d35b65dc9f8"
   },
   "outputs": [
    {
     "data": {
      "text/plain": [
       "<matplotlib.axes._subplots.AxesSubplot at 0x1bb91048f60>"
      ]
     },
     "execution_count": 5,
     "metadata": {},
     "output_type": "execute_result"
    },
    {
     "data": {
      "image/png": "[encoded data removed]",
      "text/plain": [
       "<Figure size 432x288 with 1 Axes>"
      ]
     },
     "metadata": {
      "needs_background": "light"
     },
     "output_type": "display_data"
    }
   ],
   "source": [
    "# isnull() returns boolean array for each row\n",
    "# sum() on isnull() groups null values and take their sum returning a Series\n",
    "# the Series returned has null value for each column (which can be seen as index for that value in Series)\n",
    "# In the end, we take transpose() to convert index to column and corresponding row in Series to cell Value for that column\n",
    "non_fraudulent_null_stats = non_fraudulent_df.isnull().sum().sort_values(ascending=False)\n",
    "percent_non_fraud_nulls = non_fraudulent_null_stats * 100.0 / rows_in_non_fraud\n",
    "percent_non_fraud_nulls = percent_non_fraud_nulls.reset_index()\n",
    "percent_non_fraud_nulls = percent_non_fraud_nulls.rename(columns={'index': 'features', 0: 'null_percent'})\n",
    "\n",
    "fraudulent_null_stats = fraudulent_df.isnull().sum().sort_values(ascending=False)\n",
    "percent_fraud_nulls = fraudulent_null_stats * 100.0/ rows_in_fraud\n",
    "percent_fraud_nulls = percent_fraud_nulls.reset_index()\n",
    "percent_fraud_nulls = percent_fraud_nulls.rename(columns={'index': 'features', 0: 'null_percent'})\n",
    "\n",
    "total_null_stats = pd.merge(percent_fraud_nulls, percent_non_fraud_nulls, on='features', suffixes=['_in_fraud', '_in_non_fraud'])\n",
    "\n",
    "total_null_stats.plot.bar(x='features')"
   ]
  },
  {
   "cell_type": "code",
   "execution_count": 7,
   "metadata": {
    "colab": {
     "base_uri": "https://localhost:8080/",
     "height": 271
    },
    "colab_type": "code",
    "id": "D8qjWzhUMU91",
    "outputId": "e977590e-169b-4676-9821-65b423a960e5"
   },
   "outputs": [
    {
     "data": {
      "text/html": [
       "<div>\n",
       "<style scoped>\n",
       "    .dataframe tbody tr th:only-of-type {\n",
       "        vertical-align: middle;\n",
       "    }\n",
       "\n",
       "    .dataframe tbody tr th {\n",
       "        vertical-align: top;\n",
       "    }\n",
       "\n",
       "    .dataframe thead th {\n",
       "        text-align: right;\n",
       "    }\n",
       "</style>\n",
       "<table border=\"1\" class=\"dataframe\">\n",
       "  <thead>\n",
       "    <tr style=\"text-align: right;\">\n",
       "      <th></th>\n",
       "      <th>features</th>\n",
       "      <th>null_percent_in_fraud</th>\n",
       "      <th>null_percent_in_non_fraud</th>\n",
       "    </tr>\n",
       "  </thead>\n",
       "  <tbody>\n",
       "    <tr>\n",
       "      <th>0</th>\n",
       "      <td>dist2</td>\n",
       "      <td>81.943571</td>\n",
       "      <td>94.052050</td>\n",
       "    </tr>\n",
       "    <tr>\n",
       "      <th>1</th>\n",
       "      <td>dist1</td>\n",
       "      <td>76.987853</td>\n",
       "      <td>59.023789</td>\n",
       "    </tr>\n",
       "    <tr>\n",
       "      <th>2</th>\n",
       "      <td>DeviceInfo</td>\n",
       "      <td>58.345836</td>\n",
       "      <td>80.687236</td>\n",
       "    </tr>\n",
       "    <tr>\n",
       "      <th>3</th>\n",
       "      <td>DeviceType</td>\n",
       "      <td>45.743600</td>\n",
       "      <td>77.258426</td>\n",
       "    </tr>\n",
       "    <tr>\n",
       "      <th>4</th>\n",
       "      <td>R_emaildomain</td>\n",
       "      <td>45.666167</td>\n",
       "      <td>77.878735</td>\n",
       "    </tr>\n",
       "    <tr>\n",
       "      <th>5</th>\n",
       "      <td>addr2</td>\n",
       "      <td>37.463098</td>\n",
       "      <td>10.171493</td>\n",
       "    </tr>\n",
       "    <tr>\n",
       "      <th>6</th>\n",
       "      <td>addr1</td>\n",
       "      <td>37.463098</td>\n",
       "      <td>10.171493</td>\n",
       "    </tr>\n",
       "    <tr>\n",
       "      <th>7</th>\n",
       "      <td>P_emaildomain</td>\n",
       "      <td>13.502396</td>\n",
       "      <td>16.085225</td>\n",
       "    </tr>\n",
       "    <tr>\n",
       "      <th>8</th>\n",
       "      <td>card4</td>\n",
       "      <td>0.198422</td>\n",
       "      <td>0.269532</td>\n",
       "    </tr>\n",
       "    <tr>\n",
       "      <th>9</th>\n",
       "      <td>card6</td>\n",
       "      <td>0.188743</td>\n",
       "      <td>0.268830</td>\n",
       "    </tr>\n",
       "    <tr>\n",
       "      <th>10</th>\n",
       "      <td>isFraud</td>\n",
       "      <td>0.000000</td>\n",
       "      <td>0.000000</td>\n",
       "    </tr>\n",
       "    <tr>\n",
       "      <th>11</th>\n",
       "      <td>ProductCD</td>\n",
       "      <td>0.000000</td>\n",
       "      <td>0.000000</td>\n",
       "    </tr>\n",
       "    <tr>\n",
       "      <th>12</th>\n",
       "      <td>TransactionAmt</td>\n",
       "      <td>0.000000</td>\n",
       "      <td>0.000000</td>\n",
       "    </tr>\n",
       "    <tr>\n",
       "      <th>13</th>\n",
       "      <td>TransactionDT</td>\n",
       "      <td>0.000000</td>\n",
       "      <td>0.000000</td>\n",
       "    </tr>\n",
       "    <tr>\n",
       "      <th>14</th>\n",
       "      <td>TransactionID</td>\n",
       "      <td>0.000000</td>\n",
       "      <td>0.000000</td>\n",
       "    </tr>\n",
       "  </tbody>\n",
       "</table>\n",
       "</div>"
      ],
      "text/plain": [
       "          features  null_percent_in_fraud  null_percent_in_non_fraud\n",
       "0            dist2              81.943571                  94.052050\n",
       "1            dist1              76.987853                  59.023789\n",
       "2       DeviceInfo              58.345836                  80.687236\n",
       "3       DeviceType              45.743600                  77.258426\n",
       "4    R_emaildomain              45.666167                  77.878735\n",
       "5            addr2              37.463098                  10.171493\n",
       "6            addr1              37.463098                  10.171493\n",
       "7    P_emaildomain              13.502396                  16.085225\n",
       "8            card4               0.198422                   0.269532\n",
       "9            card6               0.188743                   0.268830\n",
       "10         isFraud               0.000000                   0.000000\n",
       "11       ProductCD               0.000000                   0.000000\n",
       "12  TransactionAmt               0.000000                   0.000000\n",
       "13   TransactionDT               0.000000                   0.000000\n",
       "14   TransactionID               0.000000                   0.000000"
      ]
     },
     "execution_count": 7,
     "metadata": {},
     "output_type": "execute_result"
    }
   ],
   "source": [
    "total_null_stats.head(20)"
   ]
  },
  {
   "cell_type": "markdown",
   "metadata": {
    "colab_type": "text",
    "id": "G9VBemL14VKv"
   },
   "source": [
    "### Observations ###\n",
    "1. Just like the non-fraud transactions, majority of null values in fraud transactions are from distances, devices and email addresses.\n",
    "2. The key difference is in the field of `DeviceInfo` (Windows/Mac OS), `DeviceType` (mobile, desktop), `R_emaildomain` (receipient email).\n",
    "  \n",
    "    a. For fraud transaction `null` values for DeviceInfo is around 58% of its set, whereas for non-fraud transactions its around 80%. \n",
    "  \n",
    "    b. For fraud transaction `null` values for DeviceType is around 45% of its set, whereas for non-fraud transaction its around 77%.\n",
    "  \n",
    "    c. Also receipent email address are `null` for 45% of its set, whereas for non-fraud transaction its 77%.\n",
    "  \n",
    "  ### Conclusion (from visualization around null values in Fraud transactions and Non-Fraud transactions) ###\n",
    " One possible explanation for above discrepancy could be: the values for above details like email address are usually not provided or deferred by benevolent transactions, but a fraudster may have provided fake values instead of ignoring like a regular transactor. This in-turn reduced `null` values for fraud transactions."
   ]
  },
  {
   "cell_type": "markdown",
   "metadata": {},
   "source": [
    "### [Part 1] Exploring card-issuer field (card4) between fraudulent vs non-fraudluent transactions"
   ]
  },
  {
   "cell_type": "code",
   "execution_count": 8,
   "metadata": {},
   "outputs": [
    {
     "data": {
      "image/png": "[encoded data removed]",
      "text/plain": [
       "<Figure size 432x288 with 1 Axes>"
      ]
     },
     "metadata": {
      "needs_background": "light"
     },
     "output_type": "display_data"
    }
   ],
   "source": [
    "fraud_card_issuer_freq = fraudulent_df.card4.value_counts().sort_values(ascending=True)\n",
    "fraud_card_issuer_freq = fraud_card_issuer_freq.rename_axis('card4').reset_index(name='freq')\n",
    "\n",
    "non_fraud_card_issuer_freq = non_fraudulent_df.card4.value_counts().sort_values(ascending=True)\n",
    "non_fraud_card_issuer_freq = non_fraud_card_issuer_freq.rename_axis('card4').reset_index(name='freq')\n",
    "\n",
    "total_fraud_card_issuer_freq = fraud_card_issuer_freq.freq.sum()\n",
    "total_non_fraud_card_issuer_freq = non_fraud_card_issuer_freq.freq.sum()\n",
    "\n",
    "fraud_card_issuer_freq['percent'] = fraud_card_issuer_freq['freq'] * 100.0 / total_fraud_card_issuer_freq\n",
    "non_fraud_card_issuer_freq['percent'] = non_fraud_card_issuer_freq['freq'] * 100.0 / total_non_fraud_card_issuer_freq\n",
    "\n",
    "combined_card_issuer_freq = pd.merge(fraud_card_issuer_freq, non_fraud_card_issuer_freq, on='card4', how='outer', suffixes=['_in_fraud', '_in_non_fraud'])\n",
    "\n",
    "combined_card_issuer_freq[['card4', 'percent_in_fraud', 'percent_in_non_fraud']].plot.bar(x='card4')\n",
    "plt.tight_layout()"
   ]
  },
  {
   "cell_type": "markdown",
   "metadata": {},
   "source": [
    "### Conclusion (card4):\n",
    "1.  Except for minor bump for card-issuer 'discover' the usage for all types of card-issuers (american express, visa, etc.) is similar between fraudulent vs non-fraudulent transactions\n",
    "2.  The minor bump in 'discover' category which is 2 % for fraud transactions vs 1 % for non-fraud transactions, may indicate that fraudster are twice as likely to use 'discover' than their non-fraudster counterparts"
   ]
  },
  {
   "cell_type": "code",
   "execution_count": 9,
   "metadata": {},
   "outputs": [
    {
     "data": {
      "text/html": [
       "<div>\n",
       "<style scoped>\n",
       "    .dataframe tbody tr th:only-of-type {\n",
       "        vertical-align: middle;\n",
       "    }\n",
       "\n",
       "    .dataframe tbody tr th {\n",
       "        vertical-align: top;\n",
       "    }\n",
       "\n",
       "    .dataframe thead th {\n",
       "        text-align: right;\n",
       "    }\n",
       "</style>\n",
       "<table border=\"1\" class=\"dataframe\">\n",
       "  <thead>\n",
       "    <tr style=\"text-align: right;\">\n",
       "      <th></th>\n",
       "      <th>card4</th>\n",
       "      <th>freq_in_fraud</th>\n",
       "      <th>percent_in_fraud</th>\n",
       "      <th>freq_in_non_fraud</th>\n",
       "      <th>percent_in_non_fraud</th>\n",
       "    </tr>\n",
       "  </thead>\n",
       "  <tbody>\n",
       "    <tr>\n",
       "      <th>0</th>\n",
       "      <td>american express</td>\n",
       "      <td>239</td>\n",
       "      <td>1.158956</td>\n",
       "      <td>8089</td>\n",
       "      <td>1.423265</td>\n",
       "    </tr>\n",
       "    <tr>\n",
       "      <th>1</th>\n",
       "      <td>discover</td>\n",
       "      <td>514</td>\n",
       "      <td>2.492484</td>\n",
       "      <td>6137</td>\n",
       "      <td>1.079809</td>\n",
       "    </tr>\n",
       "    <tr>\n",
       "      <th>2</th>\n",
       "      <td>mastercard</td>\n",
       "      <td>6496</td>\n",
       "      <td>31.500339</td>\n",
       "      <td>182721</td>\n",
       "      <td>32.149889</td>\n",
       "    </tr>\n",
       "    <tr>\n",
       "      <th>3</th>\n",
       "      <td>visa</td>\n",
       "      <td>13373</td>\n",
       "      <td>64.848220</td>\n",
       "      <td>371394</td>\n",
       "      <td>65.347036</td>\n",
       "    </tr>\n",
       "  </tbody>\n",
       "</table>\n",
       "</div>"
      ],
      "text/plain": [
       "              card4  freq_in_fraud  percent_in_fraud  freq_in_non_fraud  \\\n",
       "0  american express            239          1.158956               8089   \n",
       "1          discover            514          2.492484               6137   \n",
       "2        mastercard           6496         31.500339             182721   \n",
       "3              visa          13373         64.848220             371394   \n",
       "\n",
       "   percent_in_non_fraud  \n",
       "0              1.423265  \n",
       "1              1.079809  \n",
       "2             32.149889  \n",
       "3             65.347036  "
      ]
     },
     "execution_count": 9,
     "metadata": {},
     "output_type": "execute_result"
    }
   ],
   "source": [
    "combined_card_issuer_freq"
   ]
  },
  {
   "cell_type": "markdown",
   "metadata": {},
   "source": [
    "### [Part 1] Exploring card-type (card6 field) between fraudulent vs non-fraudulent transactions ###"
   ]
  },
  {
   "cell_type": "code",
   "execution_count": 10,
   "metadata": {},
   "outputs": [
    {
     "data": {
      "text/html": [
       "<div>\n",
       "<style scoped>\n",
       "    .dataframe tbody tr th:only-of-type {\n",
       "        vertical-align: middle;\n",
       "    }\n",
       "\n",
       "    .dataframe tbody tr th {\n",
       "        vertical-align: top;\n",
       "    }\n",
       "\n",
       "    .dataframe thead th {\n",
       "        text-align: right;\n",
       "    }\n",
       "</style>\n",
       "<table border=\"1\" class=\"dataframe\">\n",
       "  <thead>\n",
       "    <tr style=\"text-align: right;\">\n",
       "      <th></th>\n",
       "      <th>card6</th>\n",
       "      <th>percent_in_fraud</th>\n",
       "      <th>percent_in_non_fraud</th>\n",
       "      <th>percent_exp_fraud</th>\n",
       "      <th>percent_exp_non_fraud</th>\n",
       "    </tr>\n",
       "  </thead>\n",
       "  <tbody>\n",
       "    <tr>\n",
       "      <th>0</th>\n",
       "      <td>credit</td>\n",
       "      <td>48.244763</td>\n",
       "      <td>24.463310</td>\n",
       "      <td>3.640408</td>\n",
       "      <td>2.902942</td>\n",
       "    </tr>\n",
       "    <tr>\n",
       "      <th>1</th>\n",
       "      <td>debit</td>\n",
       "      <td>51.755237</td>\n",
       "      <td>75.528772</td>\n",
       "      <td>3.726646</td>\n",
       "      <td>4.227051</td>\n",
       "    </tr>\n",
       "    <tr>\n",
       "      <th>2</th>\n",
       "      <td>charge card</td>\n",
       "      <td>0.000000</td>\n",
       "      <td>0.002639</td>\n",
       "      <td>0.000000</td>\n",
       "      <td>0.138195</td>\n",
       "    </tr>\n",
       "    <tr>\n",
       "      <th>3</th>\n",
       "      <td>debit or credit</td>\n",
       "      <td>0.000000</td>\n",
       "      <td>0.005278</td>\n",
       "      <td>0.000000</td>\n",
       "      <td>0.174115</td>\n",
       "    </tr>\n",
       "  </tbody>\n",
       "</table>\n",
       "</div>"
      ],
      "text/plain": [
       "             card6  percent_in_fraud  percent_in_non_fraud  percent_exp_fraud  \\\n",
       "0           credit         48.244763             24.463310           3.640408   \n",
       "1            debit         51.755237             75.528772           3.726646   \n",
       "2      charge card          0.000000              0.002639           0.000000   \n",
       "3  debit or credit          0.000000              0.005278           0.000000   \n",
       "\n",
       "   percent_exp_non_fraud  \n",
       "0               2.902942  \n",
       "1               4.227051  \n",
       "2               0.138195  \n",
       "3               0.174115  "
      ]
     },
     "execution_count": 10,
     "metadata": {},
     "output_type": "execute_result"
    }
   ],
   "source": [
    "fraud_card_freq = fraudulent_df.card6.value_counts().sort_values(ascending=True)\n",
    "fraud_card_freq = fraud_card_freq.rename_axis(\"card6\").reset_index(name=\"freq\")\n",
    "\n",
    "non_fraud_card_freq = non_fraudulent_df.card6.value_counts().sort_values(ascending=True)\n",
    "non_fraud_card_freq = non_fraud_card_freq.rename_axis(\"card6\").reset_index(name=\"freq\")\n",
    "\n",
    "total_non_fraud_freq = non_fraud_card_freq.freq.sum()\n",
    "total_fraud_freq = fraud_card_freq.freq.sum()\n",
    "\n",
    "fraud_card_freq['percent'] = fraud_card_freq['freq'] * 100.0 / total_fraud_freq\n",
    "non_fraud_card_freq['percent'] = non_fraud_card_freq['freq'] * 100.0 / total_non_fraud_freq\n",
    "\n",
    "combined_card_freq = pd.merge(fraud_card_freq[['card6', 'percent']], non_fraud_card_freq[['card6', 'percent']], on='card6', how='outer', suffixes=[\"_in_fraud\", '_in_non_fraud'])\n",
    "# Outer join results in NAN for non-existent values in opposite sets, so filling with 0, since we are dealing with percentages\n",
    "combined_card_freq = combined_card_freq.fillna(0.0) \n",
    "combined_card_freq['percent_exp_fraud'] = np.cbrt(combined_card_freq['percent_in_fraud'])\n",
    "combined_card_freq['percent_exp_non_fraud'] = np.cbrt(combined_card_freq['percent_in_non_fraud'])\n",
    "\n",
    "combined_card_freq"
   ]
  },
  {
   "cell_type": "code",
   "execution_count": 149,
   "metadata": {},
   "outputs": [
    {
     "data": {
      "image/png": "[encoded data removed]",
      "text/plain": [
       "<Figure size 432x288 with 2 Axes>"
      ]
     },
     "metadata": {
      "needs_background": "light"
     },
     "output_type": "display_data"
    }
   ],
   "source": [
    "figures, axes = plt.subplots(1,2)\n",
    "combined_card_freq.plot.bar(x='card6', ax=axes[0], y=['percent_in_fraud', 'percent_in_non_fraud'])\n",
    "combined_card_freq.plot.bar(x='card6', ax=axes[1], y=['percent_exp_fraud', 'percent_exp_non_fraud'])\n",
    "axes[0].set_title(\"normal scale\")\n",
    "axes[1].set_title(\"exponential scale (cube-root)\")\n",
    "plt.tight_layout()"
   ]
  },
  {
   "cell_type": "markdown",
   "metadata": {},
   "source": [
    "### Conclusion (card6: card-type) ###\n",
    "1. Almost twice the proportional times fraud transactions are carried out through credit card than non-fraud transactions (viz., 48%, 24%)\n",
    "2. Fraudulent transactions are carried out relatively less amount of times through debit card than non-fraud transactions (viz., 51%, 75%)"
   ]
  },
  {
   "cell_type": "markdown",
   "metadata": {},
   "source": [
    "### [Part 1] Exploring DeviceInfo between fraudulent and non-fraudulent transactins ###"
   ]
  },
  {
   "cell_type": "code",
   "execution_count": 150,
   "metadata": {},
   "outputs": [
    {
     "data": {
      "image/png": "[encoded data removed]",
      "text/plain": [
       "<Figure size 432x288 with 2 Axes>"
      ]
     },
     "metadata": {
      "needs_background": "light"
     },
     "output_type": "display_data"
    }
   ],
   "source": [
    "non_null_device_info_count_fraud = fraudulent_df.DeviceInfo.count()\n",
    "non_null_device_info_count_non_fraud = non_fraudulent_df.DeviceInfo.count()\n",
    "\n",
    "figure, axes = plt.subplots(1,2)\n",
    "\n",
    "top_10_fraud_device_counts = fraudulent_df.DeviceInfo.value_counts().to_frame()[0:10]\n",
    "top_10_fraud_device_counts = top_10_fraud_device_counts.rename(columns={\"DeviceInfo\": \"count\"})\n",
    "\n",
    "top_10_nonfraud_device_counts = non_fraudulent_df.DeviceInfo.value_counts().to_frame()[0:10]\n",
    "top_10_nonfraud_device_counts = top_10_nonfraud_device_counts.rename(columns={\"DeviceInfo\": \"count\"})\n",
    "\n",
    "# Converting to percentages\n",
    "# top10FraudDeviceInfos.count = (top10FraudDeviceInfos['count'] * 100) / non_null_device_info_count_fraud\n",
    "top_10_fraud_device_counts['percent'] = top_10_fraud_device_counts['count'].apply(lambda x: (x * 100)/non_null_device_info_count_fraud)\n",
    "top_10_nonfraud_device_counts['percent'] = top_10_nonfraud_device_counts['count'].apply(lambda x: (x * 100)/non_null_device_info_count_non_fraud)\n",
    "\n",
    "top_10_fraud_device_counts.plot.bar(ax=axes[0], y='percent')\n",
    "top_10_nonfraud_device_counts.plot.bar(ax=axes[1], y='percent')\n",
    "\n",
    "axes[0].set_title(\"Fraud device-infos\")\n",
    "axes[1].set_title(\"Non Fraud device-infos\")\n",
    "\n",
    "plt.tight_layout()"
   ]
  },
  {
   "cell_type": "markdown",
   "metadata": {},
   "source": [
    "### Analysing suspicious device infos ###"
   ]
  },
  {
   "cell_type": "code",
   "execution_count": 14,
   "metadata": {},
   "outputs": [
    {
     "name": "stdout",
     "output_type": "stream",
     "text": [
      "Percentage for agent: hi6210sft Build/MRA58K, fraud: 2.091, non-fraud: 0.009\n",
      "Percentage for agent: SM-A300H Build/LRX22G, fraud: 1.964, non-fraud: 0.031\n",
      "Percentage for agent: LG-D320 Build/KOT49I.V10a, fraud: 0.709, non-fraud: 0.009\n"
     ]
    },
    {
     "data": {
      "text/plain": [
       "<matplotlib.axes._subplots.AxesSubplot at 0x1bb90684320>"
      ]
     },
     "execution_count": 14,
     "metadata": {},
     "output_type": "execute_result"
    },
    {
     "data": {
      "image/png": "[encoded data removed]",
      "text/plain": [
       "<Figure size 432x288 with 1 Axes>"
      ]
     },
     "metadata": {
      "needs_background": "light"
     },
     "output_type": "display_data"
    }
   ],
   "source": [
    "suspicious_device_agents = ['hi6210sft Build/MRA58K', 'SM-A300H Build/LRX22G', 'LG-D320 Build/KOT49I.V10a']\n",
    "percents_in_innocent_transaction = [non_fraudulent_df[non_fraudulent_df.DeviceInfo == a].shape[0] for a in suspicious_device_agents]\n",
    "percents_in_innocent_transaction = [p * 100.0 / non_null_device_info_count_non_fraud  for p in percents_in_innocent_transaction]\n",
    "percents_in_innocent_transaction = [round(p, 3) for p in percents_in_innocent_transaction]\n",
    "\n",
    "percents_in_fraud_transaction = [fraudulent_df[fraudulent_df.DeviceInfo == a].shape[0] for a in suspicious_device_agents]\n",
    "percents_in_fraud_transaction = [p * 100.0 / non_null_device_info_count_fraud  for p in percents_in_fraud_transaction]\n",
    "percents_in_fraud_transaction = [round(p, 3) for p in percents_in_fraud_transaction]\n",
    "\n",
    "i = 0\n",
    "df_dic = {}\n",
    "df_dic['transaction_type'] = ['fraud', 'non_fraud']\n",
    "for agent in suspicious_device_agents:\n",
    "    df_dic[agent] = [percents_in_fraud_transaction[i], percents_in_innocent_transaction[i]]\n",
    "    print(\"Percentage for agent: \" + agent +\n",
    "          \", fraud: \" + str(percents_in_fraud_transaction[i]) + \", non-fraud: \" + str(percents_in_innocent_transaction[i]))\n",
    "    i += 1\n",
    "suspicious_device_infos = pd.DataFrame(df_dic)\n",
    "\n",
    "\n",
    "for agent in suspicious_device_agents:\n",
    "#   Amplifying values to understand the relative scale\n",
    "    suspicious_device_infos[agent] = np.sqrt(suspicious_device_infos[agent])\n",
    "suspicious_device_infos.plot.bar(x='transaction_type')"
   ]
  },
  {
   "cell_type": "markdown",
   "metadata": {},
   "source": [
    "### Conclusion (DeviceInfo): ###\n",
    "1.  We can observe that for both fraudulent and non-fraudulent transactions, device agents: Windows/iOS/MacOS have been used most frequently\n",
    "2.  But, for some special devices ('hi6210sft Build/MRA58K', 'SM-A300H Build/LRX22G', 'LG-D320 Build/KOT49I.V10a') have frequency in the range of [0.7, 2] % which may not seem significant at first glance. But it is at least 70~ times more frequent than their non fraudulent counterparts [0.009, 0.031] %\n",
    "3.  A quick search on this agents reveals that these are agents of mobile devices.\n",
    "4.  In summary, it seems that fraudulent transactions are done more on mobile devices"
   ]
  },
  {
   "cell_type": "markdown",
   "metadata": {},
   "source": [
    "### [Part 1] Exploring DeviceType field between fraudulent vs non-fraudulent transactions ###"
   ]
  },
  {
   "cell_type": "code",
   "execution_count": 177,
   "metadata": {},
   "outputs": [
    {
     "data": {
      "image/png": "[encoded data removed]",
      "text/plain": [
       "<Figure size 432x288 with 2 Axes>"
      ]
     },
     "metadata": {},
     "output_type": "display_data"
    }
   ],
   "source": [
    "fraud_device_type_freq = fraudulent_df.DeviceType.value_counts().sort_values(ascending=True)\n",
    "fraud_device_type_freq = fraud_device_type_freq.rename_axis('device_type').reset_index(name='freq')\n",
    "\n",
    "non_fraud_device_type_freq = non_fraudulent_df.DeviceType.value_counts().sort_values(ascending=True)\n",
    "non_fraud_device_type_freq = non_fraud_device_type_freq.rename_axis('device_type').reset_index(name='freq')\n",
    "\n",
    "total_fraud_device_type = fraud_device_type_freq.freq.sum()\n",
    "total_non_fraud_device_type = non_fraud_device_type_freq.freq.sum()\n",
    "\n",
    "fraud_device_type_freq['percent'] = fraud_device_type_freq['freq'] * 100.0 / total_fraud_device_type\n",
    "non_fraud_device_type_freq['percent'] = non_fraud_device_type_freq['freq'] * 100.0 / total_non_fraud_device_type\n",
    "\n",
    "combined_device_type = pd.merge(fraud_device_type_freq, non_fraud_device_type_freq, on='device_type', how='outer', suffixes=['_in_fraud', '_in_non_fraud'])\n",
    "\n",
    "# combined_device_type[['device_type', 'percent_in_fraud', 'percent_in_non_fraud']].plot.bar(x='device_type')\n",
    "\n",
    "figures, axes = plt.subplots(1, 2)\n",
    "axes[0].pie(combined_device_type['percent_in_fraud'], explode=(0.1, 0.0), labels=combined_device_type[\"device_type\"], autopct='%1.1f%%', shadow=True, startangle=90)\n",
    "axes[0].axis('equal')  \n",
    "axes[0].set_title(\"fraud\")\n",
    "\n",
    "axes[1].pie(combined_device_type['percent_in_non_fraud'], explode=(0.0, 0.1), labels=combined_device_type[\"device_type\"], autopct='%1.1f%%', shadow=True, startangle=60)\n",
    "axes[1].axis('equal')  \n",
    "axes[1].set_title(\"non_fraud\")\n",
    "\n",
    "plt.tight_layout()"
   ]
  },
  {
   "cell_type": "markdown",
   "metadata": {},
   "source": [
    "### Conclusion (DeviceType): ###\n",
    "1. Desktop devices are used less in fraudulent transactions, while mobile devices are used heavily for fraudulent transactions\n"
   ]
  },
  {
   "cell_type": "markdown",
   "metadata": {},
   "source": [
    "### [Part 1] Exploring values of addr1 (field) for fraud vs non-fraud transactions ###"
   ]
  },
  {
   "cell_type": "markdown",
   "metadata": {},
   "source": [
    "### Citation:\n",
    " https://stackoverflow.com/questions/51749208/plotting-two-histograms-from-a-pandas-dataframe-in-one-subplot-using-matplotlib"
   ]
  },
  {
   "cell_type": "code",
   "execution_count": 15,
   "metadata": {},
   "outputs": [
    {
     "data": {
      "image/png": "[encoded data removed]",
      "text/plain": [
       "<Figure size 432x288 with 2 Axes>"
      ]
     },
     "metadata": {
      "needs_background": "light"
     },
     "output_type": "display_data"
    }
   ],
   "source": [
    "fraud_addr1_freq = fraudulent_df.addr1.value_counts().sort_values(ascending=False)\n",
    "fraud_addr1_freq = fraud_addr1_freq.rename_axis('addr1').reset_index(name='freq')\n",
    "fraud_addr1_freq['percents'] = fraud_addr1_freq['freq'] * 100.0 / fraud_addr1_freq.freq.sum()\n",
    "\n",
    "non_fraud_addr1_freq = non_fraudulent_df.addr1.value_counts().sort_values(ascending=False)\n",
    "non_fraud_addr1_freq = non_fraud_addr1_freq.rename_axis('addr1').reset_index(name='freq')\n",
    "non_fraud_addr1_freq['percents'] = non_fraud_addr1_freq['freq'] * 100.0 / non_fraud_addr1_freq.freq.sum()\n",
    "\n",
    "fraud_addr1_freq = fraud_addr1_freq[0:10]\n",
    "non_fraud_addr1_freq = non_fraud_addr1_freq[0:10]\n",
    "\n",
    "figures, axes = plt.subplots(1, 2)\n",
    "fraud_addr1_freq[['addr1', 'percents']].plot.bar(x='addr1', y = ['percents'], ax=axes[0])\n",
    "non_fraud_addr1_freq[['addr1', 'percents']].plot.bar(x='addr1', y = ['percents'], ax=axes[1])\n",
    "\n",
    "axes[0].set_title('fraud')\n",
    "axes[1].set_title('non_fraud')\n",
    "\n",
    "plt.tight_layout()"
   ]
  },
  {
   "cell_type": "markdown",
   "metadata": {},
   "source": [
    "### Conclusion (addr1): ###\n",
    "1.  Some codes like 337 are relatively more frequent in fraudulent transactions than in non-fraudulent transactions"
   ]
  },
  {
   "cell_type": "markdown",
   "metadata": {},
   "source": [
    "### [Part 1] Exploring values of addr2 (field) for fraud vs non-fraud transactions ###"
   ]
  },
  {
   "cell_type": "code",
   "execution_count": 16,
   "metadata": {},
   "outputs": [
    {
     "name": "stderr",
     "output_type": "stream",
     "text": [
      "C:\\Users\\Paras\\Anaconda3\\lib\\site-packages\\ipykernel_launcher.py:14: SettingWithCopyWarning: \n",
      "A value is trying to be set on a copy of a slice from a DataFrame.\n",
      "Try using .loc[row_indexer,col_indexer] = value instead\n",
      "\n",
      "See the caveats in the documentation: http://pandas.pydata.org/pandas-docs/stable/indexing.html#indexing-view-versus-copy\n",
      "  \n",
      "C:\\Users\\Paras\\Anaconda3\\lib\\site-packages\\ipykernel_launcher.py:15: SettingWithCopyWarning: \n",
      "A value is trying to be set on a copy of a slice from a DataFrame.\n",
      "Try using .loc[row_indexer,col_indexer] = value instead\n",
      "\n",
      "See the caveats in the documentation: http://pandas.pydata.org/pandas-docs/stable/indexing.html#indexing-view-versus-copy\n",
      "  from ipykernel import kernelapp as app\n"
     ]
    },
    {
     "data": {
      "image/png": "[encoded data removed]",
      "text/plain": [
       "<Figure size 432x288 with 1 Axes>"
      ]
     },
     "metadata": {
      "needs_background": "light"
     },
     "output_type": "display_data"
    }
   ],
   "source": [
    "fraud_addr2_freq = fraudulent_df.addr2.value_counts().sort_values(ascending=False)\n",
    "fraud_addr2_freq = fraud_addr2_freq.rename_axis('addr2').reset_index(name='addr2_counts')\n",
    "fraud_addr2_freq['addr2_percents'] = fraud_addr2_freq['addr2_counts'] * 100.0 / fraud_addr2_freq.addr2_counts.sum()\n",
    "\n",
    "non_fraud_addr2_freq = non_fraudulent_df.addr2.value_counts().sort_values(ascending=False)\n",
    "non_fraud_addr2_freq = non_fraud_addr2_freq.rename_axis('addr2').reset_index(name='addr2_counts')\n",
    "non_fraud_addr2_freq['addr2_percents'] = non_fraud_addr2_freq['addr2_counts'] * 100.0 / non_fraud_addr2_freq.addr2_counts.sum()\n",
    "\n",
    "combined_addr2_freq = pd.merge(fraud_addr2_freq, non_fraud_addr2_freq, on='addr2', how='outer', suffixes=['_in_fraud', '_in_non_fraud'])\n",
    "combined_addr2_freq = combined_addr2_freq.fillna(0)\n",
    "combined_addr2_freq = combined_addr2_freq[0:10]\n",
    "\n",
    "addr2_freq_scaled = combined_addr2_freq[['addr2', 'addr2_percents_in_fraud', 'addr2_percents_in_non_fraud']]\n",
    "addr2_freq_scaled['addr2_percents_in_fraud'] = np.sqrt(addr2_freq_scaled['addr2_percents_in_fraud'])\n",
    "addr2_freq_scaled['addr2_percents_in_non_fraud'] = np.sqrt(addr2_freq_scaled['addr2_percents_in_non_fraud'])\n",
    "addr2_freq_scaled.plot.bar(x='addr2', y=['addr2_percents_in_fraud', 'addr2_percents_in_non_fraud'])\n",
    "plt.tight_layout()"
   ]
  },
  {
   "cell_type": "code",
   "execution_count": 17,
   "metadata": {},
   "outputs": [],
   "source": [
    "combined_addr2_freq['percent_ratio'] = combined_addr2_freq['addr2_percents_in_fraud'] / combined_addr2_freq['addr2_percents_in_non_fraud']"
   ]
  },
  {
   "cell_type": "code",
   "execution_count": 18,
   "metadata": {},
   "outputs": [
    {
     "data": {
      "text/html": [
       "<div>\n",
       "<style scoped>\n",
       "    .dataframe tbody tr th:only-of-type {\n",
       "        vertical-align: middle;\n",
       "    }\n",
       "\n",
       "    .dataframe tbody tr th {\n",
       "        vertical-align: top;\n",
       "    }\n",
       "\n",
       "    .dataframe thead th {\n",
       "        text-align: right;\n",
       "    }\n",
       "</style>\n",
       "<table border=\"1\" class=\"dataframe\">\n",
       "  <thead>\n",
       "    <tr style=\"text-align: right;\">\n",
       "      <th></th>\n",
       "      <th>addr2</th>\n",
       "      <th>addr2_counts_in_fraud</th>\n",
       "      <th>addr2_percents_in_fraud</th>\n",
       "      <th>addr2_counts_in_non_fraud</th>\n",
       "      <th>addr2_percents_in_non_fraud</th>\n",
       "      <th>percent_ratio</th>\n",
       "    </tr>\n",
       "  </thead>\n",
       "  <tbody>\n",
       "    <tr>\n",
       "      <th>0</th>\n",
       "      <td>87.0</td>\n",
       "      <td>12477.0</td>\n",
       "      <td>96.556261</td>\n",
       "      <td>508004.0</td>\n",
       "      <td>99.236588</td>\n",
       "      <td>0.972991</td>\n",
       "    </tr>\n",
       "    <tr>\n",
       "      <th>1</th>\n",
       "      <td>60.0</td>\n",
       "      <td>279.0</td>\n",
       "      <td>2.159108</td>\n",
       "      <td>2805.0</td>\n",
       "      <td>0.547946</td>\n",
       "      <td>3.940369</td>\n",
       "    </tr>\n",
       "    <tr>\n",
       "      <th>2</th>\n",
       "      <td>96.0</td>\n",
       "      <td>89.0</td>\n",
       "      <td>0.688748</td>\n",
       "      <td>549.0</td>\n",
       "      <td>0.107245</td>\n",
       "      <td>6.422191</td>\n",
       "    </tr>\n",
       "    <tr>\n",
       "      <th>3</th>\n",
       "      <td>65.0</td>\n",
       "      <td>44.0</td>\n",
       "      <td>0.340505</td>\n",
       "      <td>38.0</td>\n",
       "      <td>0.007423</td>\n",
       "      <td>45.870625</td>\n",
       "    </tr>\n",
       "    <tr>\n",
       "      <th>4</th>\n",
       "      <td>10.0</td>\n",
       "      <td>8.0</td>\n",
       "      <td>0.061910</td>\n",
       "      <td>0.0</td>\n",
       "      <td>0.000000</td>\n",
       "      <td>inf</td>\n",
       "    </tr>\n",
       "    <tr>\n",
       "      <th>5</th>\n",
       "      <td>32.0</td>\n",
       "      <td>6.0</td>\n",
       "      <td>0.046432</td>\n",
       "      <td>85.0</td>\n",
       "      <td>0.016604</td>\n",
       "      <td>2.796391</td>\n",
       "    </tr>\n",
       "    <tr>\n",
       "      <th>6</th>\n",
       "      <td>51.0</td>\n",
       "      <td>4.0</td>\n",
       "      <td>0.030955</td>\n",
       "      <td>0.0</td>\n",
       "      <td>0.000000</td>\n",
       "      <td>inf</td>\n",
       "    </tr>\n",
       "    <tr>\n",
       "      <th>7</th>\n",
       "      <td>46.0</td>\n",
       "      <td>3.0</td>\n",
       "      <td>0.023216</td>\n",
       "      <td>0.0</td>\n",
       "      <td>0.000000</td>\n",
       "      <td>inf</td>\n",
       "    </tr>\n",
       "    <tr>\n",
       "      <th>8</th>\n",
       "      <td>54.0</td>\n",
       "      <td>2.0</td>\n",
       "      <td>0.015477</td>\n",
       "      <td>4.0</td>\n",
       "      <td>0.000781</td>\n",
       "      <td>19.807770</td>\n",
       "    </tr>\n",
       "    <tr>\n",
       "      <th>9</th>\n",
       "      <td>92.0</td>\n",
       "      <td>2.0</td>\n",
       "      <td>0.015477</td>\n",
       "      <td>0.0</td>\n",
       "      <td>0.000000</td>\n",
       "      <td>inf</td>\n",
       "    </tr>\n",
       "  </tbody>\n",
       "</table>\n",
       "</div>"
      ],
      "text/plain": [
       "   addr2  addr2_counts_in_fraud  addr2_percents_in_fraud  \\\n",
       "0   87.0                12477.0                96.556261   \n",
       "1   60.0                  279.0                 2.159108   \n",
       "2   96.0                   89.0                 0.688748   \n",
       "3   65.0                   44.0                 0.340505   \n",
       "4   10.0                    8.0                 0.061910   \n",
       "5   32.0                    6.0                 0.046432   \n",
       "6   51.0                    4.0                 0.030955   \n",
       "7   46.0                    3.0                 0.023216   \n",
       "8   54.0                    2.0                 0.015477   \n",
       "9   92.0                    2.0                 0.015477   \n",
       "\n",
       "   addr2_counts_in_non_fraud  addr2_percents_in_non_fraud  percent_ratio  \n",
       "0                   508004.0                    99.236588       0.972991  \n",
       "1                     2805.0                     0.547946       3.940369  \n",
       "2                      549.0                     0.107245       6.422191  \n",
       "3                       38.0                     0.007423      45.870625  \n",
       "4                        0.0                     0.000000            inf  \n",
       "5                       85.0                     0.016604       2.796391  \n",
       "6                        0.0                     0.000000            inf  \n",
       "7                        0.0                     0.000000            inf  \n",
       "8                        4.0                     0.000781      19.807770  \n",
       "9                        0.0                     0.000000            inf  "
      ]
     },
     "execution_count": 18,
     "metadata": {},
     "output_type": "execute_result"
    }
   ],
   "source": [
    "combined_addr2_freq.head(10)"
   ]
  },
  {
   "cell_type": "markdown",
   "metadata": {},
   "source": [
    "### Conclusion (addr2): ###\n",
    "1.  Countries with country code: 60, 96, 65, 10, indicate significant transactions in fraud data-set relative to non-fraud data-set\n",
    "2.  Distribution percentage of above codes [2.1, 0.6, 0.3, 0.06] % in fraud whereas in non-fraud it is [0.5, 0.1, 0, 0]\n",
    "3.  Though the range of percentage is too small to make major conclusions.\n",
    "4.  Yet, the corresponding ratio is in order of 3 times, 4 times, 45 times, indefinite times\n",
    "5.  Example for country code 10.0, all the transactions were fraud and none of the transactions made from country-code 10.0 are non-fraud"
   ]
  },
  {
   "cell_type": "markdown",
   "metadata": {},
   "source": [
    "### [Part 1] Exploring P_emaildomain (purchaser email) between fraud and non-fraud transactions"
   ]
  },
  {
   "cell_type": "code",
   "execution_count": 19,
   "metadata": {},
   "outputs": [
    {
     "data": {
      "image/png": "[encoded data removed]",
      "text/plain": [
       "<Figure size 432x288 with 1 Axes>"
      ]
     },
     "metadata": {
      "needs_background": "light"
     },
     "output_type": "display_data"
    }
   ],
   "source": [
    "fraud_p_email_freq =  fraudulent_df.P_emaildomain.value_counts().sort_values(ascending=False)\n",
    "fraud_p_email_freq = fraud_p_email_freq.rename_axis('p_email').reset_index(name='freq')\n",
    "fraud_p_email_freq['percent'] = fraud_p_email_freq['freq'] * 100.0 / fraud_p_email_freq.freq.sum()\n",
    "fraud_p_email_freq = fraud_p_email_freq[0:10]\n",
    "\n",
    "non_fraud_p_email_freq = non_fraudulent_df.P_emaildomain.value_counts().sort_values(ascending=False)\n",
    "non_fraud_p_email_freq = non_fraud_p_email_freq.rename_axis('p_email').reset_index(name='freq')\n",
    "non_fraud_p_email_freq['percent'] = non_fraud_p_email_freq['freq'] * 100.0 / non_fraud_p_email_freq.freq.sum()\n",
    "non_fraud_p_email_freq = non_fraud_p_email_freq[0:10]\n",
    "\n",
    "combined_p_email_freq = pd.merge(fraud_p_email_freq, non_fraud_p_email_freq, how='outer', on='p_email', suffixes=[\"_in_fraud\", \"_in_non_fraud\"])\n",
    "combined_p_email_freq = combined_p_email_freq.fillna(0.0)\n",
    "\n",
    "combined_p_email_freq[['p_email', 'percent_in_fraud', 'percent_in_non_fraud']].plot.bar(x='p_email')\n",
    "plt.tight_layout()\n"
   ]
  },
  {
   "cell_type": "markdown",
   "metadata": {},
   "source": [
    "### Conclusion (P_emaildomain):\n",
    "1.  Almost all the email domains used in non-fraud transactions are popular in fraud transactinos\n",
    "2.  The only difference is yahoo.com, anonymous.com aol.com which are used less frequent in fraud transactions\n",
    "3.  The other key difference is mail.com is explicitly used in fraud transactions"
   ]
  },
  {
   "cell_type": "markdown",
   "metadata": {},
   "source": [
    "### [Part 1] Exploring R_emaildomain (receipient) between fraud and non-fraud transactions"
   ]
  },
  {
   "cell_type": "code",
   "execution_count": 21,
   "metadata": {},
   "outputs": [
    {
     "data": {
      "image/png": "[encoded data removed]",
      "text/plain": [
       "<Figure size 432x288 with 1 Axes>"
      ]
     },
     "metadata": {
      "needs_background": "light"
     },
     "output_type": "display_data"
    }
   ],
   "source": [
    "fraud_r_email_freq =  fraudulent_df.R_emaildomain.value_counts().sort_values(ascending=False)\n",
    "fraud_r_email_freq = fraud_r_email_freq.rename_axis('r_email').reset_index(name='freq')\n",
    "fraud_r_email_freq['percent'] = fraud_r_email_freq['freq'] * 100.0 / fraud_r_email_freq.freq.sum()\n",
    "fraud_r_email_freq = fraud_r_email_freq[0:10]\n",
    "\n",
    "non_fraud_r_email_freq = non_fraudulent_df.R_emaildomain.value_counts().sort_values(ascending=False)\n",
    "non_fraud_r_email_freq = non_fraud_r_email_freq.rename_axis('r_email').reset_index(name='freq')\n",
    "non_fraud_r_email_freq['percent'] = non_fraud_r_email_freq['freq'] * 100.0 / non_fraud_r_email_freq.freq.sum()\n",
    "non_fraud_r_email_freq = non_fraud_r_email_freq[0:10]\n",
    "\n",
    "combined_r_email_freq = pd.merge(fraud_r_email_freq, non_fraud_r_email_freq, how='outer', on='r_email', suffixes=[\"_in_fraud\", \"_in_non_fraud\"])\n",
    "combined_r_email_freq = combined_r_email_freq.fillna(0.0)\n",
    "\n",
    "combined_r_email_freq[['r_email', 'percent_in_fraud', 'percent_in_non_fraud']].plot.bar(x='r_email')\n",
    "plt.tight_layout()\n"
   ]
  },
  {
   "cell_type": "markdown",
   "metadata": {},
   "source": [
    "### Conclusion (R_emaildomain):\n",
    "1.  gmail.com is proportionally more frequent in fraud transactions than non-fraud transactions\n",
    "2.  outlook.es, mail.com, live.com.mx are explicitly used in fraud transactions"
   ]
  },
  {
   "cell_type": "markdown",
   "metadata": {},
   "source": [
    "### [Part-1] Exploring dist1 and dist2 distributions between fraud and non-fraud transactions"
   ]
  },
  {
   "cell_type": "code",
   "execution_count": 202,
   "metadata": {},
   "outputs": [
    {
     "data": {
      "image/png": "[encoded data removed]",
      "text/plain": [
       "<Figure size 432x288 with 4 Axes>"
      ]
     },
     "metadata": {
      "needs_background": "light"
     },
     "output_type": "display_data"
    }
   ],
   "source": [
    "figures, axes = plt.subplots(2,2)\n",
    "sns.violinplot(x=fraudulent_df[\"dist1\"], ax=axes[0,0])\n",
    "sns.violinplot(x=fraudulent_df[\"dist2\"], ax=axes[0,1])\n",
    "sns.violinplot(x=non_fraudulent_df[\"dist1\"], ax=axes[1,0])\n",
    "sns.violinplot(x=non_fraudulent_df[\"dist2\"], ax=axes[1,1])\n",
    "axes[0,0].set_title(\"fraud-dist1\")\n",
    "axes[0,1].set_title(\"fraud-dist2\")\n",
    "axes[1,0].set_title(\"non_fraud-dist1\")\n",
    "axes[1,1].set_title(\"non_fraud-dist2\")\n",
    "\n",
    "plt.tight_layout()"
   ]
  },
  {
   "cell_type": "markdown",
   "metadata": {},
   "source": [
    "### Conclusion (dist1/dist2):\n",
    "1. Dist1 and Dist2 is centered around median more in fraudulent transaction than non-fraudulent transaction\n",
    "2. There is high variance for distances in non-fraudulent transaction"
   ]
  },
  {
   "cell_type": "markdown",
   "metadata": {},
   "source": [
    "### [Part-1] Exploring Transaction amount between fraud and non-fraud transactions"
   ]
  },
  {
   "cell_type": "code",
   "execution_count": 209,
   "metadata": {},
   "outputs": [
    {
     "data": {
      "image/png": "[encoded data removed]",
      "text/plain": [
       "<Figure size 432x288 with 2 Axes>"
      ]
     },
     "metadata": {
      "needs_background": "light"
     },
     "output_type": "display_data"
    }
   ],
   "source": [
    "figures, axes = plt.subplots(1,2)\n",
    "sns.violinplot(x=fraudulent_df[\"TransactionAmt\"], ax=axes[0])\n",
    "sns.violinplot(x=non_fraudulent_df[\"TransactionAmt\"], ax=axes[1])\n",
    "axes[0].set_title(\"fraud\")\n",
    "axes[1].set_title(\"non fraud\")\n",
    "\n",
    "plt.tight_layout()"
   ]
  },
  {
   "cell_type": "markdown",
   "metadata": {},
   "source": [
    "### Conclusion:\n",
    "1. A high variance of transaction amount is observed in fraud transactions than non-fraud transactions\n",
    "2. The transaction amount are scaled to lower range of amount for fraud than non fraud transactions"
   ]
  },
  {
   "cell_type": "markdown",
   "metadata": {
    "colab_type": "text",
    "id": "SO40V6LVGQai"
   },
   "source": [
    "### [Part 1] Observing distributions of fields among fraudulent and non-fraudulent transactions ###"
   ]
  },
  {
   "cell_type": "code",
   "execution_count": 210,
   "metadata": {
    "colab": {
     "base_uri": "https://localhost:8080/",
     "height": 297
    },
    "colab_type": "code",
    "id": "2MTgA9_P3v8a",
    "outputId": "09843135-938c-43ae-8ba0-8558a16887c6"
   },
   "outputs": [
    {
     "data": {
      "image/png": "[encoded data removed]",
      "text/plain": [
       "<Figure size 432x288 with 9 Axes>"
      ]
     },
     "metadata": {
      "needs_background": "light"
     },
     "output_type": "display_data"
    }
   ],
   "source": [
    "fraud_hists = fraudulent_df.hist()\n",
    "plt.tight_layout()"
   ]
  },
  {
   "cell_type": "code",
   "execution_count": 211,
   "metadata": {
    "colab": {
     "base_uri": "https://localhost:8080/",
     "height": 297
    },
    "colab_type": "code",
    "id": "qRoSZLGf6IRk",
    "outputId": "75db46ec-9966-4aeb-d92f-919e854025b7"
   },
   "outputs": [
    {
     "data": {
      "image/png": "[encoded data removed]",
      "text/plain": [
       "<Figure size 432x288 with 9 Axes>"
      ]
     },
     "metadata": {
      "needs_background": "light"
     },
     "output_type": "display_data"
    }
   ],
   "source": [
    "non_fraud_hists = non_fraudulent_df.hist()\n",
    "plt.tight_layout()"
   ]
  },
  {
   "cell_type": "markdown",
   "metadata": {
    "colab_type": "text",
    "id": "7ZPbnitcGiHG"
   },
   "source": [
    "## Conclusion ##\n",
    "Apart from maximum frequency all histograms depict same kind of spread of values between fraudulent transactions and non-fraudulent transactions. The maximum frequency is different obviously because fraudulent transactions are only small fraction (~ 4%) of the global data-set"
   ]
  },
  {
   "cell_type": "markdown",
   "metadata": {
    "colab_type": "text",
    "id": "OXyzCVAWHSZZ"
   },
   "source": [
    "## Observing max-min-std of the fields among fraud vs non-fraud transactions ##"
   ]
  },
  {
   "cell_type": "code",
   "execution_count": 212,
   "metadata": {
    "colab": {
     "base_uri": "https://localhost:8080/",
     "height": 295
    },
    "colab_type": "code",
    "id": "keBe3sphEUMS",
    "outputId": "d7940460-f750-46ed-b591-3a4941ca0978"
   },
   "outputs": [
    {
     "data": {
      "text/html": [
       "<div>\n",
       "<style scoped>\n",
       "    .dataframe tbody tr th:only-of-type {\n",
       "        vertical-align: middle;\n",
       "    }\n",
       "\n",
       "    .dataframe tbody tr th {\n",
       "        vertical-align: top;\n",
       "    }\n",
       "\n",
       "    .dataframe thead th {\n",
       "        text-align: right;\n",
       "    }\n",
       "</style>\n",
       "<table border=\"1\" class=\"dataframe\">\n",
       "  <thead>\n",
       "    <tr style=\"text-align: right;\">\n",
       "      <th></th>\n",
       "      <th>TransactionID</th>\n",
       "      <th>TransactionDT</th>\n",
       "      <th>TransactionAmt</th>\n",
       "      <th>addr1</th>\n",
       "      <th>addr2</th>\n",
       "      <th>dist1</th>\n",
       "      <th>dist2</th>\n",
       "      <th>isFraud</th>\n",
       "    </tr>\n",
       "  </thead>\n",
       "  <tbody>\n",
       "    <tr>\n",
       "      <th>count</th>\n",
       "      <td>2.066300e+04</td>\n",
       "      <td>2.066300e+04</td>\n",
       "      <td>20663.000000</td>\n",
       "      <td>12922.000000</td>\n",
       "      <td>12922.000000</td>\n",
       "      <td>4755.000000</td>\n",
       "      <td>3731.000000</td>\n",
       "      <td>20663.0</td>\n",
       "    </tr>\n",
       "    <tr>\n",
       "      <th>mean</th>\n",
       "      <td>3.294952e+06</td>\n",
       "      <td>7.690033e+06</td>\n",
       "      <td>149.244779</td>\n",
       "      <td>294.317134</td>\n",
       "      <td>86.286024</td>\n",
       "      <td>174.588854</td>\n",
       "      <td>201.472259</td>\n",
       "      <td>1.0</td>\n",
       "    </tr>\n",
       "    <tr>\n",
       "      <th>std</th>\n",
       "      <td>1.620403e+05</td>\n",
       "      <td>4.416551e+06</td>\n",
       "      <td>232.212163</td>\n",
       "      <td>103.584955</td>\n",
       "      <td>4.936238</td>\n",
       "      <td>424.232313</td>\n",
       "      <td>451.589576</td>\n",
       "      <td>0.0</td>\n",
       "    </tr>\n",
       "    <tr>\n",
       "      <th>min</th>\n",
       "      <td>2.987203e+06</td>\n",
       "      <td>8.976000e+04</td>\n",
       "      <td>0.292000</td>\n",
       "      <td>110.000000</td>\n",
       "      <td>10.000000</td>\n",
       "      <td>0.000000</td>\n",
       "      <td>0.000000</td>\n",
       "      <td>1.0</td>\n",
       "    </tr>\n",
       "    <tr>\n",
       "      <th>25%</th>\n",
       "      <td>3.167366e+06</td>\n",
       "      <td>3.965858e+06</td>\n",
       "      <td>35.044000</td>\n",
       "      <td>204.000000</td>\n",
       "      <td>87.000000</td>\n",
       "      <td>3.000000</td>\n",
       "      <td>7.000000</td>\n",
       "      <td>1.0</td>\n",
       "    </tr>\n",
       "    <tr>\n",
       "      <th>50%</th>\n",
       "      <td>3.291934e+06</td>\n",
       "      <td>7.575230e+06</td>\n",
       "      <td>75.000000</td>\n",
       "      <td>299.000000</td>\n",
       "      <td>87.000000</td>\n",
       "      <td>10.000000</td>\n",
       "      <td>49.000000</td>\n",
       "      <td>1.0</td>\n",
       "    </tr>\n",
       "    <tr>\n",
       "      <th>75%</th>\n",
       "      <td>3.428646e+06</td>\n",
       "      <td>1.121743e+07</td>\n",
       "      <td>161.000000</td>\n",
       "      <td>330.000000</td>\n",
       "      <td>87.000000</td>\n",
       "      <td>85.500000</td>\n",
       "      <td>233.000000</td>\n",
       "      <td>1.0</td>\n",
       "    </tr>\n",
       "    <tr>\n",
       "      <th>max</th>\n",
       "      <td>3.577526e+06</td>\n",
       "      <td>1.581088e+07</td>\n",
       "      <td>5191.000000</td>\n",
       "      <td>536.000000</td>\n",
       "      <td>96.000000</td>\n",
       "      <td>4942.000000</td>\n",
       "      <td>9337.000000</td>\n",
       "      <td>1.0</td>\n",
       "    </tr>\n",
       "  </tbody>\n",
       "</table>\n",
       "</div>"
      ],
      "text/plain": [
       "       TransactionID  TransactionDT  TransactionAmt         addr1  \\\n",
       "count   2.066300e+04   2.066300e+04    20663.000000  12922.000000   \n",
       "mean    3.294952e+06   7.690033e+06      149.244779    294.317134   \n",
       "std     1.620403e+05   4.416551e+06      232.212163    103.584955   \n",
       "min     2.987203e+06   8.976000e+04        0.292000    110.000000   \n",
       "25%     3.167366e+06   3.965858e+06       35.044000    204.000000   \n",
       "50%     3.291934e+06   7.575230e+06       75.000000    299.000000   \n",
       "75%     3.428646e+06   1.121743e+07      161.000000    330.000000   \n",
       "max     3.577526e+06   1.581088e+07     5191.000000    536.000000   \n",
       "\n",
       "              addr2        dist1        dist2  isFraud  \n",
       "count  12922.000000  4755.000000  3731.000000  20663.0  \n",
       "mean      86.286024   174.588854   201.472259      1.0  \n",
       "std        4.936238   424.232313   451.589576      0.0  \n",
       "min       10.000000     0.000000     0.000000      1.0  \n",
       "25%       87.000000     3.000000     7.000000      1.0  \n",
       "50%       87.000000    10.000000    49.000000      1.0  \n",
       "75%       87.000000    85.500000   233.000000      1.0  \n",
       "max       96.000000  4942.000000  9337.000000      1.0  "
      ]
     },
     "execution_count": 212,
     "metadata": {},
     "output_type": "execute_result"
    }
   ],
   "source": [
    "fraudulent_df.describe()"
   ]
  },
  {
   "cell_type": "code",
   "execution_count": 213,
   "metadata": {
    "colab": {
     "base_uri": "https://localhost:8080/",
     "height": 295
    },
    "colab_type": "code",
    "id": "dzcnT1EY6olH",
    "outputId": "824fe688-5a20-45cf-f399-4c5c80310274"
   },
   "outputs": [
    {
     "data": {
      "text/html": [
       "<div>\n",
       "<style scoped>\n",
       "    .dataframe tbody tr th:only-of-type {\n",
       "        vertical-align: middle;\n",
       "    }\n",
       "\n",
       "    .dataframe tbody tr th {\n",
       "        vertical-align: top;\n",
       "    }\n",
       "\n",
       "    .dataframe thead th {\n",
       "        text-align: right;\n",
       "    }\n",
       "</style>\n",
       "<table border=\"1\" class=\"dataframe\">\n",
       "  <thead>\n",
       "    <tr style=\"text-align: right;\">\n",
       "      <th></th>\n",
       "      <th>TransactionID</th>\n",
       "      <th>TransactionDT</th>\n",
       "      <th>TransactionAmt</th>\n",
       "      <th>addr1</th>\n",
       "      <th>addr2</th>\n",
       "      <th>dist1</th>\n",
       "      <th>dist2</th>\n",
       "      <th>isFraud</th>\n",
       "    </tr>\n",
       "  </thead>\n",
       "  <tbody>\n",
       "    <tr>\n",
       "      <th>count</th>\n",
       "      <td>5.698770e+05</td>\n",
       "      <td>5.698770e+05</td>\n",
       "      <td>569877.000000</td>\n",
       "      <td>511912.000000</td>\n",
       "      <td>511912.000000</td>\n",
       "      <td>233514.000000</td>\n",
       "      <td>33896.000000</td>\n",
       "      <td>569877.0</td>\n",
       "    </tr>\n",
       "    <tr>\n",
       "      <th>mean</th>\n",
       "      <td>3.281810e+06</td>\n",
       "      <td>7.360791e+06</td>\n",
       "      <td>134.511665</td>\n",
       "      <td>290.643341</td>\n",
       "      <td>86.813620</td>\n",
       "      <td>117.360098</td>\n",
       "      <td>235.199758</td>\n",
       "      <td>0.0</td>\n",
       "    </tr>\n",
       "    <tr>\n",
       "      <th>std</th>\n",
       "      <td>1.707548e+05</td>\n",
       "      <td>4.623930e+06</td>\n",
       "      <td>239.395078</td>\n",
       "      <td>101.692564</td>\n",
       "      <td>2.607742</td>\n",
       "      <td>370.641879</td>\n",
       "      <td>536.798492</td>\n",
       "      <td>0.0</td>\n",
       "    </tr>\n",
       "    <tr>\n",
       "      <th>min</th>\n",
       "      <td>2.987000e+06</td>\n",
       "      <td>8.640000e+04</td>\n",
       "      <td>0.251000</td>\n",
       "      <td>100.000000</td>\n",
       "      <td>13.000000</td>\n",
       "      <td>0.000000</td>\n",
       "      <td>0.000000</td>\n",
       "      <td>0.0</td>\n",
       "    </tr>\n",
       "    <tr>\n",
       "      <th>25%</th>\n",
       "      <td>3.133317e+06</td>\n",
       "      <td>3.010651e+06</td>\n",
       "      <td>43.970000</td>\n",
       "      <td>204.000000</td>\n",
       "      <td>87.000000</td>\n",
       "      <td>3.000000</td>\n",
       "      <td>7.000000</td>\n",
       "      <td>0.0</td>\n",
       "    </tr>\n",
       "    <tr>\n",
       "      <th>50%</th>\n",
       "      <td>3.281808e+06</td>\n",
       "      <td>7.271678e+06</td>\n",
       "      <td>68.500000</td>\n",
       "      <td>299.000000</td>\n",
       "      <td>87.000000</td>\n",
       "      <td>8.000000</td>\n",
       "      <td>36.000000</td>\n",
       "      <td>0.0</td>\n",
       "    </tr>\n",
       "    <tr>\n",
       "      <th>75%</th>\n",
       "      <td>3.429974e+06</td>\n",
       "      <td>1.125334e+07</td>\n",
       "      <td>120.000000</td>\n",
       "      <td>330.000000</td>\n",
       "      <td>87.000000</td>\n",
       "      <td>24.000000</td>\n",
       "      <td>206.000000</td>\n",
       "      <td>0.0</td>\n",
       "    </tr>\n",
       "    <tr>\n",
       "      <th>max</th>\n",
       "      <td>3.577539e+06</td>\n",
       "      <td>1.581113e+07</td>\n",
       "      <td>31937.391000</td>\n",
       "      <td>540.000000</td>\n",
       "      <td>102.000000</td>\n",
       "      <td>10286.000000</td>\n",
       "      <td>11623.000000</td>\n",
       "      <td>0.0</td>\n",
       "    </tr>\n",
       "  </tbody>\n",
       "</table>\n",
       "</div>"
      ],
      "text/plain": [
       "       TransactionID  TransactionDT  TransactionAmt          addr1  \\\n",
       "count   5.698770e+05   5.698770e+05   569877.000000  511912.000000   \n",
       "mean    3.281810e+06   7.360791e+06      134.511665     290.643341   \n",
       "std     1.707548e+05   4.623930e+06      239.395078     101.692564   \n",
       "min     2.987000e+06   8.640000e+04        0.251000     100.000000   \n",
       "25%     3.133317e+06   3.010651e+06       43.970000     204.000000   \n",
       "50%     3.281808e+06   7.271678e+06       68.500000     299.000000   \n",
       "75%     3.429974e+06   1.125334e+07      120.000000     330.000000   \n",
       "max     3.577539e+06   1.581113e+07    31937.391000     540.000000   \n",
       "\n",
       "               addr2          dist1         dist2   isFraud  \n",
       "count  511912.000000  233514.000000  33896.000000  569877.0  \n",
       "mean       86.813620     117.360098    235.199758       0.0  \n",
       "std         2.607742     370.641879    536.798492       0.0  \n",
       "min        13.000000       0.000000      0.000000       0.0  \n",
       "25%        87.000000       3.000000      7.000000       0.0  \n",
       "50%        87.000000       8.000000     36.000000       0.0  \n",
       "75%        87.000000      24.000000    206.000000       0.0  \n",
       "max       102.000000   10286.000000  11623.000000       0.0  "
      ]
     },
     "execution_count": 213,
     "metadata": {},
     "output_type": "execute_result"
    }
   ],
   "source": [
    "non_fraudulent_df.describe()"
   ]
  },
  {
   "cell_type": "markdown",
   "metadata": {
    "colab_type": "text",
    "id": "c5CU6MYsHifk"
   },
   "source": [
    "## Conclusion ##\n",
    "\n",
    "\n",
    "1.   The max value of `TransactionAmt` for fraudulent transactions is 5191, whereas for non-fraudulent transaction it is 31937 (which is roughly 6 times). This suggests that fraudulent transactions are possibly done in smaller denominations may be to avoid flagging or alerting existing Fraud-Detection Systems \n",
    "2.   The max value of `dist1` for fraudulent transactions is 4942, whereas for non-fraudulent transaction it is 10286 (which is roughly twice). It suggests that either the fraudster did frauds at smaller distances or  fraudster recorded fake details regarding address or distances in their order details of locations they are aware of (possibly closer to their residences)\n",
    "3.   The standard deviation of `addr2` of fraudulent transactions is 4.93, whereas for non-fraudulent transactions is 2.6 (which is roughly half). This indicates that the spread of billing region or billing country details for fraudulent transactions is much higher may be because the fraudster were faking their details\n",
    "\n"
   ]
  },
  {
   "cell_type": "markdown",
   "metadata": {
    "colab_type": "text",
    "id": "I0PbMl8CTBgB"
   },
   "source": [
    "## Part 2 - Transaction Frequency"
   ]
  },
  {
   "cell_type": "markdown",
   "metadata": {
    "colab_type": "text",
    "id": "gyvgcIByxEu-"
   },
   "source": [
    "### Citation:\n",
    "1. https://pandas.pydata.org/pandas-docs/stable/reference/api/pandas.cut.html\n",
    "2. https://stackoverflow.com/questions/21441259/pandas-groupby-range-of-values"
   ]
  },
  {
   "cell_type": "code",
   "execution_count": 214,
   "metadata": {
    "colab": {
     "base_uri": "https://localhost:8080/",
     "height": 203
    },
    "colab_type": "code",
    "id": "IwlLdEIMRoY-",
    "outputId": "e1da7cff-b3e3-4d0c-c5be-1b49ef6e1ef9"
   },
   "outputs": [
    {
     "data": {
      "text/html": [
       "<div>\n",
       "<style scoped>\n",
       "    .dataframe tbody tr th:only-of-type {\n",
       "        vertical-align: middle;\n",
       "    }\n",
       "\n",
       "    .dataframe tbody tr th {\n",
       "        vertical-align: top;\n",
       "    }\n",
       "\n",
       "    .dataframe thead th {\n",
       "        text-align: right;\n",
       "    }\n",
       "</style>\n",
       "<table border=\"1\" class=\"dataframe\">\n",
       "  <thead>\n",
       "    <tr style=\"text-align: right;\">\n",
       "      <th></th>\n",
       "      <th>country_code</th>\n",
       "      <th>country_transaction_counts</th>\n",
       "    </tr>\n",
       "  </thead>\n",
       "  <tbody>\n",
       "    <tr>\n",
       "      <th>0</th>\n",
       "      <td>87.0</td>\n",
       "      <td>520481</td>\n",
       "    </tr>\n",
       "    <tr>\n",
       "      <th>1</th>\n",
       "      <td>60.0</td>\n",
       "      <td>3084</td>\n",
       "    </tr>\n",
       "    <tr>\n",
       "      <th>2</th>\n",
       "      <td>96.0</td>\n",
       "      <td>638</td>\n",
       "    </tr>\n",
       "    <tr>\n",
       "      <th>3</th>\n",
       "      <td>32.0</td>\n",
       "      <td>91</td>\n",
       "    </tr>\n",
       "    <tr>\n",
       "      <th>4</th>\n",
       "      <td>65.0</td>\n",
       "      <td>82</td>\n",
       "    </tr>\n",
       "  </tbody>\n",
       "</table>\n",
       "</div>"
      ],
      "text/plain": [
       "   country_code  country_transaction_counts\n",
       "0          87.0                      520481\n",
       "1          60.0                        3084\n",
       "2          96.0                         638\n",
       "3          32.0                          91\n",
       "4          65.0                          82"
      ]
     },
     "execution_count": 214,
     "metadata": {},
     "output_type": "execute_result"
    }
   ],
   "source": [
    "country_code_freq = basic_fields_df['addr2'].value_counts()\n",
    "country_code_freq = country_code_freq.rename_axis('country_code').reset_index(name='country_transaction_counts')\n",
    "country_code_freq.head()"
   ]
  },
  {
   "cell_type": "markdown",
   "metadata": {
    "colab_type": "text",
    "id": "7qbh39VgoNzc"
   },
   "source": [
    "### [Part-2] Maximum transaction country ###\n",
    "We can see in the above step that the country with maximum transactions is the country having country-code, 87 (~ 88% of transactions).\n",
    "So in the next step we observe the values of country with code 87. "
   ]
  },
  {
   "cell_type": "markdown",
   "metadata": {
    "colab_type": "text",
    "id": "7qbh39VgoNzc"
   },
   "source": [
    "### [Part-2] We will calculate different time-level tags based on different time widths (86400, 3600, 60) and modulo operator\n",
    "1. First we will calculate day-level-tags (ith day in the time frame of whole data-set)\n",
    "2. Then we will calculate hour-level-tags (ith hour in the time frame of whole data-set)\n",
    "3. Then we will calculate minute-level-tags(ith minute in the time frame of whole day)\n",
    "4. In the end we will analyse time tag wise distribution for countries with code 87"
   ]
  },
  {
   "cell_type": "code",
   "execution_count": 215,
   "metadata": {
    "colab": {
     "base_uri": "https://localhost:8080/",
     "height": 879
    },
    "colab_type": "code",
    "id": "td800AkLausz",
    "outputId": "15511769-9baf-462f-f5ae-1d98cbd2a4a4"
   },
   "outputs": [
    {
     "name": "stderr",
     "output_type": "stream",
     "text": [
      "C:\\Users\\Paras\\Anaconda3\\lib\\site-packages\\ipykernel_launcher.py:5: SettingWithCopyWarning: \n",
      "A value is trying to be set on a copy of a slice from a DataFrame.\n",
      "Try using .loc[row_indexer,col_indexer] = value instead\n",
      "\n",
      "See the caveats in the documentation: http://pandas.pydata.org/pandas-docs/stable/indexing.html#indexing-view-versus-copy\n",
      "  \"\"\"\n",
      "C:\\Users\\Paras\\Anaconda3\\lib\\site-packages\\ipykernel_launcher.py:10: SettingWithCopyWarning: \n",
      "A value is trying to be set on a copy of a slice from a DataFrame.\n",
      "Try using .loc[row_indexer,col_indexer] = value instead\n",
      "\n",
      "See the caveats in the documentation: http://pandas.pydata.org/pandas-docs/stable/indexing.html#indexing-view-versus-copy\n",
      "  # Remove the CWD from sys.path while we load stuff.\n",
      "C:\\Users\\Paras\\Anaconda3\\lib\\site-packages\\ipykernel_launcher.py:15: SettingWithCopyWarning: \n",
      "A value is trying to be set on a copy of a slice from a DataFrame.\n",
      "Try using .loc[row_indexer,col_indexer] = value instead\n",
      "\n",
      "See the caveats in the documentation: http://pandas.pydata.org/pandas-docs/stable/indexing.html#indexing-view-versus-copy\n",
      "  from ipykernel import kernelapp as app\n",
      "C:\\Users\\Paras\\Anaconda3\\lib\\site-packages\\pandas\\core\\frame.py:3391: SettingWithCopyWarning: \n",
      "A value is trying to be set on a copy of a slice from a DataFrame.\n",
      "Try using .loc[row_indexer,col_indexer] = value instead\n",
      "\n",
      "See the caveats in the documentation: http://pandas.pydata.org/pandas-docs/stable/indexing.html#indexing-view-versus-copy\n",
      "  self[k1] = value[k2]\n",
      "C:\\Users\\Paras\\Anaconda3\\lib\\site-packages\\ipykernel_launcher.py:20: SettingWithCopyWarning: \n",
      "A value is trying to be set on a copy of a slice from a DataFrame.\n",
      "Try using .loc[row_indexer,col_indexer] = value instead\n",
      "\n",
      "See the caveats in the documentation: http://pandas.pydata.org/pandas-docs/stable/indexing.html#indexing-view-versus-copy\n",
      "C:\\Users\\Paras\\Anaconda3\\lib\\site-packages\\ipykernel_launcher.py:21: SettingWithCopyWarning: \n",
      "A value is trying to be set on a copy of a slice from a DataFrame.\n",
      "Try using .loc[row_indexer,col_indexer] = value instead\n",
      "\n",
      "See the caveats in the documentation: http://pandas.pydata.org/pandas-docs/stable/indexing.html#indexing-view-versus-copy\n",
      "C:\\Users\\Paras\\Anaconda3\\lib\\site-packages\\ipykernel_launcher.py:22: SettingWithCopyWarning: \n",
      "A value is trying to be set on a copy of a slice from a DataFrame.\n",
      "Try using .loc[row_indexer,col_indexer] = value instead\n",
      "\n",
      "See the caveats in the documentation: http://pandas.pydata.org/pandas-docs/stable/indexing.html#indexing-view-versus-copy\n",
      "C:\\Users\\Paras\\Anaconda3\\lib\\site-packages\\ipykernel_launcher.py:25: SettingWithCopyWarning: \n",
      "A value is trying to be set on a copy of a slice from a DataFrame.\n",
      "Try using .loc[row_indexer,col_indexer] = value instead\n",
      "\n",
      "See the caveats in the documentation: http://pandas.pydata.org/pandas-docs/stable/indexing.html#indexing-view-versus-copy\n",
      "C:\\Users\\Paras\\Anaconda3\\lib\\site-packages\\ipykernel_launcher.py:26: SettingWithCopyWarning: \n",
      "A value is trying to be set on a copy of a slice from a DataFrame.\n",
      "Try using .loc[row_indexer,col_indexer] = value instead\n",
      "\n",
      "See the caveats in the documentation: http://pandas.pydata.org/pandas-docs/stable/indexing.html#indexing-view-versus-copy\n"
     ]
    }
   ],
   "source": [
    "max_transaction_dt = 16000000 # max value in data-set\n",
    "transaction_bin_width = 86400  # no. of seconds in a day\n",
    "possible_bins = np.arange(0, max_transaction_dt + transaction_bin_width, transaction_bin_width)\n",
    "row_bin_tags = pd.cut(basic_fields_df[\"TransactionDT\"], bins=possible_bins, labels=np.arange(len(possible_bins) - 1))\n",
    "basic_fields_df['day_tags'] = row_bin_tags\n",
    "\n",
    "transaction_bin_width = 3600 # no. of seconds in an hour\n",
    "possible_bins = np.arange(0, max_transaction_dt + transaction_bin_width, transaction_bin_width)\n",
    "row_bin_tags = pd.cut(basic_fields_df[\"TransactionDT\"], bins=possible_bins, labels=np.arange(len(possible_bins) - 1))\n",
    "basic_fields_df['hour_tags'] = row_bin_tags\n",
    "\n",
    "transaction_bin_width = 60 # no. of seconds in an minute\n",
    "possible_bins = np.arange(0, max_transaction_dt + transaction_bin_width, transaction_bin_width)\n",
    "row_bin_tags = pd.cut(basic_fields_df[\"TransactionDT\"], bins=possible_bins, labels=np.arange(len(possible_bins) - 1))\n",
    "basic_fields_df['minute_tags'] = row_bin_tags\n",
    "\n",
    "# Converting categorical columns to int\n",
    "categorical_columns = ['day_tags', 'hour_tags', 'minute_tags']\n",
    "basic_fields_df[categorical_columns] = basic_fields_df[categorical_columns].apply(lambda x: x.cat.codes)\n",
    "basic_fields_df['day_tags'] = basic_fields_df['day_tags'].astype(np.int64)\n",
    "basic_fields_df['hour_tags'] = basic_fields_df['hour_tags'].astype(np.int64)\n",
    "basic_fields_df['minute_tags'] = basic_fields_df['minute_tags'].astype(np.int64)\n",
    "\n",
    "# Calculating hour of the day (0 to 23) based on hour_tags\n",
    "basic_fields_df['hour_of_day'] = basic_fields_df['hour_tags'] % 24\n",
    "basic_fields_df['minute_of_day'] = basic_fields_df['minute_tags'] % 1440"
   ]
  },
  {
   "cell_type": "code",
   "execution_count": 216,
   "metadata": {
    "colab": {},
    "colab_type": "code",
    "id": "o_fyq0hTwj7q"
   },
   "outputs": [],
   "source": [
    "most_frequent_country = basic_fields_df[basic_fields_df.addr2 == 87]"
   ]
  },
  {
   "cell_type": "code",
   "execution_count": 217,
   "metadata": {
    "colab": {
     "base_uri": "https://localhost:8080/",
     "height": 297
    },
    "colab_type": "code",
    "id": "13OwDNi-Xg8_",
    "outputId": "faf694e8-c6ee-4afd-f095-0326179ddc9a"
   },
   "outputs": [
    {
     "data": {
      "image/png": "[encoded data removed]",
      "text/plain": [
       "<Figure size 432x288 with 1 Axes>"
      ]
     },
     "metadata": {
      "needs_background": "light"
     },
     "output_type": "display_data"
    }
   ],
   "source": [
    "dayWiseTransactionCount = most_frequent_country.groupby(\"day_tags\")[\"TransactionID\"].agg(['count'])\n",
    "dayWiseTransactionCount.plot.bar()\n",
    "plt.tight_layout()"
   ]
  },
  {
   "cell_type": "markdown",
   "metadata": {
    "colab_type": "text",
    "id": "5YmHXx6u1ZA6"
   },
   "source": [
    "## Conclusion ##\n",
    "Majority of the transactions were done in the earlier days in the time frame.\n",
    "\n",
    "There are only few outliers (2-3 days) in the six month time frame, this may suggest that during the initial time-frame of days there was some sale or other external factor influencing large number of transactions"
   ]
  },
  {
   "cell_type": "code",
   "execution_count": 38,
   "metadata": {
    "colab": {
     "base_uri": "https://localhost:8080/",
     "height": 297
    },
    "colab_type": "code",
    "id": "d8tRrUjGz9Pi",
    "outputId": "5ca2e267-ae87-4d99-87cc-8ad553ade755"
   },
   "outputs": [
    {
     "data": {
      "image/png": "[encoded data removed]",
      "text/plain": [
       "<Figure size 432x288 with 1 Axes>"
      ]
     },
     "metadata": {
      "needs_background": "light"
     },
     "output_type": "display_data"
    }
   ],
   "source": [
    "hourWiseTransactionCount = most_frequent_country.groupby(\"hour_of_day\")[\"TransactionID\"].agg(['count'])\n",
    "hourWiseTransactionCount.plot.bar()\n",
    "plt.tight_layout()"
   ]
  },
  {
   "cell_type": "markdown",
   "metadata": {
    "colab_type": "text",
    "id": "8Uolj9ur05Q3"
   },
   "source": [
    "## Conclusion ##\n",
    "1. As we can see in the above plot, that a majority of transactions are calculated in hours (hour 0 to hour 2) and in late hours (hour 15 to hour 23).\n",
    "2. This indicates majority of the people who reside in country with code 87, have their waking hours as per base reference, from hour 0 to hour 4 and hour 13 to hour 23. \n",
    "3. So waking hours of people in country code 87, lies in ranges [13, 23], [0, 4]"
   ]
  },
  {
   "cell_type": "markdown",
   "metadata": {
    "colab_type": "text",
    "id": "npvl9QRiTBgD"
   },
   "source": [
    "## Part 3 - Product Code"
   ]
  },
  {
   "cell_type": "code",
   "execution_count": 238,
   "metadata": {
    "colab": {
     "base_uri": "https://localhost:8080/",
     "height": 123
    },
    "colab_type": "code",
    "id": "rFldAsEXTBgE",
    "outputId": "f5649d6d-554e-44a2-b0db-73a3c5dc137a"
   },
   "outputs": [
    {
     "data": {
      "text/html": [
       "<div>\n",
       "<style scoped>\n",
       "    .dataframe tbody tr th:only-of-type {\n",
       "        vertical-align: middle;\n",
       "    }\n",
       "\n",
       "    .dataframe tbody tr th {\n",
       "        vertical-align: top;\n",
       "    }\n",
       "\n",
       "    .dataframe thead th {\n",
       "        text-align: right;\n",
       "    }\n",
       "</style>\n",
       "<table border=\"1\" class=\"dataframe\">\n",
       "  <thead>\n",
       "    <tr style=\"text-align: right;\">\n",
       "      <th></th>\n",
       "      <th>product</th>\n",
       "      <th>freq</th>\n",
       "    </tr>\n",
       "  </thead>\n",
       "  <tbody>\n",
       "    <tr>\n",
       "      <th>0</th>\n",
       "      <td>W</td>\n",
       "      <td>439670</td>\n",
       "    </tr>\n",
       "    <tr>\n",
       "      <th>1</th>\n",
       "      <td>C</td>\n",
       "      <td>68519</td>\n",
       "    </tr>\n",
       "    <tr>\n",
       "      <th>2</th>\n",
       "      <td>R</td>\n",
       "      <td>37699</td>\n",
       "    </tr>\n",
       "    <tr>\n",
       "      <th>3</th>\n",
       "      <td>H</td>\n",
       "      <td>33024</td>\n",
       "    </tr>\n",
       "    <tr>\n",
       "      <th>4</th>\n",
       "      <td>S</td>\n",
       "      <td>11628</td>\n",
       "    </tr>\n",
       "  </tbody>\n",
       "</table>\n",
       "</div>"
      ],
      "text/plain": [
       "  product    freq\n",
       "0       W  439670\n",
       "1       C   68519\n",
       "2       R   37699\n",
       "3       H   33024\n",
       "4       S   11628"
      ]
     },
     "execution_count": 238,
     "metadata": {},
     "output_type": "execute_result"
    }
   ],
   "source": [
    "# TODO: code to analyze prices for different product codes\n",
    "values = basic_fields_df.ProductCD.value_counts()\n",
    "values = values.rename_axis('product').reset_index(name='freq')\n",
    "values.head()"
   ]
  },
  {
   "cell_type": "code",
   "execution_count": 239,
   "metadata": {},
   "outputs": [
    {
     "data": {
      "image/png": "[encoded data removed]",
      "text/plain": [
       "<Figure size 432x288 with 1 Axes>"
      ]
     },
     "metadata": {},
     "output_type": "display_data"
    }
   ],
   "source": [
    "figures, axes = plt.subplots()\n",
    "axes.pie(values[\"freq\"], explode=(0, 0.1, 0.1, 0.1, 0.1), labels=values[\"product\"], autopct='%1.1f%%', shadow=True, startangle=90)\n",
    "axes.axis('equal')  \n",
    "axes.set_title(\"Product Distribution\")\n",
    "\n",
    "plt.tight_layout()"
   ]
  },
  {
   "cell_type": "code",
   "execution_count": 240,
   "metadata": {},
   "outputs": [
    {
     "data": {
      "text/plain": [
       "<matplotlib.axes._subplots.AxesSubplot at 0x1bc0f08c2b0>"
      ]
     },
     "execution_count": 240,
     "metadata": {},
     "output_type": "execute_result"
    },
    {
     "data": {
      "image/png": "[encoded data removed]",
      "text/plain": [
       "<Figure size 432x288 with 1 Axes>"
      ]
     },
     "metadata": {
      "needs_background": "light"
     },
     "output_type": "display_data"
    }
   ],
   "source": [
    "sns.countplot(x='ProductCD', data=basic_fields_df)"
   ]
  },
  {
   "cell_type": "code",
   "execution_count": 241,
   "metadata": {
    "colab": {
     "base_uri": "https://localhost:8080/",
     "height": 253
    },
    "colab_type": "code",
    "id": "hHsAgNvVLIfA",
    "outputId": "c1fbc4bc-1c3d-452d-f0f8-cabb399b85ea"
   },
   "outputs": [
    {
     "data": {
      "text/html": [
       "<div>\n",
       "<style scoped>\n",
       "    .dataframe tbody tr th:only-of-type {\n",
       "        vertical-align: middle;\n",
       "    }\n",
       "\n",
       "    .dataframe tbody tr th {\n",
       "        vertical-align: top;\n",
       "    }\n",
       "\n",
       "    .dataframe thead th {\n",
       "        text-align: right;\n",
       "    }\n",
       "</style>\n",
       "<table border=\"1\" class=\"dataframe\">\n",
       "  <thead>\n",
       "    <tr style=\"text-align: right;\">\n",
       "      <th></th>\n",
       "      <th>TransactionID_min</th>\n",
       "      <th>TransactionID_max</th>\n",
       "      <th>TransactionID_count</th>\n",
       "      <th>TransactionAmt_min</th>\n",
       "      <th>TransactionAmt_max</th>\n",
       "      <th>TransactionAmt_count</th>\n",
       "    </tr>\n",
       "    <tr>\n",
       "      <th>ProductCD</th>\n",
       "      <th></th>\n",
       "      <th></th>\n",
       "      <th></th>\n",
       "      <th></th>\n",
       "      <th></th>\n",
       "      <th></th>\n",
       "    </tr>\n",
       "  </thead>\n",
       "  <tbody>\n",
       "    <tr>\n",
       "      <th>C</th>\n",
       "      <td>2987010</td>\n",
       "      <td>3577534</td>\n",
       "      <td>68519</td>\n",
       "      <td>0.251</td>\n",
       "      <td>712.896</td>\n",
       "      <td>68519</td>\n",
       "    </tr>\n",
       "    <tr>\n",
       "      <th>H</th>\n",
       "      <td>2987004</td>\n",
       "      <td>3577506</td>\n",
       "      <td>33024</td>\n",
       "      <td>15.000</td>\n",
       "      <td>500.000</td>\n",
       "      <td>33024</td>\n",
       "    </tr>\n",
       "    <tr>\n",
       "      <th>R</th>\n",
       "      <td>2987099</td>\n",
       "      <td>3577531</td>\n",
       "      <td>37699</td>\n",
       "      <td>25.000</td>\n",
       "      <td>1800.000</td>\n",
       "      <td>37699</td>\n",
       "    </tr>\n",
       "    <tr>\n",
       "      <th>S</th>\n",
       "      <td>2987038</td>\n",
       "      <td>3577184</td>\n",
       "      <td>11628</td>\n",
       "      <td>5.000</td>\n",
       "      <td>1550.000</td>\n",
       "      <td>11628</td>\n",
       "    </tr>\n",
       "    <tr>\n",
       "      <th>W</th>\n",
       "      <td>2987000</td>\n",
       "      <td>3577539</td>\n",
       "      <td>439670</td>\n",
       "      <td>1.000</td>\n",
       "      <td>31937.391</td>\n",
       "      <td>439670</td>\n",
       "    </tr>\n",
       "  </tbody>\n",
       "</table>\n",
       "</div>"
      ],
      "text/plain": [
       "           TransactionID_min  TransactionID_max  TransactionID_count  \\\n",
       "ProductCD                                                              \n",
       "C                    2987010            3577534                68519   \n",
       "H                    2987004            3577506                33024   \n",
       "R                    2987099            3577531                37699   \n",
       "S                    2987038            3577184                11628   \n",
       "W                    2987000            3577539               439670   \n",
       "\n",
       "           TransactionAmt_min  TransactionAmt_max  TransactionAmt_count  \n",
       "ProductCD                                                                \n",
       "C                       0.251             712.896                 68519  \n",
       "H                      15.000             500.000                 33024  \n",
       "R                      25.000            1800.000                 37699  \n",
       "S                       5.000            1550.000                 11628  \n",
       "W                       1.000           31937.391                439670  "
      ]
     },
     "execution_count": 241,
     "metadata": {},
     "output_type": "execute_result"
    }
   ],
   "source": [
    "product_agg_df = basic_fields_df.groupby([\"ProductCD\"])[\"TransactionID\", \"TransactionAmt\"].agg([\"min\", \"max\", \"count\"])\n",
    "product_agg_df.columns = [\"_\".join(x) for x in product_agg_df.columns.ravel()] # normalizing hierarchical column names\n",
    "product_agg_df"
   ]
  },
  {
   "cell_type": "code",
   "execution_count": 242,
   "metadata": {
    "colab": {
     "base_uri": "https://localhost:8080/",
     "height": 297
    },
    "colab_type": "code",
    "id": "vGY3VA8tmRll",
    "outputId": "9ee742ff-1cce-490d-883f-6842d84344be"
   },
   "outputs": [
    {
     "data": {
      "image/png": "[encoded data removed]",
      "text/plain": [
       "<Figure size 432x288 with 3 Axes>"
      ]
     },
     "metadata": {
      "needs_background": "light"
     },
     "output_type": "display_data"
    }
   ],
   "source": [
    "figure, axes = plt.subplots(1,3)\n",
    "\n",
    "product_agg_df[\"TransactionID_count\"].plot.bar(ax=axes[0])\n",
    "product_agg_df[\"TransactionAmt_min\"].plot.bar(ax=axes[1])\n",
    "product_agg_df[\"TransactionAmt_max\"].plot.bar(ax=axes[2])\n",
    "\n",
    "\n",
    "axes[0].set_title(\"Transaction counts\")\n",
    "# axes[0].title.set_size(10)\n",
    "axes[1].set_title(\"Min Transaction amt\")\n",
    "# axes[1].title.set_size(10)\n",
    "axes[2].set_title(\"Max Transaction amt\")\n",
    "# axes[2].title.set_size(10)\n",
    "# axes[1].set_title(\"non_fraud\")\n",
    "# plt.subplot(1,0, 0)\n",
    "\n",
    "plt.tight_layout()"
   ]
  },
  {
   "cell_type": "markdown",
   "metadata": {
    "colab_type": "text",
    "id": "0Yfx17BBTlgI"
   },
   "source": [
    "## Conclusion ##\n",
    "\n",
    "1.   Product R is the product which has relatively highest minimum transaction amount among its peers. It also has moderate to least amount of purchases. This indicates that is a product which is bought least amount of times as well as whenever it was bought in a minimum amount transaction it would cost more than its peers\n",
    "2.   Product R is most expensive product\n",
    "3.   Product C has more balance stats. Its' transaction counts are second highest (indicating it is a product that people buy most). As well as the minimum transaction amount of Product C is lowest.\n",
    "3.   Product C is cheapest"
   ]
  },
  {
   "cell_type": "markdown",
   "metadata": {
    "colab_type": "text",
    "id": "SamultT5TBgF"
   },
   "source": [
    "Write your answer here"
   ]
  },
  {
   "cell_type": "markdown",
   "metadata": {
    "colab_type": "text",
    "id": "QaYirDUtTBgG"
   },
   "source": [
    "## Part 4 - Correlation Coefficient"
   ]
  },
  {
   "cell_type": "markdown",
   "metadata": {
    "colab_type": "text",
    "id": "3ImNaK8Yk4eH"
   },
   "source": [
    "Since, the TransactionAmt is a highly skewed signal, we will use natural logarithm of the field to understand it's nature with other signals "
   ]
  },
  {
   "cell_type": "code",
   "execution_count": 243,
   "metadata": {
    "colab": {
     "base_uri": "https://localhost:8080/",
     "height": 404
    },
    "colab_type": "code",
    "id": "AR5uwIhib39l",
    "outputId": "9e8422ea-ca89-4a1d-9d95-561fc9682b4a"
   },
   "outputs": [
    {
     "name": "stderr",
     "output_type": "stream",
     "text": [
      "C:\\Users\\Paras\\Anaconda3\\lib\\site-packages\\ipykernel_launcher.py:1: SettingWithCopyWarning: \n",
      "A value is trying to be set on a copy of a slice from a DataFrame.\n",
      "Try using .loc[row_indexer,col_indexer] = value instead\n",
      "\n",
      "See the caveats in the documentation: http://pandas.pydata.org/pandas-docs/stable/indexing.html#indexing-view-versus-copy\n",
      "  \"\"\"Entry point for launching an IPython kernel.\n",
      "C:\\Users\\Paras\\Anaconda3\\lib\\site-packages\\ipykernel_launcher.py:2: RuntimeWarning: divide by zero encountered in log\n",
      "  \n",
      "C:\\Users\\Paras\\Anaconda3\\lib\\site-packages\\ipykernel_launcher.py:2: SettingWithCopyWarning: \n",
      "A value is trying to be set on a copy of a slice from a DataFrame.\n",
      "Try using .loc[row_indexer,col_indexer] = value instead\n",
      "\n",
      "See the caveats in the documentation: http://pandas.pydata.org/pandas-docs/stable/indexing.html#indexing-view-versus-copy\n",
      "  \n",
      "C:\\Users\\Paras\\Anaconda3\\lib\\site-packages\\ipykernel_launcher.py:3: RuntimeWarning: divide by zero encountered in log\n",
      "  This is separate from the ipykernel package so we can avoid doing imports until\n",
      "C:\\Users\\Paras\\Anaconda3\\lib\\site-packages\\ipykernel_launcher.py:3: SettingWithCopyWarning: \n",
      "A value is trying to be set on a copy of a slice from a DataFrame.\n",
      "Try using .loc[row_indexer,col_indexer] = value instead\n",
      "\n",
      "See the caveats in the documentation: http://pandas.pydata.org/pandas-docs/stable/indexing.html#indexing-view-versus-copy\n",
      "  This is separate from the ipykernel package so we can avoid doing imports until\n"
     ]
    }
   ],
   "source": [
    "basic_fields_df[\"TransactionAmtLog\"] = np.log(basic_fields_df[\"TransactionAmt\"])\n",
    "basic_fields_df[\"hour_of_day_log\"] = np.log(basic_fields_df[\"hour_of_day\"])\n",
    "basic_fields_df[\"minute_of_day_log\"] = np.log(basic_fields_df[\"minute_of_day\"])"
   ]
  },
  {
   "cell_type": "code",
   "execution_count": 244,
   "metadata": {
    "colab": {
     "base_uri": "https://localhost:8080/",
     "height": 287
    },
    "colab_type": "code",
    "id": "vWL1XJe14KKR",
    "outputId": "527647d0-5c7d-44e5-aae2-50a83f10cb03"
   },
   "outputs": [
    {
     "data": {
      "text/plain": [
       "<matplotlib.axes._subplots.AxesSubplot at 0x1bc2d9a05f8>"
      ]
     },
     "execution_count": 244,
     "metadata": {},
     "output_type": "execute_result"
    },
    {
     "data": {
      "image/png": "[encoded data removed]",
      "text/plain": [
       "<Figure size 432x288 with 1 Axes>"
      ]
     },
     "metadata": {
      "needs_background": "light"
     },
     "output_type": "display_data"
    }
   ],
   "source": [
    "basic_fields_df[\"TransactionAmtLog\"].hist(bins=100)"
   ]
  },
  {
   "cell_type": "markdown",
   "metadata": {
    "colab_type": "text",
    "id": "cO9Y8f8KmYA0"
   },
   "source": [
    "### Citation ###\n",
    "https://stats.stackexchange.com/questions/127121/do-logs-modify-the-correlation-between-two-variables"
   ]
  },
  {
   "cell_type": "code",
   "execution_count": 245,
   "metadata": {
    "colab": {
     "base_uri": "https://localhost:8080/",
     "height": 264
    },
    "colab_type": "code",
    "id": "SLOwjDCiTBgG",
    "outputId": "5816c804-28ac-4745-b411-37ba536cf061"
   },
   "outputs": [
    {
     "data": {
      "text/html": [
       "<div>\n",
       "<style scoped>\n",
       "    .dataframe tbody tr th:only-of-type {\n",
       "        vertical-align: middle;\n",
       "    }\n",
       "\n",
       "    .dataframe tbody tr th {\n",
       "        vertical-align: top;\n",
       "    }\n",
       "\n",
       "    .dataframe thead th {\n",
       "        text-align: right;\n",
       "    }\n",
       "</style>\n",
       "<table border=\"1\" class=\"dataframe\">\n",
       "  <thead>\n",
       "    <tr style=\"text-align: right;\">\n",
       "      <th></th>\n",
       "      <th>hour_of_day</th>\n",
       "      <th>hour_of_day_log</th>\n",
       "      <th>minute_of_day</th>\n",
       "      <th>minute_of_day_log</th>\n",
       "      <th>TransactionAmt</th>\n",
       "      <th>TransactionAmtLog</th>\n",
       "    </tr>\n",
       "  </thead>\n",
       "  <tbody>\n",
       "    <tr>\n",
       "      <th>hour_of_day</th>\n",
       "      <td>1.000000</td>\n",
       "      <td>0.947394</td>\n",
       "      <td>0.999287</td>\n",
       "      <td>0.900773</td>\n",
       "      <td>0.044526</td>\n",
       "      <td>0.062019</td>\n",
       "    </tr>\n",
       "    <tr>\n",
       "      <th>hour_of_day_log</th>\n",
       "      <td>0.947394</td>\n",
       "      <td>1.000000</td>\n",
       "      <td>0.946858</td>\n",
       "      <td>0.996571</td>\n",
       "      <td>0.047206</td>\n",
       "      <td>0.067163</td>\n",
       "    </tr>\n",
       "    <tr>\n",
       "      <th>minute_of_day</th>\n",
       "      <td>0.999287</td>\n",
       "      <td>0.946858</td>\n",
       "      <td>1.000000</td>\n",
       "      <td>0.902921</td>\n",
       "      <td>0.044565</td>\n",
       "      <td>0.062038</td>\n",
       "    </tr>\n",
       "    <tr>\n",
       "      <th>minute_of_day_log</th>\n",
       "      <td>0.900773</td>\n",
       "      <td>0.996571</td>\n",
       "      <td>0.902921</td>\n",
       "      <td>1.000000</td>\n",
       "      <td>0.039788</td>\n",
       "      <td>0.056623</td>\n",
       "    </tr>\n",
       "    <tr>\n",
       "      <th>TransactionAmt</th>\n",
       "      <td>0.044526</td>\n",
       "      <td>0.047206</td>\n",
       "      <td>0.044565</td>\n",
       "      <td>0.039788</td>\n",
       "      <td>1.000000</td>\n",
       "      <td>0.701519</td>\n",
       "    </tr>\n",
       "    <tr>\n",
       "      <th>TransactionAmtLog</th>\n",
       "      <td>0.062019</td>\n",
       "      <td>0.067163</td>\n",
       "      <td>0.062038</td>\n",
       "      <td>0.056623</td>\n",
       "      <td>0.701519</td>\n",
       "      <td>1.000000</td>\n",
       "    </tr>\n",
       "  </tbody>\n",
       "</table>\n",
       "</div>"
      ],
      "text/plain": [
       "                   hour_of_day  hour_of_day_log  minute_of_day  \\\n",
       "hour_of_day           1.000000         0.947394       0.999287   \n",
       "hour_of_day_log       0.947394         1.000000       0.946858   \n",
       "minute_of_day         0.999287         0.946858       1.000000   \n",
       "minute_of_day_log     0.900773         0.996571       0.902921   \n",
       "TransactionAmt        0.044526         0.047206       0.044565   \n",
       "TransactionAmtLog     0.062019         0.067163       0.062038   \n",
       "\n",
       "                   minute_of_day_log  TransactionAmt  TransactionAmtLog  \n",
       "hour_of_day                 0.900773        0.044526           0.062019  \n",
       "hour_of_day_log             0.996571        0.047206           0.067163  \n",
       "minute_of_day               0.902921        0.044565           0.062038  \n",
       "minute_of_day_log           1.000000        0.039788           0.056623  \n",
       "TransactionAmt              0.039788        1.000000           0.701519  \n",
       "TransactionAmtLog           0.056623        0.701519           1.000000  "
      ]
     },
     "execution_count": 245,
     "metadata": {},
     "output_type": "execute_result"
    }
   ],
   "source": [
    "# TODO: code to calculate correlation coefficient\n",
    "amountVsTime = basic_fields_df[[\"hour_of_day\", \"hour_of_day_log\", \"minute_of_day\", \"minute_of_day_log\", \"TransactionAmt\", \"TransactionAmtLog\"]].corr()\n",
    "amountVsTime"
   ]
  },
  {
   "cell_type": "code",
   "execution_count": 246,
   "metadata": {
    "colab": {
     "base_uri": "https://localhost:8080/",
     "height": 233
    },
    "colab_type": "code",
    "id": "cI_S4Yvx2QyM",
    "outputId": "d6b37b54-fd8d-4a9f-f51e-29bc35b38b81"
   },
   "outputs": [
    {
     "data": {
      "text/html": [
       "<div>\n",
       "<style scoped>\n",
       "    .dataframe tbody tr th:only-of-type {\n",
       "        vertical-align: middle;\n",
       "    }\n",
       "\n",
       "    .dataframe tbody tr th {\n",
       "        vertical-align: top;\n",
       "    }\n",
       "\n",
       "    .dataframe thead th {\n",
       "        text-align: right;\n",
       "    }\n",
       "</style>\n",
       "<table border=\"1\" class=\"dataframe\">\n",
       "  <thead>\n",
       "    <tr style=\"text-align: right;\">\n",
       "      <th></th>\n",
       "      <th>hour_of_day</th>\n",
       "      <th>hour_of_day_log</th>\n",
       "      <th>minute_of_day</th>\n",
       "      <th>minute_of_day_log</th>\n",
       "      <th>TransactionAmt</th>\n",
       "      <th>TransactionAmtLog</th>\n",
       "    </tr>\n",
       "  </thead>\n",
       "  <tbody>\n",
       "    <tr>\n",
       "      <th>hour_of_day</th>\n",
       "      <td>1.000000</td>\n",
       "      <td>1.000000</td>\n",
       "      <td>0.998190</td>\n",
       "      <td>0.998191</td>\n",
       "      <td>0.038325</td>\n",
       "      <td>0.038325</td>\n",
       "    </tr>\n",
       "    <tr>\n",
       "      <th>hour_of_day_log</th>\n",
       "      <td>1.000000</td>\n",
       "      <td>1.000000</td>\n",
       "      <td>0.997953</td>\n",
       "      <td>0.997953</td>\n",
       "      <td>0.034320</td>\n",
       "      <td>0.034320</td>\n",
       "    </tr>\n",
       "    <tr>\n",
       "      <th>minute_of_day</th>\n",
       "      <td>0.998190</td>\n",
       "      <td>0.997953</td>\n",
       "      <td>1.000000</td>\n",
       "      <td>1.000000</td>\n",
       "      <td>0.038098</td>\n",
       "      <td>0.038098</td>\n",
       "    </tr>\n",
       "    <tr>\n",
       "      <th>minute_of_day_log</th>\n",
       "      <td>0.998191</td>\n",
       "      <td>0.997953</td>\n",
       "      <td>1.000000</td>\n",
       "      <td>1.000000</td>\n",
       "      <td>0.038111</td>\n",
       "      <td>0.038111</td>\n",
       "    </tr>\n",
       "    <tr>\n",
       "      <th>TransactionAmt</th>\n",
       "      <td>0.038325</td>\n",
       "      <td>0.034320</td>\n",
       "      <td>0.038098</td>\n",
       "      <td>0.038111</td>\n",
       "      <td>1.000000</td>\n",
       "      <td>1.000000</td>\n",
       "    </tr>\n",
       "    <tr>\n",
       "      <th>TransactionAmtLog</th>\n",
       "      <td>0.038325</td>\n",
       "      <td>0.034320</td>\n",
       "      <td>0.038098</td>\n",
       "      <td>0.038111</td>\n",
       "      <td>1.000000</td>\n",
       "      <td>1.000000</td>\n",
       "    </tr>\n",
       "  </tbody>\n",
       "</table>\n",
       "</div>"
      ],
      "text/plain": [
       "                   hour_of_day  hour_of_day_log  minute_of_day  \\\n",
       "hour_of_day           1.000000         1.000000       0.998190   \n",
       "hour_of_day_log       1.000000         1.000000       0.997953   \n",
       "minute_of_day         0.998190         0.997953       1.000000   \n",
       "minute_of_day_log     0.998191         0.997953       1.000000   \n",
       "TransactionAmt        0.038325         0.034320       0.038098   \n",
       "TransactionAmtLog     0.038325         0.034320       0.038098   \n",
       "\n",
       "                   minute_of_day_log  TransactionAmt  TransactionAmtLog  \n",
       "hour_of_day                 0.998191        0.038325           0.038325  \n",
       "hour_of_day_log             0.997953        0.034320           0.034320  \n",
       "minute_of_day               1.000000        0.038098           0.038098  \n",
       "minute_of_day_log           1.000000        0.038111           0.038111  \n",
       "TransactionAmt              0.038111        1.000000           1.000000  \n",
       "TransactionAmtLog           0.038111        1.000000           1.000000  "
      ]
     },
     "execution_count": 246,
     "metadata": {},
     "output_type": "execute_result"
    }
   ],
   "source": [
    "basic_fields_df[[\"hour_of_day\", \"hour_of_day_log\", \"minute_of_day\", \"minute_of_day_log\", \"TransactionAmt\", \"TransactionAmtLog\"]].corr(method='spearman')"
   ]
  },
  {
   "cell_type": "code",
   "execution_count": 247,
   "metadata": {
    "colab": {
     "base_uri": "https://localhost:8080/",
     "height": 373
    },
    "colab_type": "code",
    "id": "1uPFpi4UZhYK",
    "outputId": "1d4771a1-8aaf-4baf-9322-867b06a2199c"
   },
   "outputs": [
    {
     "data": {
      "text/plain": [
       "<matplotlib.axes._subplots.AxesSubplot at 0x1bc2d8d8470>"
      ]
     },
     "execution_count": 247,
     "metadata": {},
     "output_type": "execute_result"
    },
    {
     "data": {
      "image/png": "[encoded data removed]",
      "text/plain": [
       "<Figure size 432x288 with 2 Axes>"
      ]
     },
     "metadata": {
      "needs_background": "light"
     },
     "output_type": "display_data"
    }
   ],
   "source": [
    "sns.heatmap(amountVsTime)"
   ]
  },
  {
   "cell_type": "markdown",
   "metadata": {},
   "source": [
    "#### Since, we do not observe any direct significant correlation between time features and TransactionAmt, we will observe correlation between aggregations of TransactionAmt and time feature"
   ]
  },
  {
   "cell_type": "code",
   "execution_count": 248,
   "metadata": {},
   "outputs": [],
   "source": [
    "hour_of_day_agg = basic_fields_df[[\"TransactionAmt\", \"hour_of_day\"]].groupby([\"hour_of_day\"]).agg([\"min\", \"max\", \"sum\", \"mean\"])\n",
    "hour_of_day_agg.columns = [\"_\".join(x) for x in hour_of_day_agg.columns.ravel()]\n",
    "hour_of_day_agg = hour_of_day_agg.reset_index()"
   ]
  },
  {
   "cell_type": "code",
   "execution_count": 249,
   "metadata": {},
   "outputs": [
    {
     "data": {
      "text/html": [
       "<div>\n",
       "<style scoped>\n",
       "    .dataframe tbody tr th:only-of-type {\n",
       "        vertical-align: middle;\n",
       "    }\n",
       "\n",
       "    .dataframe tbody tr th {\n",
       "        vertical-align: top;\n",
       "    }\n",
       "\n",
       "    .dataframe thead th {\n",
       "        text-align: right;\n",
       "    }\n",
       "</style>\n",
       "<table border=\"1\" class=\"dataframe\">\n",
       "  <thead>\n",
       "    <tr style=\"text-align: right;\">\n",
       "      <th></th>\n",
       "      <th>hour_of_day</th>\n",
       "      <th>TransactionAmt_min</th>\n",
       "      <th>TransactionAmt_max</th>\n",
       "      <th>TransactionAmt_sum</th>\n",
       "      <th>TransactionAmt_mean</th>\n",
       "    </tr>\n",
       "  </thead>\n",
       "  <tbody>\n",
       "    <tr>\n",
       "      <th>hour_of_day</th>\n",
       "      <td>1.000000</td>\n",
       "      <td>-0.272370</td>\n",
       "      <td>0.442888</td>\n",
       "      <td>0.642113</td>\n",
       "      <td>0.750549</td>\n",
       "    </tr>\n",
       "    <tr>\n",
       "      <th>TransactionAmt_min</th>\n",
       "      <td>-0.272370</td>\n",
       "      <td>1.000000</td>\n",
       "      <td>-0.211226</td>\n",
       "      <td>-0.644655</td>\n",
       "      <td>-0.001912</td>\n",
       "    </tr>\n",
       "    <tr>\n",
       "      <th>TransactionAmt_max</th>\n",
       "      <td>0.442888</td>\n",
       "      <td>-0.211226</td>\n",
       "      <td>1.000000</td>\n",
       "      <td>0.335614</td>\n",
       "      <td>0.123193</td>\n",
       "    </tr>\n",
       "    <tr>\n",
       "      <th>TransactionAmt_sum</th>\n",
       "      <td>0.642113</td>\n",
       "      <td>-0.644655</td>\n",
       "      <td>0.335614</td>\n",
       "      <td>1.000000</td>\n",
       "      <td>0.618035</td>\n",
       "    </tr>\n",
       "    <tr>\n",
       "      <th>TransactionAmt_mean</th>\n",
       "      <td>0.750549</td>\n",
       "      <td>-0.001912</td>\n",
       "      <td>0.123193</td>\n",
       "      <td>0.618035</td>\n",
       "      <td>1.000000</td>\n",
       "    </tr>\n",
       "  </tbody>\n",
       "</table>\n",
       "</div>"
      ],
      "text/plain": [
       "                     hour_of_day  TransactionAmt_min  TransactionAmt_max  \\\n",
       "hour_of_day             1.000000           -0.272370            0.442888   \n",
       "TransactionAmt_min     -0.272370            1.000000           -0.211226   \n",
       "TransactionAmt_max      0.442888           -0.211226            1.000000   \n",
       "TransactionAmt_sum      0.642113           -0.644655            0.335614   \n",
       "TransactionAmt_mean     0.750549           -0.001912            0.123193   \n",
       "\n",
       "                     TransactionAmt_sum  TransactionAmt_mean  \n",
       "hour_of_day                    0.642113             0.750549  \n",
       "TransactionAmt_min            -0.644655            -0.001912  \n",
       "TransactionAmt_max             0.335614             0.123193  \n",
       "TransactionAmt_sum             1.000000             0.618035  \n",
       "TransactionAmt_mean            0.618035             1.000000  "
      ]
     },
     "execution_count": 249,
     "metadata": {},
     "output_type": "execute_result"
    }
   ],
   "source": [
    "hour_of_day_agg.corr()"
   ]
  },
  {
   "cell_type": "code",
   "execution_count": 250,
   "metadata": {},
   "outputs": [
    {
     "data": {
      "text/plain": [
       "<matplotlib.axes._subplots.AxesSubplot at 0x1bc2b95acc0>"
      ]
     },
     "execution_count": 250,
     "metadata": {},
     "output_type": "execute_result"
    },
    {
     "data": {
      "image/png": "[encoded data removed]",
      "text/plain": [
       "<Figure size 432x288 with 2 Axes>"
      ]
     },
     "metadata": {
      "needs_background": "light"
     },
     "output_type": "display_data"
    }
   ],
   "source": [
    "sns.heatmap(hour_of_day_agg.corr())"
   ]
  },
  {
   "cell_type": "markdown",
   "metadata": {},
   "source": [
    "### Conclusion\n",
    "#### 1. Moderate correlation between sum of the TransactionAmt in an hour and hour of day is observed \n",
    "#### (Correlation value = 0.642)\n",
    "#### 2. High correlation between mean TransactionAmt for an hour and hour of day is observed\n",
    "#### (Correlation value = 0.75)"
   ]
  },
  {
   "cell_type": "code",
   "execution_count": 251,
   "metadata": {},
   "outputs": [
    {
     "data": {
      "image/png": "[encoded data removed]",
      "text/plain": [
       "<Figure size 432x288 with 4 Axes>"
      ]
     },
     "metadata": {
      "needs_background": "light"
     },
     "output_type": "display_data"
    }
   ],
   "source": [
    "figures, axes = plt.subplots(2,2)\n",
    "sns.scatterplot(x=\"hour_of_day\", y=\"TransactionAmt_min\", data=hour_of_day_agg, ax=axes[0,0])\n",
    "sns.scatterplot(x=\"hour_of_day\", y=\"TransactionAmt_max\", data=hour_of_day_agg, ax=axes[0,1])\n",
    "sns.scatterplot(x=\"hour_of_day\", y=\"TransactionAmt_sum\", data=hour_of_day_agg, ax=axes[1,0])\n",
    "sns.scatterplot(x=\"hour_of_day\", y=\"TransactionAmt_mean\", data=hour_of_day_agg, ax=axes[1,1])\n",
    "\n",
    "axes[0,0].set_title(\"min\")\n",
    "axes[0,1].set_title(\"max\")\n",
    "axes[1,0].set_title(\"sum\")\n",
    "axes[1,1].set_title(\"mean\")\n",
    "\n",
    "plt.tight_layout()"
   ]
  },
  {
   "cell_type": "markdown",
   "metadata": {
    "colab_type": "text",
    "id": "Dg4TVCkdTBgI"
   },
   "source": [
    "## Part 5 - Interesting Plot"
   ]
  },
  {
   "cell_type": "code",
   "execution_count": 288,
   "metadata": {},
   "outputs": [
    {
     "data": {
      "image/png": "[encoded data removed]",
      "text/plain": [
       "<Figure size 432x288 with 1 Axes>"
      ]
     },
     "metadata": {},
     "output_type": "display_data"
    }
   ],
   "source": [
    "device_type_agg = basic_fields_df.groupby([\"DeviceType\"])[\"TransactionAmt\"].agg([\"mean\"])\n",
    "device_type_agg = device_type_agg.reset_index()\n",
    "\n",
    "figures, axes = plt.subplots()\n",
    "axes.pie(device_type_agg[\"mean\"], explode=(0, 0.1), labels=device_type_agg[\"DeviceType\"], autopct='%1.1f%%', shadow=True, startangle=90)\n",
    "axes.axis('equal')  \n",
    "axes.set_title(\"Device Transaction Volume Distribution\")\n",
    "\n",
    "plt.tight_layout()"
   ]
  },
  {
   "cell_type": "markdown",
   "metadata": {},
   "source": [
    "### [Part-5] Conclusion (Insight):\n",
    "People when doing transactions containing large amount on average would prefer to do more on desktop devices than on mobile devices"
   ]
  },
  {
   "cell_type": "code",
   "execution_count": 100,
   "metadata": {},
   "outputs": [
    {
     "data": {
      "image/png": "[encoded data removed]",
      "text/plain": [
       "<Figure size 432x288 with 2 Axes>"
      ]
     },
     "metadata": {
      "needs_background": "light"
     },
     "output_type": "display_data"
    }
   ],
   "source": [
    "expenses = basic_fields_df.groupby(['card6'])['TransactionAmt'].agg(['sum'])\n",
    "expenses = expenses.rename(columns={\"sum\": \"exp\"})\n",
    "\n",
    "expenses['exp_log'] = np.log10(expenses['exp'])\n",
    "\n",
    "figure, axes = plt.subplots(1,2)\n",
    "expenses.plot.bar(ax=axes[0], y='exp')\n",
    "expenses.plot.bar(ax=axes[1], y='exp_log')\n",
    "\n",
    "axes[0].set_title(\"normal scale\")\n",
    "axes[1].set_title(\"logarithmic scale\")\n",
    "plt.tight_layout()"
   ]
  },
  {
   "cell_type": "code",
   "execution_count": 280,
   "metadata": {},
   "outputs": [
    {
     "data": {
      "text/plain": [
       "0"
      ]
     },
     "execution_count": 280,
     "metadata": {},
     "output_type": "execute_result"
    }
   ],
   "source": [
    "instances_where_dist1_dist2_exist = basic_fields_df[(basic_fields_df.dist1.notnull() & basic_fields_df.dist2.notnull())].shape[0]\n",
    "instances_where_dist1_dist2_exist"
   ]
  },
  {
   "cell_type": "markdown",
   "metadata": {},
   "source": [
    "### [Part-5] Conclusion (Insight) \n",
    "1.  As you can notice that, most expenses are done through debit card followed by credit card. The least expenses are done through charge card\n",
    "#### 2.  This indicates that people prefer to stay under their credit limit, else they will have to pay penalty interest rates.  Possibly fear of penalty drive people to use less or avoid using credit card for major expenses. This reveals risk-averse nature of people to some extent\n",
    "3.  Also, the minimal expenses on charge card compared to credit card indicate that people are ready to face interest rates of credit card for late payment but are not ready to face heavy late penalty fees on charge card. A simple search on the internet highlights that late penalty fees on charge card are in more costly than on interest on credit card\n",
    "4.  There are no instances in data-set where both dist1 and dist2 are measured and available"
   ]
  },
  {
   "cell_type": "markdown",
   "metadata": {},
   "source": [
    "### [Part-5] Conclusion (EDA):\n",
    "1.  The above EDA helped me to spot missing data and the potential lack of signal to build a good predictor\n",
    "2.  It taught me how to organize, structure and munge data\n",
    "3.  It also helped me to test certain hypothesis or invalidate my assumptions"
   ]
  },
  {
   "cell_type": "markdown",
   "metadata": {
    "colab_type": "text",
    "id": "4Qeuv9IlTBgK"
   },
   "source": [
    "Write your answer here"
   ]
  },
  {
   "cell_type": "markdown",
   "metadata": {
    "colab_type": "text",
    "id": "Xfv-OzpmTBgL"
   },
   "source": [
    "## Part 6 - Prediction Model"
   ]
  },
  {
   "cell_type": "code",
   "execution_count": 173,
   "metadata": {
    "colab": {},
    "colab_type": "code",
    "id": "H5RpH6NyTBgM"
   },
   "outputs": [],
   "source": [
    "# TODO: code for your final model"
   ]
  },
  {
   "cell_type": "markdown",
   "metadata": {},
   "source": [
    "## Checking First for duplicates for the significant fields across whole data-set\n",
    "Testing whether there are any duplicates in the base data (TransactionID, DeviceType, DeviceInfo, TransactionDT, TransactionAmt, ProductCD, addr1, addr2, dist1, dist2, card4, card6, P_emaildomain, R_emaildomain) of transactions and devices.\n",
    "\n",
    "---\n",
    "\n",
    "Found that there are no duplicates since shape on `base_df[base_duplicates]` responds with 0 count against number of rows\n"
   ]
  },
  {
   "cell_type": "code",
   "execution_count": 102,
   "metadata": {},
   "outputs": [
    {
     "name": "stdout",
     "output_type": "stream",
     "text": [
      "Number of duplicates in base fields: 0\n"
     ]
    }
   ],
   "source": [
    "base_duplicates = basic_fields_df.duplicated()\n",
    "print(\"Number of duplicates in base fields: \" + str(basic_fields_df[base_duplicates].shape[0]))"
   ]
  },
  {
   "cell_type": "markdown",
   "metadata": {},
   "source": [
    "### Loading train and test data in dataframes"
   ]
  },
  {
   "cell_type": "code",
   "execution_count": 103,
   "metadata": {},
   "outputs": [],
   "source": [
    "train_identity_df = pd.read_csv(\"../data/train_identity.csv\")\n",
    "train_transaction_df = pd.read_csv(\"../data/train_transaction.csv\")\n",
    "test_identify_df = pd.read_csv('../data/test_identity.csv')\n",
    "test_transaction_df = pd.read_csv('../data/test_transaction.csv')"
   ]
  },
  {
   "cell_type": "markdown",
   "metadata": {},
   "source": [
    "### Missing values in card6(credit/debit)\n",
    "Since card6 and card4 field null counts are not high, filling it with place-holders of credit/debit with equal probability"
   ]
  },
  {
   "cell_type": "code",
   "execution_count": 104,
   "metadata": {},
   "outputs": [],
   "source": [
    "def handle_missing_values_in_card6(input_df, is_test_data):\n",
    "    print(\"==================== Solving missing values for card6 ====================\")\n",
    "    modified_df = input_df.copy(deep=True)\n",
    "    nan_indices = modified_df.index[modified_df.card6.isnull()]\n",
    "    test_card6_replacements = random.choices(['credit', 'debit'], [1, 1], k=nan_indices.shape[0])\n",
    "    i = 0\n",
    "    for index in nan_indices:\n",
    "        modified_df.iloc[index, modified_df.columns.get_loc('card6')] = test_card6_replacements[i]\n",
    "        if i % 100 == 0:\n",
    "            print(\"card6 filling, done with \" + str(i) + \" , remaining: \" + str(len(nan_indices) - i))\n",
    "        i += 1\n",
    "    \n",
    "    print(\"==================== Resolved card6 ====================\")\n",
    "    \n",
    "    return modified_df"
   ]
  },
  {
   "cell_type": "markdown",
   "metadata": {},
   "source": [
    "### Missing values in card4(card issuer: visa, mastercard)\n",
    "Since card6 and card4 field null counts are not high, filling it with place-holders of credit/debit with equal probability"
   ]
  },
  {
   "cell_type": "code",
   "execution_count": 105,
   "metadata": {},
   "outputs": [],
   "source": [
    "def handle_missing_values_in_card4(input_df, test_data):\n",
    "    print(\"==================== Solving missing values for card4 ====================\")\n",
    "    \n",
    "    modified_df = input_df.copy(deep=True)\n",
    "    nan_indices = modified_df.index[modified_df.card4.isnull()]\n",
    "    test_card4_replacements = random.choices(['visa', 'mastercard', 'american express', 'discover'], [1, 1, 1, 1], k=nan_indices.shape[0])\n",
    "    i = 0\n",
    "    for index in nan_indices:\n",
    "        modified_df.iloc[index, modified_df.columns.get_loc('card4')] = test_card4_replacements[i]\n",
    "        if i % 100 == 0:\n",
    "            print(\"Test data card4 filling, done with \" + str(i) + \" , remaining: \" + str(len(nan_indices) - i))\n",
    "        i += 1\n",
    "    \n",
    "    print(\"==================== Resolved \n",
    "    return modified_df"
   ]
  },
  {
   "cell_type": "markdown",
   "metadata": {},
   "source": [
    "### Missing values for address fields imputed with defaults"
   ]
  },
  {
   "cell_type": "code",
   "execution_count": 174,
   "metadata": {},
   "outputs": [],
   "source": [
    "def handle_missing_values_in_addr(input_df):\n",
    "    print(\"==================== Solving missing values for addr1/addr2 ====================\")\n",
    "    \n",
    "    modified_df = input_df.copy(deep=True)\n",
    "    \n",
    "    modified_df['addr1'] = modified_df['addr1'].fillna('special_region')\n",
    "    modified_df['addr2'] = modified_df['addr2'].fillna('special_country')\n",
    "    \n",
    "    print(\"==================== Resolved addr1/addr2 ====================\")\n",
    "    \n",
    "    return modified_df"
   ]
  },
  {
   "cell_type": "markdown",
   "metadata": {},
   "source": [
    "### Mapping multiple same domain to common root domain\n",
    "1. Multiple same emails belonging to same domain like 'gmail.com' and 'gmail' are incorrectly present in training-dataset, due to some measurement error\n",
    "2. Imputing missing values of purchaser and receipient email"
   ]
  },
  {
   "cell_type": "code",
   "execution_count": 175,
   "metadata": {},
   "outputs": [],
   "source": [
    "def handle_emails(input_df):\n",
    "    modified_df = input_df.copy(deep=True)\n",
    "    \n",
    "    email_domain_map = {\n",
    "\t'gmail.com': ['gmail.com', 'gmail'], \n",
    "  \t'yahoo.com': ['yahoo.com', 'yahoo.com.mx', 'ymail.com', 'yahoo.de', 'yahoo.fr', 'yahoo.es', 'yahoo.co.uk', 'yahoo.co.jp'] , \n",
    "  \t'hotmail.com': ['hotmail.com', 'outlook.com', 'live.com.mx', 'hotmail.es', 'msn.com', 'live.com', 'outlook.es', 'hotmail.de', 'hotmail.fr', 'hotmail.co.uk'],\n",
    "  \t'netzero.net': ['netzero.com', 'netzero.net'] ,\n",
    "  \t'icloud.com': ['mac.com', 'icloud.com']\n",
    "    }\n",
    "\n",
    "    reverse_email_domain_map = {}\n",
    "    for root_domain in email_domain_map:\n",
    "        for domain in email_domain_map[root_domain]:\n",
    "            reverse_email_domain_map[domain] = root_domain\n",
    "    # reverse_email_domain_map\n",
    "\n",
    "    modified_df['P_emaildomain'] = modified_df['P_emaildomain'].fillna('special_purchaser_email')\n",
    "    modified_df['R_emaildomain'] = modified_df['R_emaildomain'].fillna('special_receipient_email')\n",
    "  \n",
    "    modified_df['P_emaildomain'] = modified_df['P_emaildomain'].apply(lambda x: reverse_email_domain_map[x] if x in reverse_email_domain_map else x)\n",
    "    modified_df['R_emaildomain'] = modified_df['R_emaildomain'].apply(lambda x: reverse_email_domain_map[x] if x in reverse_email_domain_map else x)\n",
    "    \n",
    "    return modified_df"
   ]
  },
  {
   "cell_type": "markdown",
   "metadata": {},
   "source": [
    "### Utility to drop columns from data-frame"
   ]
  },
  {
   "cell_type": "code",
   "execution_count": 176,
   "metadata": {},
   "outputs": [],
   "source": [
    "def drop_columns(input_df, column_names):\n",
    "    print(\"==================== Dropping some columns ====================\")\n",
    "    return input_df.drop(column_names, axis = 1) # non-inplace drop, the input_df will still have its all columns"
   ]
  },
  {
   "cell_type": "markdown",
   "metadata": {},
   "source": [
    "### Utility to encode categorical variables"
   ]
  },
  {
   "cell_type": "code",
   "execution_count": 109,
   "metadata": {},
   "outputs": [],
   "source": [
    "def one_hot_encode(df, col_name, col_prefix=''):\n",
    "    print(\"==================== Encoding \"+ col_name + \" ====================\")\n",
    "    \n",
    "    if len(col_prefix) > 0:\n",
    "        one_hot_encoding = pd.get_dummies(df[col_name], prefix=col_prefix)\n",
    "    else:\n",
    "        one_hot_encoding = pd.get_dummies(df[col_name])\n",
    "    new_df = df.copy(deep=True)\n",
    "    new_df = new_df.drop(col_name, axis=1)\n",
    "    new_df = new_df.join(one_hot_encoding)\n",
    "    \n",
    "    return new_df"
   ]
  },
  {
   "cell_type": "code",
   "execution_count": 121,
   "metadata": {},
   "outputs": [],
   "source": [
    "def encode_categorical_fields(input_df):\n",
    "    print(\"==================== Encoding categorical columns ====================\")\n",
    "    pre_processing_df = input_df.copy(deep=True)\n",
    "    \n",
    "    pre_processing_df = one_hot_encode(pre_processing_df, 'card4')\n",
    "    pre_processing_df = one_hot_encode(pre_processing_df, 'card6')\n",
    "    pre_processing_df = one_hot_encode(pre_processing_df, 'ProductCD')\n",
    "    pre_processing_df = one_hot_encode(pre_processing_df, 'DeviceType')\n",
    "    pre_processing_df = one_hot_encode(pre_processing_df, 'addr1', col_prefix='addr1_')\n",
    "    pre_processing_df = one_hot_encode(pre_processing_df, 'addr2', col_prefix='addr2_')\n",
    "    pre_processing_df = one_hot_encode(pre_processing_df, 'P_emaildomain', col_prefix='P_emaildomain_')\n",
    "    pre_processing_df = one_hot_encode(pre_processing_df, 'R_emaildomain', col_prefix='R_emaildomain_')\n",
    "    \n",
    "    print(\"==================== Done encoding categorical fields ====================\")\n",
    "\n",
    "    return pre_processing_df"
   ]
  },
  {
   "cell_type": "markdown",
   "metadata": {},
   "source": [
    "### Pre-processing training data-set\n",
    "### Steps:\n",
    "1. Left join identity and transaction data TransactionID (Since not all TransactionID are present in identity dataset)\n",
    "2. Keep the necessary fields for training\n",
    "3. Handle missing values for: card5, card4, addr1, addr2\n",
    "4. Map multiple email domains to root email domain\n",
    "5. Handle missing values for: P_emaildomain, R_emaildomain\n",
    "6. One-Hot-Encode categorical fields: card4, card6, ProductCD, DeviceType, addr1, addr2, P_emaildomain, R_emaildomain"
   ]
  },
  {
   "cell_type": "markdown",
   "metadata": {},
   "source": [
    "### Currently not addressing missing values in DeviceInfo and distance fields"
   ]
  },
  {
   "cell_type": "code",
   "execution_count": 110,
   "metadata": {},
   "outputs": [],
   "source": [
    "def pre_process_df(identity_df, transaction_df):\n",
    "    print(\"==================== Pre-Processing begins! ====================\")\n",
    "    \n",
    "    global_df = pd.merge(left=transaction_df, right=identity_df, left_on=[\"TransactionID\"],\n",
    "                                       right_on=\"TransactionID\", how=\"left\")\n",
    "    basic_fields_df = global_df[[\"TransactionID\", \"TransactionDT\", \"TransactionAmt\",\n",
    "                                              \"ProductCD\", \"card4\", \"card6\", \"P_emaildomain\", \"R_emaildomain\", \n",
    "                                              \"addr1\", \"addr2\", \"dist1\", \"dist2\", \"isFraud\", \"DeviceType\", \"DeviceInfo\"]]\n",
    "    modified_df = basic_fields_df.copy(deep=True)\n",
    "    print(\"Pre-Processing initial shape: \" + str(modified_df.shape))\n",
    "    \n",
    "    modified_df = handle_missing_values_in_card6(modified_df, False)\n",
    "    modified_df = handle_missing_values_in_card4(modified_df, False)\n",
    "    modified_df = handle_missing_values_in_addr(modified_df)\n",
    "    modified_df = handle_emails(modified_df)\n",
    "    \n",
    "    pre_processing_df = drop_columns(modified_df, ['TransactionID', 'dist1', 'dist2', 'DeviceInfo'])\n",
    "    pre_processing_df = encode_categorical_fields(pre_processing_df)\n",
    "    \n",
    "    print(\"Pre-Processing final shape: \" + str(pre_processing_df.shape))\n",
    "    print(\"==================== Done Pre-Processing ====================\")\n",
    "    \n",
    "    \n",
    "    return pre_processing_df\n",
    "    "
   ]
  },
  {
   "cell_type": "code",
   "execution_count": 111,
   "metadata": {},
   "outputs": [],
   "source": [
    "def add_missing_dummy_columns(test_df, train_columns ):\n",
    "    missing_cols = set(train_columns) - set(test_df.columns)\n",
    "    for c in missing_cols:\n",
    "        test_df[c] = 0"
   ]
  },
  {
   "cell_type": "markdown",
   "metadata": {},
   "source": [
    "### Citation: To handle categorical values in test data-set\n",
    "1. http://fastml.com/how-to-use-pd-dot-get-dummies-with-the-test-set/\n",
    "2. https://stackoverflow.com/questions/41335718/keep-same-dummy-variable-in-training-and-testing-data"
   ]
  },
  {
   "cell_type": "code",
   "execution_count": 114,
   "metadata": {},
   "outputs": [],
   "source": [
    "def fix_columns(test_df, train_df):  \n",
    "\n",
    "    add_missing_dummy_columns(test_df, train_df.columns)\n",
    "\n",
    "    # make sure we have all the columns we need\n",
    "    assert(set(train_df.columns) - set( test_df.columns ) == set())\n",
    "\n",
    "    extra_cols = set(test_df.columns) - set(train_df.columns)\n",
    "    if extra_cols:\n",
    "        print(\"extra columns:\", extra_cols)\n",
    "\n",
    "    test_df = test_df[train_df.columns]\n",
    "    return test_df"
   ]
  },
  {
   "cell_type": "code",
   "execution_count": 115,
   "metadata": {},
   "outputs": [],
   "source": [
    "def pre_process_test_df(identity_df, transaction_df, train_df):\n",
    "    print(\"==================== Pre-Processing begins! ====================\")\n",
    "    \n",
    "    global_df = pd.merge(left=transaction_df, right=identity_df, left_on=[\"TransactionID\"],\n",
    "                                       right_on=\"TransactionID\", how=\"left\")\n",
    "    basic_fields_df = global_df[[\"TransactionID\", \"TransactionDT\", \"TransactionAmt\",\n",
    "                                                  \"ProductCD\", \"card4\", \"card6\", \"P_emaildomain\", \"R_emaildomain\", \n",
    "                                                  \"addr1\", \"addr2\", \"dist1\", \"dist2\", \"DeviceType\", \"DeviceInfo\"]]\n",
    "\n",
    "    modified_df = basic_fields_df.copy(deep=True)\n",
    "    print(\"Pre-Processing initial shape: \" + str(modified_df.shape))\n",
    "    \n",
    "    modified_df = handle_missing_values_in_card6(modified_df, True)\n",
    "    modified_df = handle_missing_values_in_card4(modified_df, True)\n",
    "    modified_df = handle_missing_values_in_addr(modified_df)\n",
    "    modified_df = handle_emails(modified_df)\n",
    "    \n",
    "    pre_processing_df = drop_columns(modified_df, ['TransactionID', 'dist1', 'dist2', 'DeviceInfo'])\n",
    "    pre_processing_df = encode_categorical_fields(pre_processing_df)\n",
    "    pre_processing_df = fix_columns(pre_processing_df, train_df)\n",
    "    \n",
    "    print(\"Pre-Processing final shape: \" + str(pre_processing_df.shape))\n",
    "    print(\"==================== Done Pre-Processing ====================\")\n",
    "    \n",
    "    \n",
    "    return pre_processing_df\n",
    "    "
   ]
  },
  {
   "cell_type": "code",
   "execution_count": 116,
   "metadata": {},
   "outputs": [],
   "source": [
    "def split_dataset(df):\n",
    "    input_dataset_x = df.drop(['isFraud'], axis=1)\n",
    "    input_dataset_y = df['isFraud']\n",
    "    return train_test_split(input_dataset_x, input_dataset_y, random_state=31) # returns X_train, X_test, y_train, y_test"
   ]
  },
  {
   "cell_type": "code",
   "execution_count": 117,
   "metadata": {},
   "outputs": [],
   "source": [
    "def plot_confusion_matrix(y_test, y_predictions, labels=[1,0]):\n",
    "    mat = confusion_matrix(y_test, y_predictions, labels)\n",
    "    print(\"Confusion Marix: \")\n",
    "    print(str(mat))\n",
    "    sns.heatmap(mat, cmap=\"YlGnBu\")\n",
    "    plt.tight_layout()\n",
    "    \n",
    "    return mat"
   ]
  },
  {
   "cell_type": "code",
   "execution_count": 122,
   "metadata": {},
   "outputs": [
    {
     "name": "stdout",
     "output_type": "stream",
     "text": [
      "==================== Pre-Processing begins! ====================\n",
      "Pre-Processing initial shape: (590540, 15)\n",
      "==================== Solving missing values for card6 ====================\n",
      "card6 filling, done with 0 , remaining: 1571\n",
      "card6 filling, done with 100 , remaining: 1471\n",
      "card6 filling, done with 200 , remaining: 1371\n",
      "card6 filling, done with 300 , remaining: 1271\n",
      "card6 filling, done with 400 , remaining: 1171\n",
      "card6 filling, done with 500 , remaining: 1071\n",
      "card6 filling, done with 600 , remaining: 971\n",
      "card6 filling, done with 700 , remaining: 871\n",
      "card6 filling, done with 800 , remaining: 771\n",
      "card6 filling, done with 900 , remaining: 671\n",
      "card6 filling, done with 1000 , remaining: 571\n",
      "card6 filling, done with 1100 , remaining: 471\n",
      "card6 filling, done with 1200 , remaining: 371\n",
      "card6 filling, done with 1300 , remaining: 271\n",
      "card6 filling, done with 1400 , remaining: 171\n",
      "card6 filling, done with 1500 , remaining: 71\n",
      "==================== Resolved card6 ====================\n",
      "==================== Solving missing values for card4 ====================\n",
      "Test data card4 filling, done with 0 , remaining: 1577\n",
      "Test data card4 filling, done with 100 , remaining: 1477\n",
      "Test data card4 filling, done with 200 , remaining: 1377\n",
      "Test data card4 filling, done with 300 , remaining: 1277\n",
      "Test data card4 filling, done with 400 , remaining: 1177\n",
      "Test data card4 filling, done with 500 , remaining: 1077\n",
      "Test data card4 filling, done with 600 , remaining: 977\n",
      "Test data card4 filling, done with 700 , remaining: 877\n",
      "Test data card4 filling, done with 800 , remaining: 777\n",
      "Test data card4 filling, done with 900 , remaining: 677\n",
      "Test data card4 filling, done with 1000 , remaining: 577\n",
      "Test data card4 filling, done with 1100 , remaining: 477\n",
      "Test data card4 filling, done with 1200 , remaining: 377\n",
      "Test data card4 filling, done with 1300 , remaining: 277\n",
      "Test data card4 filling, done with 1400 , remaining: 177\n",
      "Test data card4 filling, done with 1500 , remaining: 77\n",
      "==================== Resolved card4 ====================\n",
      "==================== Solving missing values for addr1/addr2 ====================\n",
      "==================== Resolved addr1/addr2 ====================\n",
      "==================== Dropping some columns ====================\n",
      "==================== Encoding categorical columns ====================\n",
      "==================== Encoding card4 ====================\n",
      "==================== Encoding card6 ====================\n",
      "==================== Encoding ProductCD ====================\n",
      "==================== Encoding DeviceType ====================\n",
      "==================== Encoding addr1 ====================\n",
      "==================== Encoding addr2 ====================\n",
      "==================== Encoding P_emaildomain ====================\n",
      "==================== Encoding R_emaildomain ====================\n",
      "==================== Done encoding categorical fields ====================\n",
      "Pre-Processing final shape: (590540, 509)\n",
      "==================== Done Pre-Processing ====================\n"
     ]
    }
   ],
   "source": [
    "pre_processed_df = pre_process_df(train_identity_df, train_transaction_df)"
   ]
  },
  {
   "cell_type": "markdown",
   "metadata": {},
   "source": [
    "## Base-line-1 model\n",
    "Run a simple decision tree for classification task followed after above pre-processed steps with no tuning\n",
    "\n",
    "The score reported on kaggle: 0.4626\n",
    "\n",
    "The primary reason that this model failed is because it overfitted. The training data had 80-90~ % of non-fraud transactions. The model almost taught itself to predict almost every transaction it sees as non-fraud. Hence, it performed poorly when seen fresh unobserved fraud transactions"
   ]
  },
  {
   "cell_type": "markdown",
   "metadata": {},
   "source": [
    "### Citation:\n",
    "1. https://www.kaggle.com/rafjaa/resampling-strategies-for-imbalanced-datasets#t5"
   ]
  },
  {
   "cell_type": "markdown",
   "metadata": {},
   "source": [
    "### Base-line-2 model\n",
    "1.  Since, the data is highly imbalance, skewed with large number of non-fraud transactions and few fraud transactions\n",
    "2.  We perform over-sampling on fraud-instances\n",
    "3.  Rank = 5564\n",
    "4.  Score = 0.6891"
   ]
  },
  {
   "cell_type": "code",
   "execution_count": 123,
   "metadata": {},
   "outputs": [
    {
     "name": "stderr",
     "output_type": "stream",
     "text": [
      "C:\\Users\\Paras\\Anaconda3\\lib\\site-packages\\sklearn\\ensemble\\forest.py:245: FutureWarning: The default value of n_estimators will change from 10 in version 0.20 to 100 in 0.22.\n",
      "  \"10 in version 0.20 to 100 in 0.22.\", FutureWarning)\n"
     ]
    }
   ],
   "source": [
    "# Oversampling with SMOTE\n",
    "X_train, X_test, y_train, y_test = split_dataset(pre_processed_df)\n",
    "X_resampled, y_resampled = SMOTE().fit_resample(X_train, y_train)\n",
    "\n",
    "rf_classifier = RandomForestClassifier(random_state=13)\n",
    "rf_classifier = rf_classifier.fit(X_resampled, y_resampled)"
   ]
  },
  {
   "cell_type": "code",
   "execution_count": 126,
   "metadata": {},
   "outputs": [
    {
     "name": "stdout",
     "output_type": "stream",
     "text": [
      "Confusion Marix: \n",
      "[[141481   1059]\n",
      " [  2584   2511]]\n",
      "Random Forest accuracy: 0.9753242794730247\n",
      "Precision-Recall-Fscore-Support -> (0.7033613445378152, 0.4928361138370952, 0.5795729948066936, None)\n"
     ]
    },
    {
     "data": {
      "image/png": "[encoded data removed]",
      "text/plain": [
       "<Figure size 432x288 with 2 Axes>"
      ]
     },
     "metadata": {
      "needs_background": "light"
     },
     "output_type": "display_data"
    }
   ],
   "source": [
    "y_predictions = rf_classifier.predict(X_test)\n",
    "accuracy_score = rf_classifier.score(X_test, y_test)\n",
    "confusion_mat = plot_confusion_matrix(y_test, y_predictions, labels=[0,1])\n",
    "print(\"Random Forest accuracy: \" + str(accuracy_score))\n",
    "prfs = precision_recall_fscore_support(y_test, y_predictions, average='binary')\n",
    "print(\"Precision-Recall-Fscore-Support -> \" + str(prfs))"
   ]
  },
  {
   "cell_type": "code",
   "execution_count": null,
   "metadata": {},
   "outputs": [],
   "source": [
    "###"
   ]
  },
  {
   "cell_type": "markdown",
   "metadata": {},
   "source": [
    "### Final Model\n",
    "Alternative approach to handle imbalance data-set is to undersample majority class (non-fraud transactions)\n",
    "\n",
    "We also experiment with bootsrapping/ensemble method like XGBoost to perform classification"
   ]
  },
  {
   "cell_type": "code",
   "execution_count": 293,
   "metadata": {},
   "outputs": [
    {
     "name": "stdout",
     "output_type": "stream",
     "text": [
      "splitting over\n",
      "Resample over\n"
     ]
    }
   ],
   "source": [
    "# Undersampling with RandomSampler\n",
    "X_train, X_test, y_train, y_test = split_dataset(pre_processed_df)\n",
    "\n",
    "print(\"splitting over\")\n",
    "\n",
    "rus = RandomUnderSampler(return_indices=True)\n",
    "X_undersample, y_undersample, id_undersample = rus.fit_sample(X_train, y_train)\n",
    "\n",
    "print(\"Resample over\")"
   ]
  },
  {
   "cell_type": "code",
   "execution_count": 294,
   "metadata": {},
   "outputs": [
    {
     "data": {
      "text/plain": [
       "XGBClassifier(base_score=0.5, booster='gbtree', colsample_bylevel=1,\n",
       "              colsample_bynode=1, colsample_bytree=1, gamma=0,\n",
       "              learning_rate=0.1, max_delta_step=0, max_depth=3,\n",
       "              min_child_weight=1, missing=None, n_estimators=100, n_jobs=1,\n",
       "              nthread=None, objective='binary:logistic', random_state=42,\n",
       "              reg_alpha=0, reg_lambda=1, scale_pos_weight=1, seed=None,\n",
       "              silent=None, subsample=1, verbosity=1)"
      ]
     },
     "execution_count": 294,
     "metadata": {},
     "output_type": "execute_result"
    }
   ],
   "source": [
    "xgb_classifier = xgb.XGBClassifier(objective=\"binary:logistic\", random_state=42)\n",
    "xgb_classifier.fit(X_undersample, y_undersample)"
   ]
  },
  {
   "cell_type": "code",
   "execution_count": 295,
   "metadata": {},
   "outputs": [
    {
     "name": "stdout",
     "output_type": "stream",
     "text": [
      "XGB accuracy: 0.7867036949232905\n",
      "Confusion Marix: \n",
      "[[  3378   1717]\n",
      " [ 29773 112767]]\n",
      "Precision-Recall-Fscore-Support -> (0.10189737866127718, 0.6630029440628067, 0.17664592375673271, None)\n"
     ]
    },
    {
     "data": {
      "image/png": "[encoded data removed]",
      "text/plain": [
       "<Figure size 432x288 with 2 Axes>"
      ]
     },
     "metadata": {
      "needs_background": "light"
     },
     "output_type": "display_data"
    }
   ],
   "source": [
    "y_predictions = xgb_classifier.predict(X_test.values)\n",
    "accuracy_score = xgb_classifier.score(X_test.values, y_test.values)\n",
    "print(\"XGB accuracy: \" + str(accuracy_score))\n",
    "confusion_mat = plot_confusion_matrix(y_test, y_predictions)\n",
    "prfs = precision_recall_fscore_support(y_test, y_predictions, average='binary')\n",
    "print(\"Precision-Recall-Fscore-Support -> \" + str(prfs))"
   ]
  },
  {
   "cell_type": "markdown",
   "metadata": {
    "colab_type": "text",
    "id": "MEpfZvzJTBgO"
   },
   "source": [
    "Write your answer here"
   ]
  },
  {
   "cell_type": "markdown",
   "metadata": {
    "colab_type": "text",
    "id": "yoJX5RDmTBgO"
   },
   "source": [
    "## Part 7 - Final Result"
   ]
  },
  {
   "cell_type": "markdown",
   "metadata": {
    "colab_type": "text",
    "id": "SpZZk0HHTBgP"
   },
   "source": [
    "Report the rank, score, number of entries, for your highest rank. Include a snapshot of your best score on the leaderboard as confirmation. Be sure to provide a link to your Kaggle profile. Make sure to include a screenshot of your ranking. Make sure your profile includes your face and affiliation with SBU."
   ]
  },
  {
   "cell_type": "markdown",
   "metadata": {
    "colab_type": "text",
    "id": "InjGZA_ETBgP"
   },
   "source": [
    "Kaggle Link: https://www.kaggle.com/parasquantshopper"
   ]
  },
  {
   "cell_type": "markdown",
   "metadata": {
    "colab_type": "text",
    "id": "AN_l82l7TBgQ"
   },
   "source": [
    "Highest Rank: 5249"
   ]
  },
  {
   "cell_type": "markdown",
   "metadata": {
    "colab_type": "text",
    "id": "Wp_wU_BMTBgR"
   },
   "source": [
    "Score: 0.8294"
   ]
  },
  {
   "cell_type": "markdown",
   "metadata": {
    "colab_type": "text",
    "id": "xeRlj35rTBgR"
   },
   "source": [
    "Number of entries: 4"
   ]
  },
  {
   "cell_type": "markdown",
   "metadata": {
    "colab_type": "text",
    "id": "2ZBbLTVPTBgR"
   },
   "source": [
    "<img src=\"latestRankingImage.png\">"
   ]
  },
  {
   "cell_type": "code",
   "execution_count": null,
   "metadata": {},
   "outputs": [],
   "source": []
  }
 ],
 "metadata": {
  "accelerator": "GPU",
  "colab": {
   "collapsed_sections": [],
   "name": "CSE519 HW2.ipynb",
   "provenance": [],
   "toc_visible": true,
   "version": "0.3.2"
  },
  "kernelspec": {
   "display_name": "Python 3",
   "language": "python",
   "name": "python3"
  },
  "language_info": {
   "codemirror_mode": {
    "name": "ipython",
    "version": 3
   },
   "file_extension": ".py",
   "mimetype": "text/x-python",
   "name": "python",
   "nbconvert_exporter": "python",
   "pygments_lexer": "ipython3",
   "version": "3.7.3"
  }
 },
 "nbformat": 4,
 "nbformat_minor": 4
}
