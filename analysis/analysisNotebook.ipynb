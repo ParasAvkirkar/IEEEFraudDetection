{
  "nbformat": 4,
  "nbformat_minor": 0,
  "metadata": {
    "kernelspec": {
      "display_name": "Python 3",
      "language": "python",
      "name": "python3"
    },
    "language_info": {
      "codemirror_mode": {
        "name": "ipython",
        "version": 3
      },
      "file_extension": ".py",
      "mimetype": "text/x-python",
      "name": "python",
      "nbconvert_exporter": "python",
      "pygments_lexer": "ipython3",
      "version": "3.7.4"
    },
    "colab": {
      "name": "CSE519 HW2.ipynb",
      "version": "0.3.2",
      "provenance": [],
      "collapsed_sections": [],
      "toc_visible": true
    }
  },
  "cells": [
    {
      "cell_type": "markdown",
      "metadata": {
        "id": "8qw0gJdZTBf9",
        "colab_type": "text"
      },
      "source": [
        "# Homework 2 - IEEE Fraud Detection"
      ]
    },
    {
      "cell_type": "code",
      "metadata": {
        "id": "fsiYdhVOMlAM",
        "colab_type": "code",
        "outputId": "36e21c2c-d8ae-417f-ab9f-9225ae8bfff9",
        "colab": {
          "base_uri": "https://localhost:8080/",
          "height": 125
        }
      },
      "source": [
        "from google.colab import drive\n",
        "drive.mount('/content/drive')"
      ],
      "execution_count": 1,
      "outputs": [
        {
          "output_type": "stream",
          "text": [
            "Go to this URL in a browser: https://accounts.google.com/o/oauth2/auth?client_id=947318989803-6bn6qk8qdgf4n4g3pfee6491hc0brc4i.apps.googleusercontent.com&redirect_uri=urn%3Aietf%3Awg%3Aoauth%3A2.0%3Aoob&scope=email%20https%3A%2F%2Fwww.googleapis.com%2Fauth%2Fdocs.test%20https%3A%2F%2Fwww.googleapis.com%2Fauth%2Fdrive%20https%3A%2F%2Fwww.googleapis.com%2Fauth%2Fdrive.photos.readonly%20https%3A%2F%2Fwww.googleapis.com%2Fauth%2Fpeopleapi.readonly&response_type=code\n",
            "\n",
            "Enter your authorization code:\n",
            "··········\n",
            "Mounted at /content/drive\n"
          ],
          "name": "stdout"
        }
      ]
    },
    {
      "cell_type": "markdown",
      "metadata": {
        "id": "C-80k8srTBf-",
        "colab_type": "text"
      },
      "source": [
        "For all parts below, answer all parts as shown in the Google document for Homework 2. Be sure to include both code that justifies your answer as well as text to answer the questions. We also ask that code be commented to make it easier to follow."
      ]
    },
    {
      "cell_type": "markdown",
      "metadata": {
        "id": "BoVV2qQWTBf-",
        "colab_type": "text"
      },
      "source": [
        "## Part 1 - Fraudulent vs Non-Fraudulent Transaction"
      ]
    },
    {
      "cell_type": "code",
      "metadata": {
        "id": "Gj20jgTCgvyu",
        "colab_type": "code",
        "colab": {}
      },
      "source": [
        "# Taking all imports for processing\n",
        "import pandas as pd\n",
        "import numpy as np\n",
        "import matplotlib.pyplot as plt\n",
        "import seaborn as sns"
      ],
      "execution_count": 0,
      "outputs": []
    },
    {
      "cell_type": "markdown",
      "metadata": {
        "id": "77vxQ6p8TBf-",
        "colab_type": "text"
      },
      "source": [
        "# TODO: code and runtime results\n",
        "import pandas as pd\n",
        "import matplotlib.pyplot as plt\n",
        "import numpy as np\n",
        "import seaborn as sns"
      ]
    },
    {
      "cell_type": "code",
      "metadata": {
        "id": "pw4TmO0daKML",
        "colab_type": "code",
        "colab": {}
      },
      "source": [
        "# loading train-data in dataframes\n",
        "train_identity_df = pd.read_csv(\"/content/drive/My Drive/Colab Notebooks/HomeWork/ieee-fraud-detection/train_identity.csv\")\n",
        "train_transaction_df = pd.read_csv(\"/content/drive/My Drive/Colab Notebooks/HomeWork/ieee-fraud-detection/train_transaction.csv\")\n",
        "\n",
        "# Since Part 1 to 5 would only involve following fields\n",
        "# TransactionID,DeviceType,DeviceInfo,TransactionDT,TransactionAmt,ProductCD,card4,card6,P_emaildomain,R_emaildomain,addr1,addr2,dist1,dist2\n",
        "# Loading above necessary fields into base dataframe\n",
        "# And performing EDA on these data\n",
        "transaction_base_df = train_transaction_df[[\"TransactionID\", \"TransactionDT\", \"TransactionAmt\",\n",
        "                                              \"ProductCD\", \"card4\", \"card6\", \"P_emaildomain\", \"R_emaildomain\", \n",
        "                                              \"addr1\", \"addr2\", \"dist1\", \"dist2\", \"isFraud\"]]\n",
        "identity_base_df = train_identity_df[[\"TransactionID\", \"DeviceType\", \"DeviceInfo\"]]"
      ],
      "execution_count": 0,
      "outputs": []
    },
    {
      "cell_type": "code",
      "metadata": {
        "id": "1hjn6OjKhh7q",
        "colab_type": "code",
        "outputId": "60927ed0-3aaa-46c0-8941-21ccecdbf14d",
        "colab": {
          "base_uri": "https://localhost:8080/",
          "height": 35
        }
      },
      "source": [
        "# Applying left join between transaction data and identity data,\n",
        "# Since not all transactions will have corresponding identity data as per Kaggle description about the data-set\n",
        "base_df = pd.merge(left=transaction_base_df, right=identity_base_df, left_on=[\"TransactionID\"],\n",
        "                                       right_on=\"TransactionID\", how=\"left\")\n",
        "base_df.shape"
      ],
      "execution_count": 5,
      "outputs": [
        {
          "output_type": "execute_result",
          "data": {
            "text/plain": [
              "(590540, 15)"
            ]
          },
          "metadata": {
            "tags": []
          },
          "execution_count": 5
        }
      ]
    },
    {
      "cell_type": "markdown",
      "metadata": {
        "id": "1A64GpTi6vfk",
        "colab_type": "text"
      },
      "source": [
        "## Checking Duplicates across whole data-set\n",
        "Testing whether there are any duplicates in the base data of transactions and devices.\n",
        "\n",
        "---\n",
        "\n",
        "Found that there are no duplicates since shape on `base_df[base_duplicates]` responds with 0 x 15\n"
      ]
    },
    {
      "cell_type": "code",
      "metadata": {
        "id": "pf41IteP4dGW",
        "colab_type": "code",
        "outputId": "8f320a51-b34a-40fe-c990-a61cf7ba64ca",
        "colab": {
          "base_uri": "https://localhost:8080/",
          "height": 35
        }
      },
      "source": [
        "base_duplicates = base_df.duplicated()\n",
        "base_df[base_duplicates].shape"
      ],
      "execution_count": 6,
      "outputs": [
        {
          "output_type": "execute_result",
          "data": {
            "text/plain": [
              "(0, 15)"
            ]
          },
          "metadata": {
            "tags": []
          },
          "execution_count": 6
        }
      ]
    },
    {
      "cell_type": "code",
      "metadata": {
        "id": "RzfKUUFBhZO8",
        "colab_type": "code",
        "outputId": "41ae22d0-04d4-432a-d03b-1cb37d8812e5",
        "colab": {
          "base_uri": "https://localhost:8080/",
          "height": 35
        }
      },
      "source": [
        "fraudulent_df = base_df[base_df.isFraud == 1]\n",
        "non_fraudulent_df = base_df[base_df.isFraud == 0]\n",
        "rows_in_fraud = fraudulent_df.shape[0]\n",
        "rows_in_non_fraud = non_fraudulent_df.shape[0]\n",
        "total_rows = base_df.shape[0]\n",
        "print(\"Fraudulent instances: {0} | Non Fraudulent instances: {1}\".format(str(rows_in_fraud), str(rows_in_non_fraud)))"
      ],
      "execution_count": 7,
      "outputs": [
        {
          "output_type": "stream",
          "text": [
            "Fraudulent instances: 20663 | Non Fraudulent instances: 569877\n"
          ],
          "name": "stdout"
        }
      ]
    },
    {
      "cell_type": "code",
      "metadata": {
        "id": "n00QbEsw7qZm",
        "colab_type": "code",
        "colab": {}
      },
      "source": [
        "# Cite: https://stackoverflow.com/questions/41681693/pandas-isnull-sum-with-column-headers"
      ],
      "execution_count": 0,
      "outputs": []
    },
    {
      "cell_type": "markdown",
      "metadata": {
        "id": "6OnOPyGf0pRK",
        "colab_type": "text"
      },
      "source": [
        "## Checking Nulls and comparing between fraudulent and non-fraudulent data-set ##"
      ]
    },
    {
      "cell_type": "code",
      "metadata": {
        "id": "_8vMwJ1Nspdx",
        "colab_type": "code",
        "outputId": "3877ad5d-f952-47a4-aa4e-bb419e282366",
        "colab": {
          "base_uri": "https://localhost:8080/",
          "height": 99
        }
      },
      "source": [
        "# isnull() returns boolean array for each row\n",
        "# sum() on isnull() groups null values and take their sum returning a Series\n",
        "# the Series returned has null value for each column (which can be seen as index for that value in Series)\n",
        "# In the end, we take transpose() to convert index to column and corresponding row in Series to cell Value for that column\n",
        "non_fraudulent_null_stats = non_fraudulent_df.isnull().sum().sort_values(ascending=False).to_frame().transpose()\n",
        "percent_non_fraud_nulls = non_fraudulent_null_stats * 100.0 / rows_in_non_fraud\n",
        "non_fraudulent_null_stats"
      ],
      "execution_count": 9,
      "outputs": [
        {
          "output_type": "execute_result",
          "data": {
            "text/html": [
              "<div>\n",
              "<style scoped>\n",
              "    .dataframe tbody tr th:only-of-type {\n",
              "        vertical-align: middle;\n",
              "    }\n",
              "\n",
              "    .dataframe tbody tr th {\n",
              "        vertical-align: top;\n",
              "    }\n",
              "\n",
              "    .dataframe thead th {\n",
              "        text-align: right;\n",
              "    }\n",
              "</style>\n",
              "<table border=\"1\" class=\"dataframe\">\n",
              "  <thead>\n",
              "    <tr style=\"text-align: right;\">\n",
              "      <th></th>\n",
              "      <th>dist2</th>\n",
              "      <th>DeviceInfo</th>\n",
              "      <th>R_emaildomain</th>\n",
              "      <th>DeviceType</th>\n",
              "      <th>dist1</th>\n",
              "      <th>P_emaildomain</th>\n",
              "      <th>addr2</th>\n",
              "      <th>addr1</th>\n",
              "      <th>card4</th>\n",
              "      <th>card6</th>\n",
              "      <th>isFraud</th>\n",
              "      <th>ProductCD</th>\n",
              "      <th>TransactionAmt</th>\n",
              "      <th>TransactionDT</th>\n",
              "      <th>TransactionID</th>\n",
              "    </tr>\n",
              "  </thead>\n",
              "  <tbody>\n",
              "    <tr>\n",
              "      <th>0</th>\n",
              "      <td>535981</td>\n",
              "      <td>459818</td>\n",
              "      <td>443813</td>\n",
              "      <td>440278</td>\n",
              "      <td>336363</td>\n",
              "      <td>91666</td>\n",
              "      <td>57965</td>\n",
              "      <td>57965</td>\n",
              "      <td>1536</td>\n",
              "      <td>1532</td>\n",
              "      <td>0</td>\n",
              "      <td>0</td>\n",
              "      <td>0</td>\n",
              "      <td>0</td>\n",
              "      <td>0</td>\n",
              "    </tr>\n",
              "  </tbody>\n",
              "</table>\n",
              "</div>"
            ],
            "text/plain": [
              "    dist2  DeviceInfo  ...  TransactionDT  TransactionID\n",
              "0  535981      459818  ...              0              0\n",
              "\n",
              "[1 rows x 15 columns]"
            ]
          },
          "metadata": {
            "tags": []
          },
          "execution_count": 9
        }
      ]
    },
    {
      "cell_type": "code",
      "metadata": {
        "id": "rHEYFLUfmD6b",
        "colab_type": "code",
        "outputId": "01f9da7c-d6b4-4241-c08d-b8e25194169c",
        "colab": {
          "base_uri": "https://localhost:8080/",
          "height": 99
        }
      },
      "source": [
        "fraudulent_null_stats = fraudulent_df.isnull().sum().sort_values(ascending=False).to_frame().transpose()\n",
        "percent_fraud_nulls = fraudulent_null_stats * 100.0/ rows_in_fraud\n",
        "fraudulent_null_stats"
      ],
      "execution_count": 10,
      "outputs": [
        {
          "output_type": "execute_result",
          "data": {
            "text/html": [
              "<div>\n",
              "<style scoped>\n",
              "    .dataframe tbody tr th:only-of-type {\n",
              "        vertical-align: middle;\n",
              "    }\n",
              "\n",
              "    .dataframe tbody tr th {\n",
              "        vertical-align: top;\n",
              "    }\n",
              "\n",
              "    .dataframe thead th {\n",
              "        text-align: right;\n",
              "    }\n",
              "</style>\n",
              "<table border=\"1\" class=\"dataframe\">\n",
              "  <thead>\n",
              "    <tr style=\"text-align: right;\">\n",
              "      <th></th>\n",
              "      <th>dist2</th>\n",
              "      <th>dist1</th>\n",
              "      <th>DeviceInfo</th>\n",
              "      <th>DeviceType</th>\n",
              "      <th>R_emaildomain</th>\n",
              "      <th>addr2</th>\n",
              "      <th>addr1</th>\n",
              "      <th>P_emaildomain</th>\n",
              "      <th>card4</th>\n",
              "      <th>card6</th>\n",
              "      <th>isFraud</th>\n",
              "      <th>ProductCD</th>\n",
              "      <th>TransactionAmt</th>\n",
              "      <th>TransactionDT</th>\n",
              "      <th>TransactionID</th>\n",
              "    </tr>\n",
              "  </thead>\n",
              "  <tbody>\n",
              "    <tr>\n",
              "      <th>0</th>\n",
              "      <td>16932</td>\n",
              "      <td>15908</td>\n",
              "      <td>12056</td>\n",
              "      <td>9452</td>\n",
              "      <td>9436</td>\n",
              "      <td>7741</td>\n",
              "      <td>7741</td>\n",
              "      <td>2790</td>\n",
              "      <td>41</td>\n",
              "      <td>39</td>\n",
              "      <td>0</td>\n",
              "      <td>0</td>\n",
              "      <td>0</td>\n",
              "      <td>0</td>\n",
              "      <td>0</td>\n",
              "    </tr>\n",
              "  </tbody>\n",
              "</table>\n",
              "</div>"
            ],
            "text/plain": [
              "   dist2  dist1  DeviceInfo  ...  TransactionAmt  TransactionDT  TransactionID\n",
              "0  16932  15908       12056  ...               0              0              0\n",
              "\n",
              "[1 rows x 15 columns]"
            ]
          },
          "metadata": {
            "tags": []
          },
          "execution_count": 10
        }
      ]
    },
    {
      "cell_type": "code",
      "metadata": {
        "id": "WtnFPVP86-u5",
        "colab_type": "code",
        "outputId": "c066e562-2642-4a98-f3ba-532317593e83",
        "colab": {
          "base_uri": "https://localhost:8080/",
          "height": 297
        }
      },
      "source": [
        "percent_fraud_nulls.plot.bar()"
      ],
      "execution_count": 11,
      "outputs": [
        {
          "output_type": "execute_result",
          "data": {
            "text/plain": [
              "<matplotlib.axes._subplots.AxesSubplot at 0x7fa4b2261d68>"
            ]
          },
          "metadata": {
            "tags": []
          },
          "execution_count": 11
        },
        {
          "output_type": "display_data",
          "data": {
            "image/png": "[encoded data removed]",
            "text/plain": [
              "<Figure size 432x288 with 1 Axes>"
            ]
          },
          "metadata": {
            "tags": []
          }
        }
      ]
    },
    {
      "cell_type": "code",
      "metadata": {
        "id": "Nfcndei6DnPx",
        "colab_type": "code",
        "outputId": "32a0042d-30e5-4753-bea1-ab4758c2f2a4",
        "colab": {
          "base_uri": "https://localhost:8080/",
          "height": 297
        }
      },
      "source": [
        "percent_non_fraud_nulls.plot.bar()"
      ],
      "execution_count": 12,
      "outputs": [
        {
          "output_type": "execute_result",
          "data": {
            "text/plain": [
              "<matplotlib.axes._subplots.AxesSubplot at 0x7fa4b1de49b0>"
            ]
          },
          "metadata": {
            "tags": []
          },
          "execution_count": 12
        },
        {
          "output_type": "display_data",
          "data": {
            "image/png": "[encoded data removed]",
            "text/plain": [
              "<Figure size 432x288 with 1 Axes>"
            ]
          },
          "metadata": {
            "tags": []
          }
        }
      ]
    },
    {
      "cell_type": "code",
      "metadata": {
        "id": "D8qjWzhUMU91",
        "colab_type": "code",
        "outputId": "74c31c58-1c66-4ffd-8c9c-cabbe15a2d78",
        "colab": {
          "base_uri": "https://localhost:8080/",
          "height": 271
        }
      },
      "source": [
        "percent_fraud_nulls['tag'] = 'fraud'\n",
        "percent_non_fraud_nulls['tag'] = 'non_fraud'\n",
        "combined_percent_nulls = pd.concat([percent_fraud_nulls, percent_non_fraud_nulls], keys=['fraud', 'non_fraud'])\n",
        "combined_percent_nulls"
      ],
      "execution_count": 13,
      "outputs": [
        {
          "output_type": "stream",
          "text": [
            "/usr/local/lib/python3.6/dist-packages/ipykernel_launcher.py:3: FutureWarning: Sorting because non-concatenation axis is not aligned. A future version\n",
            "of pandas will change to not sort by default.\n",
            "\n",
            "To accept the future behavior, pass 'sort=False'.\n",
            "\n",
            "To retain the current behavior and silence the warning, pass 'sort=True'.\n",
            "\n",
            "  This is separate from the ipykernel package so we can avoid doing imports until\n"
          ],
          "name": "stderr"
        },
        {
          "output_type": "execute_result",
          "data": {
            "text/html": [
              "<div>\n",
              "<style scoped>\n",
              "    .dataframe tbody tr th:only-of-type {\n",
              "        vertical-align: middle;\n",
              "    }\n",
              "\n",
              "    .dataframe tbody tr th {\n",
              "        vertical-align: top;\n",
              "    }\n",
              "\n",
              "    .dataframe thead th {\n",
              "        text-align: right;\n",
              "    }\n",
              "</style>\n",
              "<table border=\"1\" class=\"dataframe\">\n",
              "  <thead>\n",
              "    <tr style=\"text-align: right;\">\n",
              "      <th></th>\n",
              "      <th></th>\n",
              "      <th>DeviceInfo</th>\n",
              "      <th>DeviceType</th>\n",
              "      <th>P_emaildomain</th>\n",
              "      <th>ProductCD</th>\n",
              "      <th>R_emaildomain</th>\n",
              "      <th>TransactionAmt</th>\n",
              "      <th>TransactionDT</th>\n",
              "      <th>TransactionID</th>\n",
              "      <th>addr1</th>\n",
              "      <th>addr2</th>\n",
              "      <th>card4</th>\n",
              "      <th>card6</th>\n",
              "      <th>dist1</th>\n",
              "      <th>dist2</th>\n",
              "      <th>isFraud</th>\n",
              "      <th>tag</th>\n",
              "    </tr>\n",
              "  </thead>\n",
              "  <tbody>\n",
              "    <tr>\n",
              "      <th>fraud</th>\n",
              "      <th>0</th>\n",
              "      <td>58.345836</td>\n",
              "      <td>45.743600</td>\n",
              "      <td>13.502396</td>\n",
              "      <td>0.0</td>\n",
              "      <td>45.666167</td>\n",
              "      <td>0.0</td>\n",
              "      <td>0.0</td>\n",
              "      <td>0.0</td>\n",
              "      <td>37.463098</td>\n",
              "      <td>37.463098</td>\n",
              "      <td>0.198422</td>\n",
              "      <td>0.188743</td>\n",
              "      <td>76.987853</td>\n",
              "      <td>81.943571</td>\n",
              "      <td>0.0</td>\n",
              "      <td>fraud</td>\n",
              "    </tr>\n",
              "    <tr>\n",
              "      <th>non_fraud</th>\n",
              "      <th>0</th>\n",
              "      <td>80.687236</td>\n",
              "      <td>77.258426</td>\n",
              "      <td>16.085225</td>\n",
              "      <td>0.0</td>\n",
              "      <td>77.878735</td>\n",
              "      <td>0.0</td>\n",
              "      <td>0.0</td>\n",
              "      <td>0.0</td>\n",
              "      <td>10.171493</td>\n",
              "      <td>10.171493</td>\n",
              "      <td>0.269532</td>\n",
              "      <td>0.268830</td>\n",
              "      <td>59.023789</td>\n",
              "      <td>94.052050</td>\n",
              "      <td>0.0</td>\n",
              "      <td>non_fraud</td>\n",
              "    </tr>\n",
              "  </tbody>\n",
              "</table>\n",
              "</div>"
            ],
            "text/plain": [
              "             DeviceInfo  DeviceType  ...  isFraud        tag\n",
              "fraud     0   58.345836   45.743600  ...      0.0      fraud\n",
              "non_fraud 0   80.687236   77.258426  ...      0.0  non_fraud\n",
              "\n",
              "[2 rows x 16 columns]"
            ]
          },
          "metadata": {
            "tags": []
          },
          "execution_count": 13
        }
      ]
    },
    {
      "cell_type": "markdown",
      "metadata": {
        "id": "G9VBemL14VKv",
        "colab_type": "text"
      },
      "source": [
        "## Observation from visualization around null values in Fraud transactions and Non-Fraud transactions ##\n",
        "1. Just like the non-fraud transactions, majority of null values in fraud transactions are from distances, devices and email addresses.\n",
        "2. The key difference is in the field of `DeviceInfo` (Windows/Mac OS), `DeviceType` (mobile, desktop), `R_emaildomain` (receipient email).\n",
        "  \n",
        "    a. For fraud transaction `null` values for DeviceInfo is around 58% of its set, whereas for non-fraud transactions its around 80%. \n",
        "  \n",
        "    b. For fraud transaction `null` values for DeviceType is around 45% of its set, whereas for non-fraud transaction its around 77%.\n",
        "  \n",
        "    c. Also receipent email address are `null` for 45% of its set, whereas for non-fraud transaction its 77%.\n",
        "  \n",
        " One possible explanation for above discrepancy could be: the values for above details like email address are usually not provided or deferred by benevolent transactions, but a fraudster may have provided fake values instead of ignoring like a regular transactor. This in-turn reduced `null` values for fraud transactions."
      ]
    },
    {
      "cell_type": "markdown",
      "metadata": {
        "id": "SO40V6LVGQai",
        "colab_type": "text"
      },
      "source": [
        "## Observing distributions of fields among fraudulent and non-fraudulent transactions ##"
      ]
    },
    {
      "cell_type": "code",
      "metadata": {
        "id": "2MTgA9_P3v8a",
        "colab_type": "code",
        "outputId": "45d2ff97-f18a-4b6a-9099-366721360b4e",
        "colab": {
          "base_uri": "https://localhost:8080/",
          "height": 297
        }
      },
      "source": [
        "fraud_hists = fraudulent_df.hist()\n",
        "plt.tight_layout()"
      ],
      "execution_count": 14,
      "outputs": [
        {
          "output_type": "display_data",
          "data": {
            "image/png": "[encoded data removed]",
            "text/plain": [
              "<Figure size 432x288 with 9 Axes>"
            ]
          },
          "metadata": {
            "tags": []
          }
        }
      ]
    },
    {
      "cell_type": "code",
      "metadata": {
        "id": "qRoSZLGf6IRk",
        "colab_type": "code",
        "outputId": "cb4da4ca-466f-433c-b38a-10483b6236a5",
        "colab": {
          "base_uri": "https://localhost:8080/",
          "height": 297
        }
      },
      "source": [
        "non_fraud_hists = non_fraudulent_df.hist()\n",
        "plt.tight_layout()"
      ],
      "execution_count": 15,
      "outputs": [
        {
          "output_type": "display_data",
          "data": {
            "image/png": "[encoded data removed]",
            "text/plain": [
              "<Figure size 432x288 with 9 Axes>"
            ]
          },
          "metadata": {
            "tags": []
          }
        }
      ]
    },
    {
      "cell_type": "markdown",
      "metadata": {
        "id": "7ZPbnitcGiHG",
        "colab_type": "text"
      },
      "source": [
        "## Conclusion ##\n",
        "Apart from maximum frequency all histograms depict same kind of spread of values between fraudulent transactions and non-fraudulent transactions. The maximum frequency is different obviously because fraudulent transactions are only small fraction (~ 4%) of the global data-set"
      ]
    },
    {
      "cell_type": "code",
      "metadata": {
        "id": "ccZTv67a9lk1",
        "colab_type": "code",
        "colab": {}
      },
      "source": [
        "# https://stackoverflow.com/questions/51749208/plotting-two-histograms-from-a-pandas-dataframe-in-one-subplot-using-matplotlib"
      ],
      "execution_count": 0,
      "outputs": []
    },
    {
      "cell_type": "code",
      "metadata": {
        "id": "5wnn-GXPCBUx",
        "colab_type": "code",
        "colab": {}
      },
      "source": [
        "# figure, axes = plt.subplots(1,2)\n",
        "\n",
        "# fraud_cut_df = fraudulent_df[fraudulent_df.TransactionAmt < 2000]\n",
        "# non_fraud_cut_df = non_fraudulent_df[non_fraudulent_df.TransactionAmt < 2000]\n",
        "# fraud_cut_df.TransactionAmt.hist(bins=30, ax=axes[0])\n",
        "# non_fraud_cut_df.TransactionAmt.hist(bins=30, ax=axes[1])\n",
        "# axes[0].set_title(\"fraud\")\n",
        "# axes[1].set_title(\"non_fraud\")\n",
        "# # plt.subplot(1,2,2)\n",
        "# plt.tight_layout()"
      ],
      "execution_count": 0,
      "outputs": []
    },
    {
      "cell_type": "markdown",
      "metadata": {
        "id": "OXyzCVAWHSZZ",
        "colab_type": "text"
      },
      "source": [
        "## Observing max-min-std of the fields among fraud vs non-fraud transactions ##"
      ]
    },
    {
      "cell_type": "code",
      "metadata": {
        "id": "keBe3sphEUMS",
        "colab_type": "code",
        "outputId": "38cc6557-91cc-47b2-de85-c45966ed8c17",
        "colab": {
          "base_uri": "https://localhost:8080/",
          "height": 295
        }
      },
      "source": [
        "fraudulent_df.describe()"
      ],
      "execution_count": 18,
      "outputs": [
        {
          "output_type": "execute_result",
          "data": {
            "text/html": [
              "<div>\n",
              "<style scoped>\n",
              "    .dataframe tbody tr th:only-of-type {\n",
              "        vertical-align: middle;\n",
              "    }\n",
              "\n",
              "    .dataframe tbody tr th {\n",
              "        vertical-align: top;\n",
              "    }\n",
              "\n",
              "    .dataframe thead th {\n",
              "        text-align: right;\n",
              "    }\n",
              "</style>\n",
              "<table border=\"1\" class=\"dataframe\">\n",
              "  <thead>\n",
              "    <tr style=\"text-align: right;\">\n",
              "      <th></th>\n",
              "      <th>TransactionID</th>\n",
              "      <th>TransactionDT</th>\n",
              "      <th>TransactionAmt</th>\n",
              "      <th>addr1</th>\n",
              "      <th>addr2</th>\n",
              "      <th>dist1</th>\n",
              "      <th>dist2</th>\n",
              "      <th>isFraud</th>\n",
              "    </tr>\n",
              "  </thead>\n",
              "  <tbody>\n",
              "    <tr>\n",
              "      <th>count</th>\n",
              "      <td>2.066300e+04</td>\n",
              "      <td>2.066300e+04</td>\n",
              "      <td>20663.000000</td>\n",
              "      <td>12922.000000</td>\n",
              "      <td>12922.000000</td>\n",
              "      <td>4755.000000</td>\n",
              "      <td>3731.000000</td>\n",
              "      <td>20663.0</td>\n",
              "    </tr>\n",
              "    <tr>\n",
              "      <th>mean</th>\n",
              "      <td>3.294952e+06</td>\n",
              "      <td>7.690033e+06</td>\n",
              "      <td>149.244779</td>\n",
              "      <td>294.317134</td>\n",
              "      <td>86.286024</td>\n",
              "      <td>174.588854</td>\n",
              "      <td>201.472259</td>\n",
              "      <td>1.0</td>\n",
              "    </tr>\n",
              "    <tr>\n",
              "      <th>std</th>\n",
              "      <td>1.620403e+05</td>\n",
              "      <td>4.416551e+06</td>\n",
              "      <td>232.212163</td>\n",
              "      <td>103.584955</td>\n",
              "      <td>4.936238</td>\n",
              "      <td>424.232313</td>\n",
              "      <td>451.589576</td>\n",
              "      <td>0.0</td>\n",
              "    </tr>\n",
              "    <tr>\n",
              "      <th>min</th>\n",
              "      <td>2.987203e+06</td>\n",
              "      <td>8.976000e+04</td>\n",
              "      <td>0.292000</td>\n",
              "      <td>110.000000</td>\n",
              "      <td>10.000000</td>\n",
              "      <td>0.000000</td>\n",
              "      <td>0.000000</td>\n",
              "      <td>1.0</td>\n",
              "    </tr>\n",
              "    <tr>\n",
              "      <th>25%</th>\n",
              "      <td>3.167366e+06</td>\n",
              "      <td>3.965858e+06</td>\n",
              "      <td>35.044000</td>\n",
              "      <td>204.000000</td>\n",
              "      <td>87.000000</td>\n",
              "      <td>3.000000</td>\n",
              "      <td>7.000000</td>\n",
              "      <td>1.0</td>\n",
              "    </tr>\n",
              "    <tr>\n",
              "      <th>50%</th>\n",
              "      <td>3.291934e+06</td>\n",
              "      <td>7.575230e+06</td>\n",
              "      <td>75.000000</td>\n",
              "      <td>299.000000</td>\n",
              "      <td>87.000000</td>\n",
              "      <td>10.000000</td>\n",
              "      <td>49.000000</td>\n",
              "      <td>1.0</td>\n",
              "    </tr>\n",
              "    <tr>\n",
              "      <th>75%</th>\n",
              "      <td>3.428646e+06</td>\n",
              "      <td>1.121743e+07</td>\n",
              "      <td>161.000000</td>\n",
              "      <td>330.000000</td>\n",
              "      <td>87.000000</td>\n",
              "      <td>85.500000</td>\n",
              "      <td>233.000000</td>\n",
              "      <td>1.0</td>\n",
              "    </tr>\n",
              "    <tr>\n",
              "      <th>max</th>\n",
              "      <td>3.577526e+06</td>\n",
              "      <td>1.581088e+07</td>\n",
              "      <td>5191.000000</td>\n",
              "      <td>536.000000</td>\n",
              "      <td>96.000000</td>\n",
              "      <td>4942.000000</td>\n",
              "      <td>9337.000000</td>\n",
              "      <td>1.0</td>\n",
              "    </tr>\n",
              "  </tbody>\n",
              "</table>\n",
              "</div>"
            ],
            "text/plain": [
              "       TransactionID  TransactionDT  ...        dist2  isFraud\n",
              "count   2.066300e+04   2.066300e+04  ...  3731.000000  20663.0\n",
              "mean    3.294952e+06   7.690033e+06  ...   201.472259      1.0\n",
              "std     1.620403e+05   4.416551e+06  ...   451.589576      0.0\n",
              "min     2.987203e+06   8.976000e+04  ...     0.000000      1.0\n",
              "25%     3.167366e+06   3.965858e+06  ...     7.000000      1.0\n",
              "50%     3.291934e+06   7.575230e+06  ...    49.000000      1.0\n",
              "75%     3.428646e+06   1.121743e+07  ...   233.000000      1.0\n",
              "max     3.577526e+06   1.581088e+07  ...  9337.000000      1.0\n",
              "\n",
              "[8 rows x 8 columns]"
            ]
          },
          "metadata": {
            "tags": []
          },
          "execution_count": 18
        }
      ]
    },
    {
      "cell_type": "code",
      "metadata": {
        "id": "dzcnT1EY6olH",
        "colab_type": "code",
        "outputId": "ff5d36d7-89ce-41d6-9f1e-8452d95d06ff",
        "colab": {
          "base_uri": "https://localhost:8080/",
          "height": 295
        }
      },
      "source": [
        "non_fraudulent_df.describe()"
      ],
      "execution_count": 19,
      "outputs": [
        {
          "output_type": "execute_result",
          "data": {
            "text/html": [
              "<div>\n",
              "<style scoped>\n",
              "    .dataframe tbody tr th:only-of-type {\n",
              "        vertical-align: middle;\n",
              "    }\n",
              "\n",
              "    .dataframe tbody tr th {\n",
              "        vertical-align: top;\n",
              "    }\n",
              "\n",
              "    .dataframe thead th {\n",
              "        text-align: right;\n",
              "    }\n",
              "</style>\n",
              "<table border=\"1\" class=\"dataframe\">\n",
              "  <thead>\n",
              "    <tr style=\"text-align: right;\">\n",
              "      <th></th>\n",
              "      <th>TransactionID</th>\n",
              "      <th>TransactionDT</th>\n",
              "      <th>TransactionAmt</th>\n",
              "      <th>addr1</th>\n",
              "      <th>addr2</th>\n",
              "      <th>dist1</th>\n",
              "      <th>dist2</th>\n",
              "      <th>isFraud</th>\n",
              "    </tr>\n",
              "  </thead>\n",
              "  <tbody>\n",
              "    <tr>\n",
              "      <th>count</th>\n",
              "      <td>5.698770e+05</td>\n",
              "      <td>5.698770e+05</td>\n",
              "      <td>569877.000000</td>\n",
              "      <td>511912.000000</td>\n",
              "      <td>511912.000000</td>\n",
              "      <td>233514.000000</td>\n",
              "      <td>33896.000000</td>\n",
              "      <td>569877.0</td>\n",
              "    </tr>\n",
              "    <tr>\n",
              "      <th>mean</th>\n",
              "      <td>3.281810e+06</td>\n",
              "      <td>7.360791e+06</td>\n",
              "      <td>134.511665</td>\n",
              "      <td>290.643341</td>\n",
              "      <td>86.813620</td>\n",
              "      <td>117.360098</td>\n",
              "      <td>235.199758</td>\n",
              "      <td>0.0</td>\n",
              "    </tr>\n",
              "    <tr>\n",
              "      <th>std</th>\n",
              "      <td>1.707548e+05</td>\n",
              "      <td>4.623930e+06</td>\n",
              "      <td>239.395078</td>\n",
              "      <td>101.692564</td>\n",
              "      <td>2.607742</td>\n",
              "      <td>370.641879</td>\n",
              "      <td>536.798492</td>\n",
              "      <td>0.0</td>\n",
              "    </tr>\n",
              "    <tr>\n",
              "      <th>min</th>\n",
              "      <td>2.987000e+06</td>\n",
              "      <td>8.640000e+04</td>\n",
              "      <td>0.251000</td>\n",
              "      <td>100.000000</td>\n",
              "      <td>13.000000</td>\n",
              "      <td>0.000000</td>\n",
              "      <td>0.000000</td>\n",
              "      <td>0.0</td>\n",
              "    </tr>\n",
              "    <tr>\n",
              "      <th>25%</th>\n",
              "      <td>3.133317e+06</td>\n",
              "      <td>3.010651e+06</td>\n",
              "      <td>43.970000</td>\n",
              "      <td>204.000000</td>\n",
              "      <td>87.000000</td>\n",
              "      <td>3.000000</td>\n",
              "      <td>7.000000</td>\n",
              "      <td>0.0</td>\n",
              "    </tr>\n",
              "    <tr>\n",
              "      <th>50%</th>\n",
              "      <td>3.281808e+06</td>\n",
              "      <td>7.271678e+06</td>\n",
              "      <td>68.500000</td>\n",
              "      <td>299.000000</td>\n",
              "      <td>87.000000</td>\n",
              "      <td>8.000000</td>\n",
              "      <td>36.000000</td>\n",
              "      <td>0.0</td>\n",
              "    </tr>\n",
              "    <tr>\n",
              "      <th>75%</th>\n",
              "      <td>3.429974e+06</td>\n",
              "      <td>1.125334e+07</td>\n",
              "      <td>120.000000</td>\n",
              "      <td>330.000000</td>\n",
              "      <td>87.000000</td>\n",
              "      <td>24.000000</td>\n",
              "      <td>206.000000</td>\n",
              "      <td>0.0</td>\n",
              "    </tr>\n",
              "    <tr>\n",
              "      <th>max</th>\n",
              "      <td>3.577539e+06</td>\n",
              "      <td>1.581113e+07</td>\n",
              "      <td>31937.391000</td>\n",
              "      <td>540.000000</td>\n",
              "      <td>102.000000</td>\n",
              "      <td>10286.000000</td>\n",
              "      <td>11623.000000</td>\n",
              "      <td>0.0</td>\n",
              "    </tr>\n",
              "  </tbody>\n",
              "</table>\n",
              "</div>"
            ],
            "text/plain": [
              "       TransactionID  TransactionDT  ...         dist2   isFraud\n",
              "count   5.698770e+05   5.698770e+05  ...  33896.000000  569877.0\n",
              "mean    3.281810e+06   7.360791e+06  ...    235.199758       0.0\n",
              "std     1.707548e+05   4.623930e+06  ...    536.798492       0.0\n",
              "min     2.987000e+06   8.640000e+04  ...      0.000000       0.0\n",
              "25%     3.133317e+06   3.010651e+06  ...      7.000000       0.0\n",
              "50%     3.281808e+06   7.271678e+06  ...     36.000000       0.0\n",
              "75%     3.429974e+06   1.125334e+07  ...    206.000000       0.0\n",
              "max     3.577539e+06   1.581113e+07  ...  11623.000000       0.0\n",
              "\n",
              "[8 rows x 8 columns]"
            ]
          },
          "metadata": {
            "tags": []
          },
          "execution_count": 19
        }
      ]
    },
    {
      "cell_type": "markdown",
      "metadata": {
        "id": "c5CU6MYsHifk",
        "colab_type": "text"
      },
      "source": [
        "## Conclusion ##\n",
        "\n",
        "\n",
        "1.   The max value of `TransactionAmt` for fraudulent transactions is 5191, whereas for non-fraudulent transaction it is 31937 (which is roughly 6 times). This suggests that fraudulent transactions are possibly done in smaller denominations may be to avoid flagging or alerting existing Fraud-Detection Systems \n",
        "2.   The max value of `dist1` for fraudulent transactions is 4942, whereas for non-fraudulent transaction it is 10286 (which is roughly twice). It suggests that either the fraudster did frauds at smaller distances or  fraudster recorded fake details regarding address or distances in their order details\n",
        "3.   The standard deviation of `addr2` of fraudulent transactions is 4.93, whereas for non-fraudulent transactions is 2.6 (which is roughly half). This indicates that the spread of billing region or billing country details for fraudulent transactions is much higher may be because the fraudster were faking their details\n",
        "\n"
      ]
    },
    {
      "cell_type": "markdown",
      "metadata": {
        "id": "I0PbMl8CTBgB",
        "colab_type": "text"
      },
      "source": [
        "## Part 2 - Transaction Frequency"
      ]
    },
    {
      "cell_type": "code",
      "metadata": {
        "id": "Ym6X1uW3TBgC",
        "colab_type": "code",
        "outputId": "62b77201-97a5-4ed0-a7ab-073342fbe777",
        "colab": {
          "base_uri": "https://localhost:8080/",
          "height": 295
        }
      },
      "source": [
        "# TODO: code to generate the frequency graph\n",
        "base_df.describe()"
      ],
      "execution_count": 20,
      "outputs": [
        {
          "output_type": "execute_result",
          "data": {
            "text/html": [
              "<div>\n",
              "<style scoped>\n",
              "    .dataframe tbody tr th:only-of-type {\n",
              "        vertical-align: middle;\n",
              "    }\n",
              "\n",
              "    .dataframe tbody tr th {\n",
              "        vertical-align: top;\n",
              "    }\n",
              "\n",
              "    .dataframe thead th {\n",
              "        text-align: right;\n",
              "    }\n",
              "</style>\n",
              "<table border=\"1\" class=\"dataframe\">\n",
              "  <thead>\n",
              "    <tr style=\"text-align: right;\">\n",
              "      <th></th>\n",
              "      <th>TransactionID</th>\n",
              "      <th>TransactionDT</th>\n",
              "      <th>TransactionAmt</th>\n",
              "      <th>addr1</th>\n",
              "      <th>addr2</th>\n",
              "      <th>dist1</th>\n",
              "      <th>dist2</th>\n",
              "      <th>isFraud</th>\n",
              "    </tr>\n",
              "  </thead>\n",
              "  <tbody>\n",
              "    <tr>\n",
              "      <th>count</th>\n",
              "      <td>5.905400e+05</td>\n",
              "      <td>5.905400e+05</td>\n",
              "      <td>590540.000000</td>\n",
              "      <td>524834.000000</td>\n",
              "      <td>524834.000000</td>\n",
              "      <td>238269.000000</td>\n",
              "      <td>37627.000000</td>\n",
              "      <td>590540.000000</td>\n",
              "    </tr>\n",
              "    <tr>\n",
              "      <th>mean</th>\n",
              "      <td>3.282270e+06</td>\n",
              "      <td>7.372311e+06</td>\n",
              "      <td>135.027176</td>\n",
              "      <td>290.733794</td>\n",
              "      <td>86.800630</td>\n",
              "      <td>118.502180</td>\n",
              "      <td>231.855423</td>\n",
              "      <td>0.034990</td>\n",
              "    </tr>\n",
              "    <tr>\n",
              "      <th>std</th>\n",
              "      <td>1.704744e+05</td>\n",
              "      <td>4.617224e+06</td>\n",
              "      <td>239.162522</td>\n",
              "      <td>101.741072</td>\n",
              "      <td>2.690623</td>\n",
              "      <td>371.872026</td>\n",
              "      <td>529.053494</td>\n",
              "      <td>0.183755</td>\n",
              "    </tr>\n",
              "    <tr>\n",
              "      <th>min</th>\n",
              "      <td>2.987000e+06</td>\n",
              "      <td>8.640000e+04</td>\n",
              "      <td>0.251000</td>\n",
              "      <td>100.000000</td>\n",
              "      <td>10.000000</td>\n",
              "      <td>0.000000</td>\n",
              "      <td>0.000000</td>\n",
              "      <td>0.000000</td>\n",
              "    </tr>\n",
              "    <tr>\n",
              "      <th>25%</th>\n",
              "      <td>3.134635e+06</td>\n",
              "      <td>3.027058e+06</td>\n",
              "      <td>43.321000</td>\n",
              "      <td>204.000000</td>\n",
              "      <td>87.000000</td>\n",
              "      <td>3.000000</td>\n",
              "      <td>7.000000</td>\n",
              "      <td>0.000000</td>\n",
              "    </tr>\n",
              "    <tr>\n",
              "      <th>50%</th>\n",
              "      <td>3.282270e+06</td>\n",
              "      <td>7.306528e+06</td>\n",
              "      <td>68.769000</td>\n",
              "      <td>299.000000</td>\n",
              "      <td>87.000000</td>\n",
              "      <td>8.000000</td>\n",
              "      <td>37.000000</td>\n",
              "      <td>0.000000</td>\n",
              "    </tr>\n",
              "    <tr>\n",
              "      <th>75%</th>\n",
              "      <td>3.429904e+06</td>\n",
              "      <td>1.124662e+07</td>\n",
              "      <td>125.000000</td>\n",
              "      <td>330.000000</td>\n",
              "      <td>87.000000</td>\n",
              "      <td>24.000000</td>\n",
              "      <td>206.000000</td>\n",
              "      <td>0.000000</td>\n",
              "    </tr>\n",
              "    <tr>\n",
              "      <th>max</th>\n",
              "      <td>3.577539e+06</td>\n",
              "      <td>1.581113e+07</td>\n",
              "      <td>31937.391000</td>\n",
              "      <td>540.000000</td>\n",
              "      <td>102.000000</td>\n",
              "      <td>10286.000000</td>\n",
              "      <td>11623.000000</td>\n",
              "      <td>1.000000</td>\n",
              "    </tr>\n",
              "  </tbody>\n",
              "</table>\n",
              "</div>"
            ],
            "text/plain": [
              "       TransactionID  TransactionDT  ...         dist2        isFraud\n",
              "count   5.905400e+05   5.905400e+05  ...  37627.000000  590540.000000\n",
              "mean    3.282270e+06   7.372311e+06  ...    231.855423       0.034990\n",
              "std     1.704744e+05   4.617224e+06  ...    529.053494       0.183755\n",
              "min     2.987000e+06   8.640000e+04  ...      0.000000       0.000000\n",
              "25%     3.134635e+06   3.027058e+06  ...      7.000000       0.000000\n",
              "50%     3.282270e+06   7.306528e+06  ...     37.000000       0.000000\n",
              "75%     3.429904e+06   1.124662e+07  ...    206.000000       0.000000\n",
              "max     3.577539e+06   1.581113e+07  ...  11623.000000       1.000000\n",
              "\n",
              "[8 rows x 8 columns]"
            ]
          },
          "metadata": {
            "tags": []
          },
          "execution_count": 20
        }
      ]
    },
    {
      "cell_type": "markdown",
      "metadata": {
        "id": "gyvgcIByxEu-",
        "colab_type": "text"
      },
      "source": [
        "### https://pandas.pydata.org/pandas-docs/stable/reference/api/pandas.cut.html\n",
        "### https://stackoverflow.com/questions/21441259/pandas-groupby-range-of-values"
      ]
    },
    {
      "cell_type": "code",
      "metadata": {
        "id": "IwlLdEIMRoY-",
        "colab_type": "code",
        "outputId": "6806d240-7f24-4ca3-f13d-3942eb2e7c0f",
        "colab": {
          "base_uri": "https://localhost:8080/",
          "height": 203
        }
      },
      "source": [
        "country_code_freq = base_df['addr2'].value_counts()\n",
        "country_code_freq = country_code_freq.rename_axis('country_code').reset_index(name='country_transaction_counts')\n",
        "country_code_freq.head()"
      ],
      "execution_count": 21,
      "outputs": [
        {
          "output_type": "execute_result",
          "data": {
            "text/html": [
              "<div>\n",
              "<style scoped>\n",
              "    .dataframe tbody tr th:only-of-type {\n",
              "        vertical-align: middle;\n",
              "    }\n",
              "\n",
              "    .dataframe tbody tr th {\n",
              "        vertical-align: top;\n",
              "    }\n",
              "\n",
              "    .dataframe thead th {\n",
              "        text-align: right;\n",
              "    }\n",
              "</style>\n",
              "<table border=\"1\" class=\"dataframe\">\n",
              "  <thead>\n",
              "    <tr style=\"text-align: right;\">\n",
              "      <th></th>\n",
              "      <th>country_code</th>\n",
              "      <th>country_transaction_counts</th>\n",
              "    </tr>\n",
              "  </thead>\n",
              "  <tbody>\n",
              "    <tr>\n",
              "      <th>0</th>\n",
              "      <td>87.0</td>\n",
              "      <td>520481</td>\n",
              "    </tr>\n",
              "    <tr>\n",
              "      <th>1</th>\n",
              "      <td>60.0</td>\n",
              "      <td>3084</td>\n",
              "    </tr>\n",
              "    <tr>\n",
              "      <th>2</th>\n",
              "      <td>96.0</td>\n",
              "      <td>638</td>\n",
              "    </tr>\n",
              "    <tr>\n",
              "      <th>3</th>\n",
              "      <td>32.0</td>\n",
              "      <td>91</td>\n",
              "    </tr>\n",
              "    <tr>\n",
              "      <th>4</th>\n",
              "      <td>65.0</td>\n",
              "      <td>82</td>\n",
              "    </tr>\n",
              "  </tbody>\n",
              "</table>\n",
              "</div>"
            ],
            "text/plain": [
              "   country_code  country_transaction_counts\n",
              "0          87.0                      520481\n",
              "1          60.0                        3084\n",
              "2          96.0                         638\n",
              "3          32.0                          91\n",
              "4          65.0                          82"
            ]
          },
          "metadata": {
            "tags": []
          },
          "execution_count": 21
        }
      ]
    },
    {
      "cell_type": "markdown",
      "metadata": {
        "id": "7qbh39VgoNzc",
        "colab_type": "text"
      },
      "source": [
        "### Maximum transaction country ###\n",
        "We can see in the above step that the country with maximum transactions is the country having country-code, 87 (~ 88% of transactions).\n",
        "So in the next step we observe the values of country with code 87. "
      ]
    },
    {
      "cell_type": "code",
      "metadata": {
        "id": "13OwDNi-Xg8_",
        "colab_type": "code",
        "colab": {}
      },
      "source": [
        "# max_transaction_dt = 15811130\n",
        "max_transaction_dt = 16000000\n",
        "transaction_bin_width = 86400 \n",
        "most_frequent_country = base_df[base_df.addr2 == 87]\n",
        "possible_bins = np.arange(0, max_transaction_dt + transaction_bin_width, transaction_bin_width)\n",
        "row_bin_tags = pd.cut(most_frequent_country[\"TransactionDT\"], bins=possible_bins, labels=np.arange(len(possible_bins) - 1))\n",
        "dayWiseTransactionCount = most_frequent_country.groupby(row_bin_tags).agg(['count'])[\"TransactionID\"]"
      ],
      "execution_count": 0,
      "outputs": []
    },
    {
      "cell_type": "code",
      "metadata": {
        "id": "d8tRrUjGz9Pi",
        "colab_type": "code",
        "colab": {
          "base_uri": "https://localhost:8080/",
          "height": 297
        },
        "outputId": "a5540bc7-dfe7-4795-a488-a9d0eaf66173"
      },
      "source": [
        "dayWiseTransactionCount.plot.bar()\n",
        "plt.tight_layout()"
      ],
      "execution_count": 51,
      "outputs": [
        {
          "output_type": "display_data",
          "data": {
            "image/png": "[encoded data removed]",
            "text/plain": [
              "<Figure size 432x288 with 1 Axes>"
            ]
          },
          "metadata": {
            "tags": []
          }
        }
      ]
    },
    {
      "cell_type": "code",
      "metadata": {
        "id": "oKI4pZtkOYR6",
        "colab_type": "code",
        "colab": {}
      },
      "source": [
        "max_transaction_dt = 16000000\n",
        "transaction_bin_width = 86400 \n",
        "most_frequent_country = base_df[base_df.addr2 == 87]\n",
        "possible_bins = np.arange(0, max_transaction_dt + transaction_bin_width, transaction_bin_width)\n",
        "row_bin_tags = pd.cut(most_frequent_country[\"TransactionDT\"], bins=possible_bins, labels=np.arange(len(possible_bins) - 1))\n",
        "dayWiseTransactionCount = most_frequent_country.groupby(row_bin_tags).agg(['count'])[\"TransactionID\"]"
      ],
      "execution_count": 0,
      "outputs": []
    },
    {
      "cell_type": "code",
      "metadata": {
        "id": "3sVm4PxnOfXq",
        "colab_type": "code",
        "colab": {}
      },
      "source": [
        ""
      ],
      "execution_count": 0,
      "outputs": []
    },
    {
      "cell_type": "markdown",
      "metadata": {
        "id": "RhLl5yH1TBgD",
        "colab_type": "text"
      },
      "source": [
        "As you can see, majority of the transactions were done in the earlier days in the time frame. There are only few outliers (a day or two) in the six month time frame"
      ]
    },
    {
      "cell_type": "markdown",
      "metadata": {
        "id": "npvl9QRiTBgD",
        "colab_type": "text"
      },
      "source": [
        "## Part 3 - Product Code"
      ]
    },
    {
      "cell_type": "code",
      "metadata": {
        "id": "rFldAsEXTBgE",
        "colab_type": "code",
        "colab": {}
      },
      "source": [
        "# TODO: code to analyze prices for different product codes"
      ],
      "execution_count": 0,
      "outputs": []
    },
    {
      "cell_type": "markdown",
      "metadata": {
        "id": "SamultT5TBgF",
        "colab_type": "text"
      },
      "source": [
        "Write your answer here"
      ]
    },
    {
      "cell_type": "markdown",
      "metadata": {
        "id": "QaYirDUtTBgG",
        "colab_type": "text"
      },
      "source": [
        "## Part 4 - Correlation Coefficient"
      ]
    },
    {
      "cell_type": "code",
      "metadata": {
        "id": "SLOwjDCiTBgG",
        "colab_type": "code",
        "colab": {}
      },
      "source": [
        "# TODO: code to calculate correlation coefficient"
      ],
      "execution_count": 0,
      "outputs": []
    },
    {
      "cell_type": "markdown",
      "metadata": {
        "id": "ejo0lJeXTBgI",
        "colab_type": "text"
      },
      "source": [
        "Write your answer here"
      ]
    },
    {
      "cell_type": "markdown",
      "metadata": {
        "id": "Dg4TVCkdTBgI",
        "colab_type": "text"
      },
      "source": [
        "## Part 5 - Interesting Plot"
      ]
    },
    {
      "cell_type": "code",
      "metadata": {
        "id": "LAWlWwDATBgJ",
        "colab_type": "code",
        "colab": {}
      },
      "source": [
        "# TODO: code to generate the plot here."
      ],
      "execution_count": 0,
      "outputs": []
    },
    {
      "cell_type": "markdown",
      "metadata": {
        "id": "4Qeuv9IlTBgK",
        "colab_type": "text"
      },
      "source": [
        "Write your answer here"
      ]
    },
    {
      "cell_type": "markdown",
      "metadata": {
        "id": "Xfv-OzpmTBgL",
        "colab_type": "text"
      },
      "source": [
        "## Part 6 - Prediction Model"
      ]
    },
    {
      "cell_type": "code",
      "metadata": {
        "id": "H5RpH6NyTBgM",
        "colab_type": "code",
        "colab": {}
      },
      "source": [
        "# TODO: code for your final model"
      ],
      "execution_count": 0,
      "outputs": []
    },
    {
      "cell_type": "markdown",
      "metadata": {
        "id": "MEpfZvzJTBgO",
        "colab_type": "text"
      },
      "source": [
        "Write your answer here"
      ]
    },
    {
      "cell_type": "markdown",
      "metadata": {
        "id": "yoJX5RDmTBgO",
        "colab_type": "text"
      },
      "source": [
        "## Part 7 - Final Result"
      ]
    },
    {
      "cell_type": "markdown",
      "metadata": {
        "id": "SpZZk0HHTBgP",
        "colab_type": "text"
      },
      "source": [
        "Report the rank, score, number of entries, for your highest rank. Include a snapshot of your best score on the leaderboard as confirmation. Be sure to provide a link to your Kaggle profile. Make sure to include a screenshot of your ranking. Make sure your profile includes your face and affiliation with SBU."
      ]
    },
    {
      "cell_type": "markdown",
      "metadata": {
        "id": "InjGZA_ETBgP",
        "colab_type": "text"
      },
      "source": [
        "Kaggle Link: FILL HERE"
      ]
    },
    {
      "cell_type": "markdown",
      "metadata": {
        "id": "AN_l82l7TBgQ",
        "colab_type": "text"
      },
      "source": [
        "Highest Rank: FILL HERE"
      ]
    },
    {
      "cell_type": "markdown",
      "metadata": {
        "id": "Wp_wU_BMTBgR",
        "colab_type": "text"
      },
      "source": [
        "Score: FILL HERE"
      ]
    },
    {
      "cell_type": "markdown",
      "metadata": {
        "id": "xeRlj35rTBgR",
        "colab_type": "text"
      },
      "source": [
        "Number of entries: FILL HERE"
      ]
    },
    {
      "cell_type": "markdown",
      "metadata": {
        "id": "2ZBbLTVPTBgR",
        "colab_type": "text"
      },
      "source": [
        "INCLUDE IMAGE OF YOUR KAGGLE RANKING"
      ]
    }
  ]
}